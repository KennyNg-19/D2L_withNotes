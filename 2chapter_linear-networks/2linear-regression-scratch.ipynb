{
 "cells": [
  {
   "cell_type": "markdown",
   "id": "7fefa86f",
   "metadata": {
    "origin_pos": 0
   },
   "source": [
    "# 线性回归的从零开始实现\n",
    ":label:`sec_linear_scratch`\n",
    "\n",
    "在了解线性回归的关键思想之后，我们可以开始通过代码来动手实现线性回归了。\n",
    "在这一节中，(**我们将从零开始实现整个方法，\n",
    "包括数据流水线、模型、损失函数和小批量随机梯度下降优化器**)。\n",
    "虽然现代的深度学习框架几乎可以自动化地进行所有这些工作，但从零开始实现可以确保你真正知道自己在做什么。\n",
    "同时，了解更细致的工作原理将方便我们自定义模型、自定义层或自定义损失函数。\n",
    "在这一节中，我们将只使用张量和自动求导。\n",
    "在之后的章节中，我们会充分利用深度学习框架的优势，介绍更简洁的实现方式。\n"
   ]
  },
  {
   "cell_type": "code",
   "execution_count": 3,
   "id": "a5c50cdb",
   "metadata": {
    "execution": {
     "iopub.execute_input": "2022-07-31T02:22:14.814998Z",
     "iopub.status.busy": "2022-07-31T02:22:14.814437Z",
     "iopub.status.idle": "2022-07-31T02:22:16.705021Z",
     "shell.execute_reply": "2022-07-31T02:22:16.704276Z"
    },
    "origin_pos": 2,
    "tab": [
     "pytorch"
    ]
   },
   "outputs": [],
   "source": [
    "%matplotlib inline\n",
    "import random\n",
    "import torch\n",
    "from d2l import torch as d2l"
   ]
  },
  {
   "cell_type": "markdown",
   "id": "fbddc07e",
   "metadata": {
    "origin_pos": 4
   },
   "source": [
    "## 生成数据集\n",
    "\n",
    "为了简单起见，我们将[**根据带有噪声的线性模型构造一个人造数据集。**]\n",
    "我们的任务是使用这个有限样本的数据集来恢复这个模型的参数。\n",
    "我们将使用低维数据，这样可以很容易地将其可视化。\n",
    "在下面的代码中，我们生成一个包含1000个样本的数据集，\n",
    "每个样本包含从标准正态分布中采样的2个特征。\n",
    "我们的合成数据集是一个矩阵$\\mathbf{X}\\in \\mathbb{R}^{1000 \\times 2}$。\n",
    "\n",
    "(**我们使用线性模型参数$\\mathbf{w} = [2, -3.4]^\\top$、$b = 4.2$\n",
    "和噪声项$\\epsilon$生成数据集及其标签：\n",
    "\n",
    "$$\\mathbf{y}= \\mathbf{X} \\mathbf{w} + b + \\mathbf\\epsilon.$$\n",
    "**)\n",
    "\n",
    "你可以将$\\epsilon$视为模型预测和标签时的潜在观测误差。\n",
    "在这里我们认为标准假设成立，即$\\epsilon$服从均值为0的正态分布。\n",
    "为了简化问题，我们将标准差设为0.01。\n",
    "下面的代码生成合成数据集。\n"
   ]
  },
  {
   "cell_type": "code",
   "execution_count": 4,
   "id": "18c6423f",
   "metadata": {
    "execution": {
     "iopub.execute_input": "2022-07-31T02:22:16.709006Z",
     "iopub.status.busy": "2022-07-31T02:22:16.708528Z",
     "iopub.status.idle": "2022-07-31T02:22:16.714041Z",
     "shell.execute_reply": "2022-07-31T02:22:16.713364Z"
    },
    "origin_pos": 5,
    "tab": [
     "pytorch"
    ]
   },
   "outputs": [],
   "source": [
    "def synthetic_data(w, b, num_examples):  #@save\n",
    "    \"\"\"生成y=Xw+b+噪声\"\"\"\n",
    "    X = torch.normal(0, 1, (num_examples, len(w)))\n",
    "    y = torch.matmul(X, w) + b\n",
    "    y += torch.normal(0, 0.01, y.shape)\n",
    "    return X, y.reshape((-1, 1))"
   ]
  },
  {
   "cell_type": "code",
   "execution_count": 5,
   "id": "b1793654",
   "metadata": {
    "execution": {
     "iopub.execute_input": "2022-07-31T02:22:16.717009Z",
     "iopub.status.busy": "2022-07-31T02:22:16.716673Z",
     "iopub.status.idle": "2022-07-31T02:22:16.720862Z",
     "shell.execute_reply": "2022-07-31T02:22:16.720150Z"
    },
    "origin_pos": 7,
    "tab": [
     "pytorch"
    ]
   },
   "outputs": [],
   "source": [
    "true_w = torch.tensor([2, -3.4])\n",
    "true_b = 4.2\n",
    "features, labels = synthetic_data(true_w, true_b, 1000)"
   ]
  },
  {
   "cell_type": "markdown",
   "id": "d9fc836a",
   "metadata": {
    "origin_pos": 8
   },
   "source": [
    "注意，[**`features`中的每一行都包含一个二维数据样本，\n",
    "`labels`中的每一行都包含一维标签值（一个标量）**]。\n"
   ]
  },
  {
   "cell_type": "code",
   "execution_count": 6,
   "id": "08317c39",
   "metadata": {
    "execution": {
     "iopub.execute_input": "2022-07-31T02:22:16.725012Z",
     "iopub.status.busy": "2022-07-31T02:22:16.724588Z",
     "iopub.status.idle": "2022-07-31T02:22:16.730034Z",
     "shell.execute_reply": "2022-07-31T02:22:16.729030Z"
    },
    "origin_pos": 9,
    "tab": [
     "pytorch"
    ]
   },
   "outputs": [
    {
     "name": "stdout",
     "output_type": "stream",
     "text": [
      "features: tensor([-0.0327, -0.6387]) \n",
      "label: tensor([6.2937])\n"
     ]
    }
   ],
   "source": [
    "print('features:', features[0],'\\nlabel:', labels[0])"
   ]
  },
  {
   "cell_type": "markdown",
   "id": "37521fbc",
   "metadata": {
    "origin_pos": 10
   },
   "source": [
    "通过生成第二个特征`features[:, 1]`和`labels`的散点图，\n",
    "可以直观观察到两者之间的线性关系。\n"
   ]
  },
  {
   "cell_type": "code",
   "execution_count": 7,
   "id": "399354e2",
   "metadata": {
    "execution": {
     "iopub.execute_input": "2022-07-31T02:22:16.734892Z",
     "iopub.status.busy": "2022-07-31T02:22:16.734207Z",
     "iopub.status.idle": "2022-07-31T02:22:16.948832Z",
     "shell.execute_reply": "2022-07-31T02:22:16.948171Z"
    },
    "origin_pos": 11,
    "tab": [
     "pytorch"
    ]
   },
   "outputs": [
    {
     "data": {
      "image/svg+xml": "<?xml version=\"1.0\" encoding=\"utf-8\" standalone=\"no\"?>\n<!DOCTYPE svg PUBLIC \"-//W3C//DTD SVG 1.1//EN\"\n  \"http://www.w3.org/Graphics/SVG/1.1/DTD/svg11.dtd\">\n<svg xmlns:xlink=\"http://www.w3.org/1999/xlink\" width=\"231.442187pt\" height=\"166.978125pt\" viewBox=\"0 0 231.442187 166.978125\" xmlns=\"http://www.w3.org/2000/svg\" version=\"1.1\">\n <metadata>\n  <rdf:RDF xmlns:dc=\"http://purl.org/dc/elements/1.1/\" xmlns:cc=\"http://creativecommons.org/ns#\" xmlns:rdf=\"http://www.w3.org/1999/02/22-rdf-syntax-ns#\">\n   <cc:Work>\n    <dc:type rdf:resource=\"http://purl.org/dc/dcmitype/StillImage\"/>\n    <dc:date>2022-08-14T01:41:31.408881</dc:date>\n    <dc:format>image/svg+xml</dc:format>\n    <dc:creator>\n     <cc:Agent>\n      <dc:title>Matplotlib v3.5.1, https://matplotlib.org/</dc:title>\n     </cc:Agent>\n    </dc:creator>\n   </cc:Work>\n  </rdf:RDF>\n </metadata>\n <defs>\n  <style type=\"text/css\">*{stroke-linejoin: round; stroke-linecap: butt}</style>\n </defs>\n <g id=\"figure_1\">\n  <g id=\"patch_1\">\n   <path d=\"M 0 166.978125 \nL 231.442187 166.978125 \nL 231.442187 0 \nL 0 0 \nL 0 166.978125 \nz\n\" style=\"fill: none\"/>\n  </g>\n  <g id=\"axes_1\">\n   <g id=\"patch_2\">\n    <path d=\"M 28.942188 143.1 \nL 224.242188 143.1 \nL 224.242188 7.2 \nL 28.942188 7.2 \nz\n\" style=\"fill: #ffffff\"/>\n   </g>\n   <g id=\"PathCollection_1\">\n    <defs>\n     <path id=\"ma567e8d22f\" d=\"M 0 0.5 \nC 0.132602 0.5 0.25979 0.447317 0.353553 0.353553 \nC 0.447317 0.25979 0.5 0.132602 0.5 0 \nC 0.5 -0.132602 0.447317 -0.25979 0.353553 -0.353553 \nC 0.25979 -0.447317 0.132602 -0.5 0 -0.5 \nC -0.132602 -0.5 -0.25979 -0.447317 -0.353553 -0.353553 \nC -0.447317 -0.25979 -0.5 -0.132602 -0.5 0 \nC -0.5 0.132602 -0.447317 0.25979 -0.353553 0.353553 \nC -0.25979 0.447317 -0.132602 0.5 0 0.5 \nz\n\" style=\"stroke: #1f77b4\"/>\n    </defs>\n    <g clip-path=\"url(#pc2bc70c9ef)\">\n     <use xlink:href=\"#ma567e8d22f\" x=\"117.270471\" y=\"66.697492\" style=\"fill: #1f77b4; stroke: #1f77b4\"/>\n     <use xlink:href=\"#ma567e8d22f\" x=\"186.023244\" y=\"113.991432\" style=\"fill: #1f77b4; stroke: #1f77b4\"/>\n     <use xlink:href=\"#ma567e8d22f\" x=\"146.875779\" y=\"65.204579\" style=\"fill: #1f77b4; stroke: #1f77b4\"/>\n     <use xlink:href=\"#ma567e8d22f\" x=\"140.250963\" y=\"72.082996\" style=\"fill: #1f77b4; stroke: #1f77b4\"/>\n     <use xlink:href=\"#ma567e8d22f\" x=\"121.923159\" y=\"68.63737\" style=\"fill: #1f77b4; stroke: #1f77b4\"/>\n     <use xlink:href=\"#ma567e8d22f\" x=\"166.864205\" y=\"84.79796\" style=\"fill: #1f77b4; stroke: #1f77b4\"/>\n     <use xlink:href=\"#ma567e8d22f\" x=\"181.03471\" y=\"115.781336\" style=\"fill: #1f77b4; stroke: #1f77b4\"/>\n     <use xlink:href=\"#ma567e8d22f\" x=\"139.544201\" y=\"75.737337\" style=\"fill: #1f77b4; stroke: #1f77b4\"/>\n     <use xlink:href=\"#ma567e8d22f\" x=\"170.152235\" y=\"80.629201\" style=\"fill: #1f77b4; stroke: #1f77b4\"/>\n     <use xlink:href=\"#ma567e8d22f\" x=\"158.279542\" y=\"100.300884\" style=\"fill: #1f77b4; stroke: #1f77b4\"/>\n     <use xlink:href=\"#ma567e8d22f\" x=\"98.558165\" y=\"35.749515\" style=\"fill: #1f77b4; stroke: #1f77b4\"/>\n     <use xlink:href=\"#ma567e8d22f\" x=\"105.444889\" y=\"41.030058\" style=\"fill: #1f77b4; stroke: #1f77b4\"/>\n     <use xlink:href=\"#ma567e8d22f\" x=\"157.90664\" y=\"90.832482\" style=\"fill: #1f77b4; stroke: #1f77b4\"/>\n     <use xlink:href=\"#ma567e8d22f\" x=\"136.857089\" y=\"70.051268\" style=\"fill: #1f77b4; stroke: #1f77b4\"/>\n     <use xlink:href=\"#ma567e8d22f\" x=\"118.685996\" y=\"80.32397\" style=\"fill: #1f77b4; stroke: #1f77b4\"/>\n     <use xlink:href=\"#ma567e8d22f\" x=\"142.974343\" y=\"82.782379\" style=\"fill: #1f77b4; stroke: #1f77b4\"/>\n     <use xlink:href=\"#ma567e8d22f\" x=\"129.809333\" y=\"73.42546\" style=\"fill: #1f77b4; stroke: #1f77b4\"/>\n     <use xlink:href=\"#ma567e8d22f\" x=\"84.132732\" y=\"51.457604\" style=\"fill: #1f77b4; stroke: #1f77b4\"/>\n     <use xlink:href=\"#ma567e8d22f\" x=\"140.241512\" y=\"99.506569\" style=\"fill: #1f77b4; stroke: #1f77b4\"/>\n     <use xlink:href=\"#ma567e8d22f\" x=\"186.157624\" y=\"101.005404\" style=\"fill: #1f77b4; stroke: #1f77b4\"/>\n     <use xlink:href=\"#ma567e8d22f\" x=\"162.198646\" y=\"105.705343\" style=\"fill: #1f77b4; stroke: #1f77b4\"/>\n     <use xlink:href=\"#ma567e8d22f\" x=\"157.51047\" y=\"72.815613\" style=\"fill: #1f77b4; stroke: #1f77b4\"/>\n     <use xlink:href=\"#ma567e8d22f\" x=\"152.576618\" y=\"87.729242\" style=\"fill: #1f77b4; stroke: #1f77b4\"/>\n     <use xlink:href=\"#ma567e8d22f\" x=\"115.536402\" y=\"53.698344\" style=\"fill: #1f77b4; stroke: #1f77b4\"/>\n     <use xlink:href=\"#ma567e8d22f\" x=\"108.089813\" y=\"65.295559\" style=\"fill: #1f77b4; stroke: #1f77b4\"/>\n     <use xlink:href=\"#ma567e8d22f\" x=\"120.028403\" y=\"64.681318\" style=\"fill: #1f77b4; stroke: #1f77b4\"/>\n     <use xlink:href=\"#ma567e8d22f\" x=\"165.064875\" y=\"89.51187\" style=\"fill: #1f77b4; stroke: #1f77b4\"/>\n     <use xlink:href=\"#ma567e8d22f\" x=\"97.119799\" y=\"59.798217\" style=\"fill: #1f77b4; stroke: #1f77b4\"/>\n     <use xlink:href=\"#ma567e8d22f\" x=\"132.128063\" y=\"93.140019\" style=\"fill: #1f77b4; stroke: #1f77b4\"/>\n     <use xlink:href=\"#ma567e8d22f\" x=\"153.84557\" y=\"90.131471\" style=\"fill: #1f77b4; stroke: #1f77b4\"/>\n     <use xlink:href=\"#ma567e8d22f\" x=\"165.772694\" y=\"92.77054\" style=\"fill: #1f77b4; stroke: #1f77b4\"/>\n     <use xlink:href=\"#ma567e8d22f\" x=\"152.070168\" y=\"114.250131\" style=\"fill: #1f77b4; stroke: #1f77b4\"/>\n     <use xlink:href=\"#ma567e8d22f\" x=\"114.628267\" y=\"69.755442\" style=\"fill: #1f77b4; stroke: #1f77b4\"/>\n     <use xlink:href=\"#ma567e8d22f\" x=\"89.041091\" y=\"57.4902\" style=\"fill: #1f77b4; stroke: #1f77b4\"/>\n     <use xlink:href=\"#ma567e8d22f\" x=\"131.870972\" y=\"73.83725\" style=\"fill: #1f77b4; stroke: #1f77b4\"/>\n     <use xlink:href=\"#ma567e8d22f\" x=\"115.250102\" y=\"72.670183\" style=\"fill: #1f77b4; stroke: #1f77b4\"/>\n     <use xlink:href=\"#ma567e8d22f\" x=\"157.277146\" y=\"87.035823\" style=\"fill: #1f77b4; stroke: #1f77b4\"/>\n     <use xlink:href=\"#ma567e8d22f\" x=\"150.18354\" y=\"71.411614\" style=\"fill: #1f77b4; stroke: #1f77b4\"/>\n     <use xlink:href=\"#ma567e8d22f\" x=\"116.091183\" y=\"74.912795\" style=\"fill: #1f77b4; stroke: #1f77b4\"/>\n     <use xlink:href=\"#ma567e8d22f\" x=\"165.761965\" y=\"92.822651\" style=\"fill: #1f77b4; stroke: #1f77b4\"/>\n     <use xlink:href=\"#ma567e8d22f\" x=\"117.124285\" y=\"69.030931\" style=\"fill: #1f77b4; stroke: #1f77b4\"/>\n     <use xlink:href=\"#ma567e8d22f\" x=\"173.711206\" y=\"97.612765\" style=\"fill: #1f77b4; stroke: #1f77b4\"/>\n     <use xlink:href=\"#ma567e8d22f\" x=\"93.898894\" y=\"56.830061\" style=\"fill: #1f77b4; stroke: #1f77b4\"/>\n     <use xlink:href=\"#ma567e8d22f\" x=\"107.286814\" y=\"65.2366\" style=\"fill: #1f77b4; stroke: #1f77b4\"/>\n     <use xlink:href=\"#ma567e8d22f\" x=\"97.975589\" y=\"53.085253\" style=\"fill: #1f77b4; stroke: #1f77b4\"/>\n     <use xlink:href=\"#ma567e8d22f\" x=\"104.924736\" y=\"58.256679\" style=\"fill: #1f77b4; stroke: #1f77b4\"/>\n     <use xlink:href=\"#ma567e8d22f\" x=\"144.066783\" y=\"73.283463\" style=\"fill: #1f77b4; stroke: #1f77b4\"/>\n     <use xlink:href=\"#ma567e8d22f\" x=\"198.506698\" y=\"117.028919\" style=\"fill: #1f77b4; stroke: #1f77b4\"/>\n     <use xlink:href=\"#ma567e8d22f\" x=\"141.651212\" y=\"82.949614\" style=\"fill: #1f77b4; stroke: #1f77b4\"/>\n     <use xlink:href=\"#ma567e8d22f\" x=\"153.384229\" y=\"72.268021\" style=\"fill: #1f77b4; stroke: #1f77b4\"/>\n     <use xlink:href=\"#ma567e8d22f\" x=\"114.360152\" y=\"58.569464\" style=\"fill: #1f77b4; stroke: #1f77b4\"/>\n     <use xlink:href=\"#ma567e8d22f\" x=\"103.053714\" y=\"53.806039\" style=\"fill: #1f77b4; stroke: #1f77b4\"/>\n     <use xlink:href=\"#ma567e8d22f\" x=\"180.754179\" y=\"114.965869\" style=\"fill: #1f77b4; stroke: #1f77b4\"/>\n     <use xlink:href=\"#ma567e8d22f\" x=\"146.148044\" y=\"94.402133\" style=\"fill: #1f77b4; stroke: #1f77b4\"/>\n     <use xlink:href=\"#ma567e8d22f\" x=\"122.358242\" y=\"81.085427\" style=\"fill: #1f77b4; stroke: #1f77b4\"/>\n     <use xlink:href=\"#ma567e8d22f\" x=\"190.833639\" y=\"114.098972\" style=\"fill: #1f77b4; stroke: #1f77b4\"/>\n     <use xlink:href=\"#ma567e8d22f\" x=\"185.22753\" y=\"104.87675\" style=\"fill: #1f77b4; stroke: #1f77b4\"/>\n     <use xlink:href=\"#ma567e8d22f\" x=\"105.596397\" y=\"70.885987\" style=\"fill: #1f77b4; stroke: #1f77b4\"/>\n     <use xlink:href=\"#ma567e8d22f\" x=\"134.329758\" y=\"79.514752\" style=\"fill: #1f77b4; stroke: #1f77b4\"/>\n     <use xlink:href=\"#ma567e8d22f\" x=\"122.474527\" y=\"71.781367\" style=\"fill: #1f77b4; stroke: #1f77b4\"/>\n     <use xlink:href=\"#ma567e8d22f\" x=\"197.768471\" y=\"123.020621\" style=\"fill: #1f77b4; stroke: #1f77b4\"/>\n     <use xlink:href=\"#ma567e8d22f\" x=\"164.558614\" y=\"102.506537\" style=\"fill: #1f77b4; stroke: #1f77b4\"/>\n     <use xlink:href=\"#ma567e8d22f\" x=\"168.798789\" y=\"93.908834\" style=\"fill: #1f77b4; stroke: #1f77b4\"/>\n     <use xlink:href=\"#ma567e8d22f\" x=\"102.765269\" y=\"65.111772\" style=\"fill: #1f77b4; stroke: #1f77b4\"/>\n     <use xlink:href=\"#ma567e8d22f\" x=\"165.280174\" y=\"95.403948\" style=\"fill: #1f77b4; stroke: #1f77b4\"/>\n     <use xlink:href=\"#ma567e8d22f\" x=\"97.772067\" y=\"51.654744\" style=\"fill: #1f77b4; stroke: #1f77b4\"/>\n     <use xlink:href=\"#ma567e8d22f\" x=\"118.886279\" y=\"59.144431\" style=\"fill: #1f77b4; stroke: #1f77b4\"/>\n     <use xlink:href=\"#ma567e8d22f\" x=\"122.608394\" y=\"78.344642\" style=\"fill: #1f77b4; stroke: #1f77b4\"/>\n     <use xlink:href=\"#ma567e8d22f\" x=\"187.436081\" y=\"117.751241\" style=\"fill: #1f77b4; stroke: #1f77b4\"/>\n     <use xlink:href=\"#ma567e8d22f\" x=\"154.816448\" y=\"92.65288\" style=\"fill: #1f77b4; stroke: #1f77b4\"/>\n     <use xlink:href=\"#ma567e8d22f\" x=\"105.654177\" y=\"58.187986\" style=\"fill: #1f77b4; stroke: #1f77b4\"/>\n     <use xlink:href=\"#ma567e8d22f\" x=\"149.455411\" y=\"82.010851\" style=\"fill: #1f77b4; stroke: #1f77b4\"/>\n     <use xlink:href=\"#ma567e8d22f\" x=\"137.049647\" y=\"75.850982\" style=\"fill: #1f77b4; stroke: #1f77b4\"/>\n     <use xlink:href=\"#ma567e8d22f\" x=\"111.749049\" y=\"49.04415\" style=\"fill: #1f77b4; stroke: #1f77b4\"/>\n     <use xlink:href=\"#ma567e8d22f\" x=\"137.95889\" y=\"89.000699\" style=\"fill: #1f77b4; stroke: #1f77b4\"/>\n     <use xlink:href=\"#ma567e8d22f\" x=\"141.781991\" y=\"71.057904\" style=\"fill: #1f77b4; stroke: #1f77b4\"/>\n     <use xlink:href=\"#ma567e8d22f\" x=\"105.331317\" y=\"57.250003\" style=\"fill: #1f77b4; stroke: #1f77b4\"/>\n     <use xlink:href=\"#ma567e8d22f\" x=\"151.371498\" y=\"83.560512\" style=\"fill: #1f77b4; stroke: #1f77b4\"/>\n     <use xlink:href=\"#ma567e8d22f\" x=\"134.727421\" y=\"83.065544\" style=\"fill: #1f77b4; stroke: #1f77b4\"/>\n     <use xlink:href=\"#ma567e8d22f\" x=\"102.850883\" y=\"56.81559\" style=\"fill: #1f77b4; stroke: #1f77b4\"/>\n     <use xlink:href=\"#ma567e8d22f\" x=\"170.336205\" y=\"79.883013\" style=\"fill: #1f77b4; stroke: #1f77b4\"/>\n     <use xlink:href=\"#ma567e8d22f\" x=\"106.019614\" y=\"44.28052\" style=\"fill: #1f77b4; stroke: #1f77b4\"/>\n     <use xlink:href=\"#ma567e8d22f\" x=\"104.544723\" y=\"58.679427\" style=\"fill: #1f77b4; stroke: #1f77b4\"/>\n     <use xlink:href=\"#ma567e8d22f\" x=\"104.998424\" y=\"66.736789\" style=\"fill: #1f77b4; stroke: #1f77b4\"/>\n     <use xlink:href=\"#ma567e8d22f\" x=\"111.239486\" y=\"39.663835\" style=\"fill: #1f77b4; stroke: #1f77b4\"/>\n     <use xlink:href=\"#ma567e8d22f\" x=\"162.846459\" y=\"94.898034\" style=\"fill: #1f77b4; stroke: #1f77b4\"/>\n     <use xlink:href=\"#ma567e8d22f\" x=\"148.668315\" y=\"76.553346\" style=\"fill: #1f77b4; stroke: #1f77b4\"/>\n     <use xlink:href=\"#ma567e8d22f\" x=\"167.815874\" y=\"89.99574\" style=\"fill: #1f77b4; stroke: #1f77b4\"/>\n     <use xlink:href=\"#ma567e8d22f\" x=\"173.380676\" y=\"115.558196\" style=\"fill: #1f77b4; stroke: #1f77b4\"/>\n     <use xlink:href=\"#ma567e8d22f\" x=\"175.081756\" y=\"111.503181\" style=\"fill: #1f77b4; stroke: #1f77b4\"/>\n     <use xlink:href=\"#ma567e8d22f\" x=\"148.414768\" y=\"79.898848\" style=\"fill: #1f77b4; stroke: #1f77b4\"/>\n     <use xlink:href=\"#ma567e8d22f\" x=\"108.052969\" y=\"78.352892\" style=\"fill: #1f77b4; stroke: #1f77b4\"/>\n     <use xlink:href=\"#ma567e8d22f\" x=\"139.269089\" y=\"68.079021\" style=\"fill: #1f77b4; stroke: #1f77b4\"/>\n     <use xlink:href=\"#ma567e8d22f\" x=\"126.555883\" y=\"76.451885\" style=\"fill: #1f77b4; stroke: #1f77b4\"/>\n     <use xlink:href=\"#ma567e8d22f\" x=\"135.467338\" y=\"65.961543\" style=\"fill: #1f77b4; stroke: #1f77b4\"/>\n     <use xlink:href=\"#ma567e8d22f\" x=\"144.185482\" y=\"80.803427\" style=\"fill: #1f77b4; stroke: #1f77b4\"/>\n     <use xlink:href=\"#ma567e8d22f\" x=\"126.739447\" y=\"66.097816\" style=\"fill: #1f77b4; stroke: #1f77b4\"/>\n     <use xlink:href=\"#ma567e8d22f\" x=\"134.043912\" y=\"77.64718\" style=\"fill: #1f77b4; stroke: #1f77b4\"/>\n     <use xlink:href=\"#ma567e8d22f\" x=\"129.494468\" y=\"62.740851\" style=\"fill: #1f77b4; stroke: #1f77b4\"/>\n     <use xlink:href=\"#ma567e8d22f\" x=\"83.98376\" y=\"48.957977\" style=\"fill: #1f77b4; stroke: #1f77b4\"/>\n     <use xlink:href=\"#ma567e8d22f\" x=\"142.827575\" y=\"86.3101\" style=\"fill: #1f77b4; stroke: #1f77b4\"/>\n     <use xlink:href=\"#ma567e8d22f\" x=\"144.375267\" y=\"83.783449\" style=\"fill: #1f77b4; stroke: #1f77b4\"/>\n     <use xlink:href=\"#ma567e8d22f\" x=\"173.973418\" y=\"80.076671\" style=\"fill: #1f77b4; stroke: #1f77b4\"/>\n     <use xlink:href=\"#ma567e8d22f\" x=\"100.205765\" y=\"67.521455\" style=\"fill: #1f77b4; stroke: #1f77b4\"/>\n     <use xlink:href=\"#ma567e8d22f\" x=\"87.587694\" y=\"57.176546\" style=\"fill: #1f77b4; stroke: #1f77b4\"/>\n     <use xlink:href=\"#ma567e8d22f\" x=\"120.714838\" y=\"60.172212\" style=\"fill: #1f77b4; stroke: #1f77b4\"/>\n     <use xlink:href=\"#ma567e8d22f\" x=\"97.73208\" y=\"54.399072\" style=\"fill: #1f77b4; stroke: #1f77b4\"/>\n     <use xlink:href=\"#ma567e8d22f\" x=\"105.916443\" y=\"57.833663\" style=\"fill: #1f77b4; stroke: #1f77b4\"/>\n     <use xlink:href=\"#ma567e8d22f\" x=\"132.939844\" y=\"60.388355\" style=\"fill: #1f77b4; stroke: #1f77b4\"/>\n     <use xlink:href=\"#ma567e8d22f\" x=\"147.924685\" y=\"73.968554\" style=\"fill: #1f77b4; stroke: #1f77b4\"/>\n     <use xlink:href=\"#ma567e8d22f\" x=\"86.489632\" y=\"32.841407\" style=\"fill: #1f77b4; stroke: #1f77b4\"/>\n     <use xlink:href=\"#ma567e8d22f\" x=\"144.04713\" y=\"88.197715\" style=\"fill: #1f77b4; stroke: #1f77b4\"/>\n     <use xlink:href=\"#ma567e8d22f\" x=\"182.620128\" y=\"112.865643\" style=\"fill: #1f77b4; stroke: #1f77b4\"/>\n     <use xlink:href=\"#ma567e8d22f\" x=\"133.336033\" y=\"58.917095\" style=\"fill: #1f77b4; stroke: #1f77b4\"/>\n     <use xlink:href=\"#ma567e8d22f\" x=\"129.169898\" y=\"68.969267\" style=\"fill: #1f77b4; stroke: #1f77b4\"/>\n     <use xlink:href=\"#ma567e8d22f\" x=\"115.504103\" y=\"83.140427\" style=\"fill: #1f77b4; stroke: #1f77b4\"/>\n     <use xlink:href=\"#ma567e8d22f\" x=\"150.526503\" y=\"99.130044\" style=\"fill: #1f77b4; stroke: #1f77b4\"/>\n     <use xlink:href=\"#ma567e8d22f\" x=\"143.721282\" y=\"65.060564\" style=\"fill: #1f77b4; stroke: #1f77b4\"/>\n     <use xlink:href=\"#ma567e8d22f\" x=\"154.601187\" y=\"82.068573\" style=\"fill: #1f77b4; stroke: #1f77b4\"/>\n     <use xlink:href=\"#ma567e8d22f\" x=\"140.32157\" y=\"80.073529\" style=\"fill: #1f77b4; stroke: #1f77b4\"/>\n     <use xlink:href=\"#ma567e8d22f\" x=\"138.330645\" y=\"71.091346\" style=\"fill: #1f77b4; stroke: #1f77b4\"/>\n     <use xlink:href=\"#ma567e8d22f\" x=\"126.011536\" y=\"80.239289\" style=\"fill: #1f77b4; stroke: #1f77b4\"/>\n     <use xlink:href=\"#ma567e8d22f\" x=\"83.532145\" y=\"42.95649\" style=\"fill: #1f77b4; stroke: #1f77b4\"/>\n     <use xlink:href=\"#ma567e8d22f\" x=\"118.857862\" y=\"64.684469\" style=\"fill: #1f77b4; stroke: #1f77b4\"/>\n     <use xlink:href=\"#ma567e8d22f\" x=\"127.181401\" y=\"78.948841\" style=\"fill: #1f77b4; stroke: #1f77b4\"/>\n     <use xlink:href=\"#ma567e8d22f\" x=\"96.231991\" y=\"67.933057\" style=\"fill: #1f77b4; stroke: #1f77b4\"/>\n     <use xlink:href=\"#ma567e8d22f\" x=\"164.53468\" y=\"106.267047\" style=\"fill: #1f77b4; stroke: #1f77b4\"/>\n     <use xlink:href=\"#ma567e8d22f\" x=\"141.724171\" y=\"68.235989\" style=\"fill: #1f77b4; stroke: #1f77b4\"/>\n     <use xlink:href=\"#ma567e8d22f\" x=\"128.795974\" y=\"76.453615\" style=\"fill: #1f77b4; stroke: #1f77b4\"/>\n     <use xlink:href=\"#ma567e8d22f\" x=\"130.818847\" y=\"72.251623\" style=\"fill: #1f77b4; stroke: #1f77b4\"/>\n     <use xlink:href=\"#ma567e8d22f\" x=\"136.825586\" y=\"66.390428\" style=\"fill: #1f77b4; stroke: #1f77b4\"/>\n     <use xlink:href=\"#ma567e8d22f\" x=\"87.057305\" y=\"48.200118\" style=\"fill: #1f77b4; stroke: #1f77b4\"/>\n     <use xlink:href=\"#ma567e8d22f\" x=\"105.848772\" y=\"51.233541\" style=\"fill: #1f77b4; stroke: #1f77b4\"/>\n     <use xlink:href=\"#ma567e8d22f\" x=\"181.054265\" y=\"100.727599\" style=\"fill: #1f77b4; stroke: #1f77b4\"/>\n     <use xlink:href=\"#ma567e8d22f\" x=\"122.230974\" y=\"76.502286\" style=\"fill: #1f77b4; stroke: #1f77b4\"/>\n     <use xlink:href=\"#ma567e8d22f\" x=\"119.064483\" y=\"66.312025\" style=\"fill: #1f77b4; stroke: #1f77b4\"/>\n     <use xlink:href=\"#ma567e8d22f\" x=\"140.997174\" y=\"97.07359\" style=\"fill: #1f77b4; stroke: #1f77b4\"/>\n     <use xlink:href=\"#ma567e8d22f\" x=\"115.323678\" y=\"60.712914\" style=\"fill: #1f77b4; stroke: #1f77b4\"/>\n     <use xlink:href=\"#ma567e8d22f\" x=\"116.092976\" y=\"60.628688\" style=\"fill: #1f77b4; stroke: #1f77b4\"/>\n     <use xlink:href=\"#ma567e8d22f\" x=\"136.429329\" y=\"76.615215\" style=\"fill: #1f77b4; stroke: #1f77b4\"/>\n     <use xlink:href=\"#ma567e8d22f\" x=\"145.188774\" y=\"57.445739\" style=\"fill: #1f77b4; stroke: #1f77b4\"/>\n     <use xlink:href=\"#ma567e8d22f\" x=\"102.360307\" y=\"93.622854\" style=\"fill: #1f77b4; stroke: #1f77b4\"/>\n     <use xlink:href=\"#ma567e8d22f\" x=\"190.664257\" y=\"114.701329\" style=\"fill: #1f77b4; stroke: #1f77b4\"/>\n     <use xlink:href=\"#ma567e8d22f\" x=\"97.717286\" y=\"65.853703\" style=\"fill: #1f77b4; stroke: #1f77b4\"/>\n     <use xlink:href=\"#ma567e8d22f\" x=\"138.509901\" y=\"81.673778\" style=\"fill: #1f77b4; stroke: #1f77b4\"/>\n     <use xlink:href=\"#ma567e8d22f\" x=\"137.190006\" y=\"88.798544\" style=\"fill: #1f77b4; stroke: #1f77b4\"/>\n     <use xlink:href=\"#ma567e8d22f\" x=\"164.552268\" y=\"101.912119\" style=\"fill: #1f77b4; stroke: #1f77b4\"/>\n     <use xlink:href=\"#ma567e8d22f\" x=\"155.79639\" y=\"79.673278\" style=\"fill: #1f77b4; stroke: #1f77b4\"/>\n     <use xlink:href=\"#ma567e8d22f\" x=\"144.629937\" y=\"72.721712\" style=\"fill: #1f77b4; stroke: #1f77b4\"/>\n     <use xlink:href=\"#ma567e8d22f\" x=\"163.046499\" y=\"101.219709\" style=\"fill: #1f77b4; stroke: #1f77b4\"/>\n     <use xlink:href=\"#ma567e8d22f\" x=\"146.769447\" y=\"83.176691\" style=\"fill: #1f77b4; stroke: #1f77b4\"/>\n     <use xlink:href=\"#ma567e8d22f\" x=\"142.705059\" y=\"88.104782\" style=\"fill: #1f77b4; stroke: #1f77b4\"/>\n     <use xlink:href=\"#ma567e8d22f\" x=\"115.730088\" y=\"49.409334\" style=\"fill: #1f77b4; stroke: #1f77b4\"/>\n     <use xlink:href=\"#ma567e8d22f\" x=\"145.167994\" y=\"73.894122\" style=\"fill: #1f77b4; stroke: #1f77b4\"/>\n     <use xlink:href=\"#ma567e8d22f\" x=\"164.341941\" y=\"105.292931\" style=\"fill: #1f77b4; stroke: #1f77b4\"/>\n     <use xlink:href=\"#ma567e8d22f\" x=\"117.83045\" y=\"70.736943\" style=\"fill: #1f77b4; stroke: #1f77b4\"/>\n     <use xlink:href=\"#ma567e8d22f\" x=\"136.749605\" y=\"83.4793\" style=\"fill: #1f77b4; stroke: #1f77b4\"/>\n     <use xlink:href=\"#ma567e8d22f\" x=\"123.110284\" y=\"67.056705\" style=\"fill: #1f77b4; stroke: #1f77b4\"/>\n     <use xlink:href=\"#ma567e8d22f\" x=\"133.800091\" y=\"77.475822\" style=\"fill: #1f77b4; stroke: #1f77b4\"/>\n     <use xlink:href=\"#ma567e8d22f\" x=\"114.308516\" y=\"63.257464\" style=\"fill: #1f77b4; stroke: #1f77b4\"/>\n     <use xlink:href=\"#ma567e8d22f\" x=\"148.107901\" y=\"83.48508\" style=\"fill: #1f77b4; stroke: #1f77b4\"/>\n     <use xlink:href=\"#ma567e8d22f\" x=\"188.978777\" y=\"113.090531\" style=\"fill: #1f77b4; stroke: #1f77b4\"/>\n     <use xlink:href=\"#ma567e8d22f\" x=\"128.009817\" y=\"63.566424\" style=\"fill: #1f77b4; stroke: #1f77b4\"/>\n     <use xlink:href=\"#ma567e8d22f\" x=\"149.171077\" y=\"82.813086\" style=\"fill: #1f77b4; stroke: #1f77b4\"/>\n     <use xlink:href=\"#ma567e8d22f\" x=\"106.500778\" y=\"67.689908\" style=\"fill: #1f77b4; stroke: #1f77b4\"/>\n     <use xlink:href=\"#ma567e8d22f\" x=\"169.774798\" y=\"117.070246\" style=\"fill: #1f77b4; stroke: #1f77b4\"/>\n     <use xlink:href=\"#ma567e8d22f\" x=\"114.377299\" y=\"65.084524\" style=\"fill: #1f77b4; stroke: #1f77b4\"/>\n     <use xlink:href=\"#ma567e8d22f\" x=\"109.130014\" y=\"59.944163\" style=\"fill: #1f77b4; stroke: #1f77b4\"/>\n     <use xlink:href=\"#ma567e8d22f\" x=\"85.987345\" y=\"50.033163\" style=\"fill: #1f77b4; stroke: #1f77b4\"/>\n     <use xlink:href=\"#ma567e8d22f\" x=\"144.229755\" y=\"82.950873\" style=\"fill: #1f77b4; stroke: #1f77b4\"/>\n     <use xlink:href=\"#ma567e8d22f\" x=\"146.533716\" y=\"65.662776\" style=\"fill: #1f77b4; stroke: #1f77b4\"/>\n     <use xlink:href=\"#ma567e8d22f\" x=\"135.438581\" y=\"92.620655\" style=\"fill: #1f77b4; stroke: #1f77b4\"/>\n     <use xlink:href=\"#ma567e8d22f\" x=\"169.94676\" y=\"109.628653\" style=\"fill: #1f77b4; stroke: #1f77b4\"/>\n     <use xlink:href=\"#ma567e8d22f\" x=\"145.603158\" y=\"82.347027\" style=\"fill: #1f77b4; stroke: #1f77b4\"/>\n     <use xlink:href=\"#ma567e8d22f\" x=\"158.677267\" y=\"87.077043\" style=\"fill: #1f77b4; stroke: #1f77b4\"/>\n     <use xlink:href=\"#ma567e8d22f\" x=\"89.227239\" y=\"40.749023\" style=\"fill: #1f77b4; stroke: #1f77b4\"/>\n     <use xlink:href=\"#ma567e8d22f\" x=\"203.044902\" y=\"121.993331\" style=\"fill: #1f77b4; stroke: #1f77b4\"/>\n     <use xlink:href=\"#ma567e8d22f\" x=\"121.668016\" y=\"44.708323\" style=\"fill: #1f77b4; stroke: #1f77b4\"/>\n     <use xlink:href=\"#ma567e8d22f\" x=\"102.437986\" y=\"58.064353\" style=\"fill: #1f77b4; stroke: #1f77b4\"/>\n     <use xlink:href=\"#ma567e8d22f\" x=\"98.497909\" y=\"44.581044\" style=\"fill: #1f77b4; stroke: #1f77b4\"/>\n     <use xlink:href=\"#ma567e8d22f\" x=\"103.005776\" y=\"45.132357\" style=\"fill: #1f77b4; stroke: #1f77b4\"/>\n     <use xlink:href=\"#ma567e8d22f\" x=\"138.807842\" y=\"74.445529\" style=\"fill: #1f77b4; stroke: #1f77b4\"/>\n     <use xlink:href=\"#ma567e8d22f\" x=\"93.990894\" y=\"57.743899\" style=\"fill: #1f77b4; stroke: #1f77b4\"/>\n     <use xlink:href=\"#ma567e8d22f\" x=\"120.859707\" y=\"69.919302\" style=\"fill: #1f77b4; stroke: #1f77b4\"/>\n     <use xlink:href=\"#ma567e8d22f\" x=\"172.916047\" y=\"101.417869\" style=\"fill: #1f77b4; stroke: #1f77b4\"/>\n     <use xlink:href=\"#ma567e8d22f\" x=\"124.899922\" y=\"80.048416\" style=\"fill: #1f77b4; stroke: #1f77b4\"/>\n     <use xlink:href=\"#ma567e8d22f\" x=\"91.346886\" y=\"59.339607\" style=\"fill: #1f77b4; stroke: #1f77b4\"/>\n     <use xlink:href=\"#ma567e8d22f\" x=\"148.616591\" y=\"85.237707\" style=\"fill: #1f77b4; stroke: #1f77b4\"/>\n     <use xlink:href=\"#ma567e8d22f\" x=\"129.447565\" y=\"106.055734\" style=\"fill: #1f77b4; stroke: #1f77b4\"/>\n     <use xlink:href=\"#ma567e8d22f\" x=\"96.28189\" y=\"50.482242\" style=\"fill: #1f77b4; stroke: #1f77b4\"/>\n     <use xlink:href=\"#ma567e8d22f\" x=\"113.047307\" y=\"78.291028\" style=\"fill: #1f77b4; stroke: #1f77b4\"/>\n     <use xlink:href=\"#ma567e8d22f\" x=\"143.247106\" y=\"72.626904\" style=\"fill: #1f77b4; stroke: #1f77b4\"/>\n     <use xlink:href=\"#ma567e8d22f\" x=\"125.661684\" y=\"45.529433\" style=\"fill: #1f77b4; stroke: #1f77b4\"/>\n     <use xlink:href=\"#ma567e8d22f\" x=\"62.101337\" y=\"40.59679\" style=\"fill: #1f77b4; stroke: #1f77b4\"/>\n     <use xlink:href=\"#ma567e8d22f\" x=\"147.445613\" y=\"80.59988\" style=\"fill: #1f77b4; stroke: #1f77b4\"/>\n     <use xlink:href=\"#ma567e8d22f\" x=\"176.613402\" y=\"99.113435\" style=\"fill: #1f77b4; stroke: #1f77b4\"/>\n     <use xlink:href=\"#ma567e8d22f\" x=\"164.475774\" y=\"106.829757\" style=\"fill: #1f77b4; stroke: #1f77b4\"/>\n     <use xlink:href=\"#ma567e8d22f\" x=\"100.8491\" y=\"66.946281\" style=\"fill: #1f77b4; stroke: #1f77b4\"/>\n     <use xlink:href=\"#ma567e8d22f\" x=\"126.386222\" y=\"68.029888\" style=\"fill: #1f77b4; stroke: #1f77b4\"/>\n     <use xlink:href=\"#ma567e8d22f\" x=\"179.775647\" y=\"100.698711\" style=\"fill: #1f77b4; stroke: #1f77b4\"/>\n     <use xlink:href=\"#ma567e8d22f\" x=\"103.753666\" y=\"57.348041\" style=\"fill: #1f77b4; stroke: #1f77b4\"/>\n     <use xlink:href=\"#ma567e8d22f\" x=\"118.497178\" y=\"55.948259\" style=\"fill: #1f77b4; stroke: #1f77b4\"/>\n     <use xlink:href=\"#ma567e8d22f\" x=\"155.671259\" y=\"72.105645\" style=\"fill: #1f77b4; stroke: #1f77b4\"/>\n     <use xlink:href=\"#ma567e8d22f\" x=\"156.672885\" y=\"101.267042\" style=\"fill: #1f77b4; stroke: #1f77b4\"/>\n     <use xlink:href=\"#ma567e8d22f\" x=\"88.271559\" y=\"42.780731\" style=\"fill: #1f77b4; stroke: #1f77b4\"/>\n     <use xlink:href=\"#ma567e8d22f\" x=\"116.847672\" y=\"58.918409\" style=\"fill: #1f77b4; stroke: #1f77b4\"/>\n     <use xlink:href=\"#ma567e8d22f\" x=\"113.09097\" y=\"56.099683\" style=\"fill: #1f77b4; stroke: #1f77b4\"/>\n     <use xlink:href=\"#ma567e8d22f\" x=\"141.608468\" y=\"83.382881\" style=\"fill: #1f77b4; stroke: #1f77b4\"/>\n     <use xlink:href=\"#ma567e8d22f\" x=\"147.723897\" y=\"83.345976\" style=\"fill: #1f77b4; stroke: #1f77b4\"/>\n     <use xlink:href=\"#ma567e8d22f\" x=\"84.211969\" y=\"51.943416\" style=\"fill: #1f77b4; stroke: #1f77b4\"/>\n     <use xlink:href=\"#ma567e8d22f\" x=\"162.647895\" y=\"85.201668\" style=\"fill: #1f77b4; stroke: #1f77b4\"/>\n     <use xlink:href=\"#ma567e8d22f\" x=\"162.207298\" y=\"101.105809\" style=\"fill: #1f77b4; stroke: #1f77b4\"/>\n     <use xlink:href=\"#ma567e8d22f\" x=\"153.114246\" y=\"87.183142\" style=\"fill: #1f77b4; stroke: #1f77b4\"/>\n     <use xlink:href=\"#ma567e8d22f\" x=\"93.317618\" y=\"53.538133\" style=\"fill: #1f77b4; stroke: #1f77b4\"/>\n     <use xlink:href=\"#ma567e8d22f\" x=\"135.450177\" y=\"72.596988\" style=\"fill: #1f77b4; stroke: #1f77b4\"/>\n     <use xlink:href=\"#ma567e8d22f\" x=\"148.936208\" y=\"80.012802\" style=\"fill: #1f77b4; stroke: #1f77b4\"/>\n     <use xlink:href=\"#ma567e8d22f\" x=\"80.016325\" y=\"31.947544\" style=\"fill: #1f77b4; stroke: #1f77b4\"/>\n     <use xlink:href=\"#ma567e8d22f\" x=\"105.714791\" y=\"68.607767\" style=\"fill: #1f77b4; stroke: #1f77b4\"/>\n     <use xlink:href=\"#ma567e8d22f\" x=\"124.684488\" y=\"69.45489\" style=\"fill: #1f77b4; stroke: #1f77b4\"/>\n     <use xlink:href=\"#ma567e8d22f\" x=\"112.217765\" y=\"58.663306\" style=\"fill: #1f77b4; stroke: #1f77b4\"/>\n     <use xlink:href=\"#ma567e8d22f\" x=\"69.947835\" y=\"34.919554\" style=\"fill: #1f77b4; stroke: #1f77b4\"/>\n     <use xlink:href=\"#ma567e8d22f\" x=\"101.25356\" y=\"49.257383\" style=\"fill: #1f77b4; stroke: #1f77b4\"/>\n     <use xlink:href=\"#ma567e8d22f\" x=\"159.623069\" y=\"88.465996\" style=\"fill: #1f77b4; stroke: #1f77b4\"/>\n     <use xlink:href=\"#ma567e8d22f\" x=\"119.415608\" y=\"57.834663\" style=\"fill: #1f77b4; stroke: #1f77b4\"/>\n     <use xlink:href=\"#ma567e8d22f\" x=\"181.812267\" y=\"98.568331\" style=\"fill: #1f77b4; stroke: #1f77b4\"/>\n     <use xlink:href=\"#ma567e8d22f\" x=\"163.587175\" y=\"84.748535\" style=\"fill: #1f77b4; stroke: #1f77b4\"/>\n     <use xlink:href=\"#ma567e8d22f\" x=\"161.517562\" y=\"83.853336\" style=\"fill: #1f77b4; stroke: #1f77b4\"/>\n     <use xlink:href=\"#ma567e8d22f\" x=\"134.445441\" y=\"72.13908\" style=\"fill: #1f77b4; stroke: #1f77b4\"/>\n     <use xlink:href=\"#ma567e8d22f\" x=\"125.756292\" y=\"76.11433\" style=\"fill: #1f77b4; stroke: #1f77b4\"/>\n     <use xlink:href=\"#ma567e8d22f\" x=\"86.611283\" y=\"50.264717\" style=\"fill: #1f77b4; stroke: #1f77b4\"/>\n     <use xlink:href=\"#ma567e8d22f\" x=\"145.387689\" y=\"81.258816\" style=\"fill: #1f77b4; stroke: #1f77b4\"/>\n     <use xlink:href=\"#ma567e8d22f\" x=\"212.471919\" y=\"125.775564\" style=\"fill: #1f77b4; stroke: #1f77b4\"/>\n     <use xlink:href=\"#ma567e8d22f\" x=\"122.556846\" y=\"69.177561\" style=\"fill: #1f77b4; stroke: #1f77b4\"/>\n     <use xlink:href=\"#ma567e8d22f\" x=\"139.116038\" y=\"107.593918\" style=\"fill: #1f77b4; stroke: #1f77b4\"/>\n     <use xlink:href=\"#ma567e8d22f\" x=\"145.563956\" y=\"89.005581\" style=\"fill: #1f77b4; stroke: #1f77b4\"/>\n     <use xlink:href=\"#ma567e8d22f\" x=\"104.991297\" y=\"49.00859\" style=\"fill: #1f77b4; stroke: #1f77b4\"/>\n     <use xlink:href=\"#ma567e8d22f\" x=\"130.886072\" y=\"93.148417\" style=\"fill: #1f77b4; stroke: #1f77b4\"/>\n     <use xlink:href=\"#ma567e8d22f\" x=\"94.778266\" y=\"54.975271\" style=\"fill: #1f77b4; stroke: #1f77b4\"/>\n     <use xlink:href=\"#ma567e8d22f\" x=\"167.982676\" y=\"106.062731\" style=\"fill: #1f77b4; stroke: #1f77b4\"/>\n     <use xlink:href=\"#ma567e8d22f\" x=\"140.599224\" y=\"67.131089\" style=\"fill: #1f77b4; stroke: #1f77b4\"/>\n     <use xlink:href=\"#ma567e8d22f\" x=\"152.175695\" y=\"87.973941\" style=\"fill: #1f77b4; stroke: #1f77b4\"/>\n     <use xlink:href=\"#ma567e8d22f\" x=\"154.710039\" y=\"81.958431\" style=\"fill: #1f77b4; stroke: #1f77b4\"/>\n     <use xlink:href=\"#ma567e8d22f\" x=\"138.717101\" y=\"71.787682\" style=\"fill: #1f77b4; stroke: #1f77b4\"/>\n     <use xlink:href=\"#ma567e8d22f\" x=\"144.866731\" y=\"68.164382\" style=\"fill: #1f77b4; stroke: #1f77b4\"/>\n     <use xlink:href=\"#ma567e8d22f\" x=\"125.355243\" y=\"85.659746\" style=\"fill: #1f77b4; stroke: #1f77b4\"/>\n     <use xlink:href=\"#ma567e8d22f\" x=\"160.337722\" y=\"93.307401\" style=\"fill: #1f77b4; stroke: #1f77b4\"/>\n     <use xlink:href=\"#ma567e8d22f\" x=\"123.923752\" y=\"59.874395\" style=\"fill: #1f77b4; stroke: #1f77b4\"/>\n     <use xlink:href=\"#ma567e8d22f\" x=\"169.933028\" y=\"92.233482\" style=\"fill: #1f77b4; stroke: #1f77b4\"/>\n     <use xlink:href=\"#ma567e8d22f\" x=\"117.695469\" y=\"50.526731\" style=\"fill: #1f77b4; stroke: #1f77b4\"/>\n     <use xlink:href=\"#ma567e8d22f\" x=\"165.829736\" y=\"101.8808\" style=\"fill: #1f77b4; stroke: #1f77b4\"/>\n     <use xlink:href=\"#ma567e8d22f\" x=\"119.182497\" y=\"70.606011\" style=\"fill: #1f77b4; stroke: #1f77b4\"/>\n     <use xlink:href=\"#ma567e8d22f\" x=\"104.533397\" y=\"62.323768\" style=\"fill: #1f77b4; stroke: #1f77b4\"/>\n     <use xlink:href=\"#ma567e8d22f\" x=\"172.034877\" y=\"106.741009\" style=\"fill: #1f77b4; stroke: #1f77b4\"/>\n     <use xlink:href=\"#ma567e8d22f\" x=\"113.868142\" y=\"60.223102\" style=\"fill: #1f77b4; stroke: #1f77b4\"/>\n     <use xlink:href=\"#ma567e8d22f\" x=\"135.961519\" y=\"79.076007\" style=\"fill: #1f77b4; stroke: #1f77b4\"/>\n     <use xlink:href=\"#ma567e8d22f\" x=\"115.681406\" y=\"74.039213\" style=\"fill: #1f77b4; stroke: #1f77b4\"/>\n     <use xlink:href=\"#ma567e8d22f\" x=\"142.810863\" y=\"84.371567\" style=\"fill: #1f77b4; stroke: #1f77b4\"/>\n     <use xlink:href=\"#ma567e8d22f\" x=\"145.38789\" y=\"83.232289\" style=\"fill: #1f77b4; stroke: #1f77b4\"/>\n     <use xlink:href=\"#ma567e8d22f\" x=\"147.729717\" y=\"85.329595\" style=\"fill: #1f77b4; stroke: #1f77b4\"/>\n     <use xlink:href=\"#ma567e8d22f\" x=\"132.983011\" y=\"83.866195\" style=\"fill: #1f77b4; stroke: #1f77b4\"/>\n     <use xlink:href=\"#ma567e8d22f\" x=\"114.312542\" y=\"66.579212\" style=\"fill: #1f77b4; stroke: #1f77b4\"/>\n     <use xlink:href=\"#ma567e8d22f\" x=\"101.366468\" y=\"53.452347\" style=\"fill: #1f77b4; stroke: #1f77b4\"/>\n     <use xlink:href=\"#ma567e8d22f\" x=\"195.228854\" y=\"104.750125\" style=\"fill: #1f77b4; stroke: #1f77b4\"/>\n     <use xlink:href=\"#ma567e8d22f\" x=\"142.790835\" y=\"56.757104\" style=\"fill: #1f77b4; stroke: #1f77b4\"/>\n     <use xlink:href=\"#ma567e8d22f\" x=\"144.071841\" y=\"70.401986\" style=\"fill: #1f77b4; stroke: #1f77b4\"/>\n     <use xlink:href=\"#ma567e8d22f\" x=\"179.641301\" y=\"96.060261\" style=\"fill: #1f77b4; stroke: #1f77b4\"/>\n     <use xlink:href=\"#ma567e8d22f\" x=\"130.25546\" y=\"74.335971\" style=\"fill: #1f77b4; stroke: #1f77b4\"/>\n     <use xlink:href=\"#ma567e8d22f\" x=\"154.352505\" y=\"81.5098\" style=\"fill: #1f77b4; stroke: #1f77b4\"/>\n     <use xlink:href=\"#ma567e8d22f\" x=\"138.05443\" y=\"72.024901\" style=\"fill: #1f77b4; stroke: #1f77b4\"/>\n     <use xlink:href=\"#ma567e8d22f\" x=\"120.350474\" y=\"57.784669\" style=\"fill: #1f77b4; stroke: #1f77b4\"/>\n     <use xlink:href=\"#ma567e8d22f\" x=\"109.820488\" y=\"57.670114\" style=\"fill: #1f77b4; stroke: #1f77b4\"/>\n     <use xlink:href=\"#ma567e8d22f\" x=\"82.43651\" y=\"42.442633\" style=\"fill: #1f77b4; stroke: #1f77b4\"/>\n     <use xlink:href=\"#ma567e8d22f\" x=\"113.305822\" y=\"57.983682\" style=\"fill: #1f77b4; stroke: #1f77b4\"/>\n     <use xlink:href=\"#ma567e8d22f\" x=\"176.37055\" y=\"96.252312\" style=\"fill: #1f77b4; stroke: #1f77b4\"/>\n     <use xlink:href=\"#ma567e8d22f\" x=\"174.916855\" y=\"100.939848\" style=\"fill: #1f77b4; stroke: #1f77b4\"/>\n     <use xlink:href=\"#ma567e8d22f\" x=\"122.572177\" y=\"81.733261\" style=\"fill: #1f77b4; stroke: #1f77b4\"/>\n     <use xlink:href=\"#ma567e8d22f\" x=\"140.32449\" y=\"73.148167\" style=\"fill: #1f77b4; stroke: #1f77b4\"/>\n     <use xlink:href=\"#ma567e8d22f\" x=\"146.130612\" y=\"92.39154\" style=\"fill: #1f77b4; stroke: #1f77b4\"/>\n     <use xlink:href=\"#ma567e8d22f\" x=\"90.362691\" y=\"46.845256\" style=\"fill: #1f77b4; stroke: #1f77b4\"/>\n     <use xlink:href=\"#ma567e8d22f\" x=\"133.991766\" y=\"76.545409\" style=\"fill: #1f77b4; stroke: #1f77b4\"/>\n     <use xlink:href=\"#ma567e8d22f\" x=\"134.665011\" y=\"73.609678\" style=\"fill: #1f77b4; stroke: #1f77b4\"/>\n     <use xlink:href=\"#ma567e8d22f\" x=\"110.52732\" y=\"55.091971\" style=\"fill: #1f77b4; stroke: #1f77b4\"/>\n     <use xlink:href=\"#ma567e8d22f\" x=\"104.134774\" y=\"59.204181\" style=\"fill: #1f77b4; stroke: #1f77b4\"/>\n     <use xlink:href=\"#ma567e8d22f\" x=\"55.97092\" y=\"30.71587\" style=\"fill: #1f77b4; stroke: #1f77b4\"/>\n     <use xlink:href=\"#ma567e8d22f\" x=\"123.383378\" y=\"71.83418\" style=\"fill: #1f77b4; stroke: #1f77b4\"/>\n     <use xlink:href=\"#ma567e8d22f\" x=\"167.610282\" y=\"104.643585\" style=\"fill: #1f77b4; stroke: #1f77b4\"/>\n     <use xlink:href=\"#ma567e8d22f\" x=\"172.217738\" y=\"97.427773\" style=\"fill: #1f77b4; stroke: #1f77b4\"/>\n     <use xlink:href=\"#ma567e8d22f\" x=\"135.16157\" y=\"65.288038\" style=\"fill: #1f77b4; stroke: #1f77b4\"/>\n     <use xlink:href=\"#ma567e8d22f\" x=\"148.774455\" y=\"70.125445\" style=\"fill: #1f77b4; stroke: #1f77b4\"/>\n     <use xlink:href=\"#ma567e8d22f\" x=\"145.953925\" y=\"77.499869\" style=\"fill: #1f77b4; stroke: #1f77b4\"/>\n     <use xlink:href=\"#ma567e8d22f\" x=\"145.599454\" y=\"76.564105\" style=\"fill: #1f77b4; stroke: #1f77b4\"/>\n     <use xlink:href=\"#ma567e8d22f\" x=\"151.551079\" y=\"104.132975\" style=\"fill: #1f77b4; stroke: #1f77b4\"/>\n     <use xlink:href=\"#ma567e8d22f\" x=\"158.350235\" y=\"84.152351\" style=\"fill: #1f77b4; stroke: #1f77b4\"/>\n     <use xlink:href=\"#ma567e8d22f\" x=\"146.463863\" y=\"80.672696\" style=\"fill: #1f77b4; stroke: #1f77b4\"/>\n     <use xlink:href=\"#ma567e8d22f\" x=\"136.708135\" y=\"73.328397\" style=\"fill: #1f77b4; stroke: #1f77b4\"/>\n     <use xlink:href=\"#ma567e8d22f\" x=\"136.471976\" y=\"82.887059\" style=\"fill: #1f77b4; stroke: #1f77b4\"/>\n     <use xlink:href=\"#ma567e8d22f\" x=\"118.544897\" y=\"69.631238\" style=\"fill: #1f77b4; stroke: #1f77b4\"/>\n     <use xlink:href=\"#ma567e8d22f\" x=\"153.457949\" y=\"85.058198\" style=\"fill: #1f77b4; stroke: #1f77b4\"/>\n     <use xlink:href=\"#ma567e8d22f\" x=\"142.819838\" y=\"88.741925\" style=\"fill: #1f77b4; stroke: #1f77b4\"/>\n     <use xlink:href=\"#ma567e8d22f\" x=\"123.166104\" y=\"64.944157\" style=\"fill: #1f77b4; stroke: #1f77b4\"/>\n     <use xlink:href=\"#ma567e8d22f\" x=\"164.77456\" y=\"88.019004\" style=\"fill: #1f77b4; stroke: #1f77b4\"/>\n     <use xlink:href=\"#ma567e8d22f\" x=\"154.424288\" y=\"98.115677\" style=\"fill: #1f77b4; stroke: #1f77b4\"/>\n     <use xlink:href=\"#ma567e8d22f\" x=\"131.843261\" y=\"73.464519\" style=\"fill: #1f77b4; stroke: #1f77b4\"/>\n     <use xlink:href=\"#ma567e8d22f\" x=\"138.284179\" y=\"71.902539\" style=\"fill: #1f77b4; stroke: #1f77b4\"/>\n     <use xlink:href=\"#ma567e8d22f\" x=\"121.268673\" y=\"60.292642\" style=\"fill: #1f77b4; stroke: #1f77b4\"/>\n     <use xlink:href=\"#ma567e8d22f\" x=\"106.636827\" y=\"74.15607\" style=\"fill: #1f77b4; stroke: #1f77b4\"/>\n     <use xlink:href=\"#ma567e8d22f\" x=\"104.552027\" y=\"70.764663\" style=\"fill: #1f77b4; stroke: #1f77b4\"/>\n     <use xlink:href=\"#ma567e8d22f\" x=\"105.17758\" y=\"51.738879\" style=\"fill: #1f77b4; stroke: #1f77b4\"/>\n     <use xlink:href=\"#ma567e8d22f\" x=\"146.141545\" y=\"97.52052\" style=\"fill: #1f77b4; stroke: #1f77b4\"/>\n     <use xlink:href=\"#ma567e8d22f\" x=\"186.647296\" y=\"109.531573\" style=\"fill: #1f77b4; stroke: #1f77b4\"/>\n     <use xlink:href=\"#ma567e8d22f\" x=\"103.155237\" y=\"57.507334\" style=\"fill: #1f77b4; stroke: #1f77b4\"/>\n     <use xlink:href=\"#ma567e8d22f\" x=\"154.730718\" y=\"86.34469\" style=\"fill: #1f77b4; stroke: #1f77b4\"/>\n     <use xlink:href=\"#ma567e8d22f\" x=\"107.372566\" y=\"72.961011\" style=\"fill: #1f77b4; stroke: #1f77b4\"/>\n     <use xlink:href=\"#ma567e8d22f\" x=\"185.048703\" y=\"105.217379\" style=\"fill: #1f77b4; stroke: #1f77b4\"/>\n     <use xlink:href=\"#ma567e8d22f\" x=\"118.833412\" y=\"65.184628\" style=\"fill: #1f77b4; stroke: #1f77b4\"/>\n     <use xlink:href=\"#ma567e8d22f\" x=\"103.23625\" y=\"45.179428\" style=\"fill: #1f77b4; stroke: #1f77b4\"/>\n     <use xlink:href=\"#ma567e8d22f\" x=\"137.00035\" y=\"64.114682\" style=\"fill: #1f77b4; stroke: #1f77b4\"/>\n     <use xlink:href=\"#ma567e8d22f\" x=\"120.415652\" y=\"64.653305\" style=\"fill: #1f77b4; stroke: #1f77b4\"/>\n     <use xlink:href=\"#ma567e8d22f\" x=\"134.298918\" y=\"74.334245\" style=\"fill: #1f77b4; stroke: #1f77b4\"/>\n     <use xlink:href=\"#ma567e8d22f\" x=\"89.752877\" y=\"49.90272\" style=\"fill: #1f77b4; stroke: #1f77b4\"/>\n     <use xlink:href=\"#ma567e8d22f\" x=\"129.188097\" y=\"99.272894\" style=\"fill: #1f77b4; stroke: #1f77b4\"/>\n     <use xlink:href=\"#ma567e8d22f\" x=\"118.806082\" y=\"63.452344\" style=\"fill: #1f77b4; stroke: #1f77b4\"/>\n     <use xlink:href=\"#ma567e8d22f\" x=\"103.734151\" y=\"59.676105\" style=\"fill: #1f77b4; stroke: #1f77b4\"/>\n     <use xlink:href=\"#ma567e8d22f\" x=\"168.300151\" y=\"100.052062\" style=\"fill: #1f77b4; stroke: #1f77b4\"/>\n     <use xlink:href=\"#ma567e8d22f\" x=\"158.093595\" y=\"72.125294\" style=\"fill: #1f77b4; stroke: #1f77b4\"/>\n     <use xlink:href=\"#ma567e8d22f\" x=\"103.897015\" y=\"44.812585\" style=\"fill: #1f77b4; stroke: #1f77b4\"/>\n     <use xlink:href=\"#ma567e8d22f\" x=\"124.399199\" y=\"72.887301\" style=\"fill: #1f77b4; stroke: #1f77b4\"/>\n     <use xlink:href=\"#ma567e8d22f\" x=\"164.802532\" y=\"104.936925\" style=\"fill: #1f77b4; stroke: #1f77b4\"/>\n     <use xlink:href=\"#ma567e8d22f\" x=\"147.245719\" y=\"89.472998\" style=\"fill: #1f77b4; stroke: #1f77b4\"/>\n     <use xlink:href=\"#ma567e8d22f\" x=\"114.763395\" y=\"70.301727\" style=\"fill: #1f77b4; stroke: #1f77b4\"/>\n     <use xlink:href=\"#ma567e8d22f\" x=\"127.83904\" y=\"73.750304\" style=\"fill: #1f77b4; stroke: #1f77b4\"/>\n     <use xlink:href=\"#ma567e8d22f\" x=\"147.136116\" y=\"85.027564\" style=\"fill: #1f77b4; stroke: #1f77b4\"/>\n     <use xlink:href=\"#ma567e8d22f\" x=\"92.08327\" y=\"72.760559\" style=\"fill: #1f77b4; stroke: #1f77b4\"/>\n     <use xlink:href=\"#ma567e8d22f\" x=\"188.220105\" y=\"75.427286\" style=\"fill: #1f77b4; stroke: #1f77b4\"/>\n     <use xlink:href=\"#ma567e8d22f\" x=\"114.000392\" y=\"82.591528\" style=\"fill: #1f77b4; stroke: #1f77b4\"/>\n     <use xlink:href=\"#ma567e8d22f\" x=\"118.330465\" y=\"71.078871\" style=\"fill: #1f77b4; stroke: #1f77b4\"/>\n     <use xlink:href=\"#ma567e8d22f\" x=\"150.784865\" y=\"96.071055\" style=\"fill: #1f77b4; stroke: #1f77b4\"/>\n     <use xlink:href=\"#ma567e8d22f\" x=\"174.155073\" y=\"97.167229\" style=\"fill: #1f77b4; stroke: #1f77b4\"/>\n     <use xlink:href=\"#ma567e8d22f\" x=\"133.037667\" y=\"64.56685\" style=\"fill: #1f77b4; stroke: #1f77b4\"/>\n     <use xlink:href=\"#ma567e8d22f\" x=\"156.078999\" y=\"85.214379\" style=\"fill: #1f77b4; stroke: #1f77b4\"/>\n     <use xlink:href=\"#ma567e8d22f\" x=\"115.525047\" y=\"68.331983\" style=\"fill: #1f77b4; stroke: #1f77b4\"/>\n     <use xlink:href=\"#ma567e8d22f\" x=\"137.722438\" y=\"83.470198\" style=\"fill: #1f77b4; stroke: #1f77b4\"/>\n     <use xlink:href=\"#ma567e8d22f\" x=\"120.671062\" y=\"82.228056\" style=\"fill: #1f77b4; stroke: #1f77b4\"/>\n     <use xlink:href=\"#ma567e8d22f\" x=\"140.355371\" y=\"80.4126\" style=\"fill: #1f77b4; stroke: #1f77b4\"/>\n     <use xlink:href=\"#ma567e8d22f\" x=\"162.481824\" y=\"105.733683\" style=\"fill: #1f77b4; stroke: #1f77b4\"/>\n     <use xlink:href=\"#ma567e8d22f\" x=\"149.598037\" y=\"80.745453\" style=\"fill: #1f77b4; stroke: #1f77b4\"/>\n     <use xlink:href=\"#ma567e8d22f\" x=\"138.122319\" y=\"84.380791\" style=\"fill: #1f77b4; stroke: #1f77b4\"/>\n     <use xlink:href=\"#ma567e8d22f\" x=\"162.013503\" y=\"103.191341\" style=\"fill: #1f77b4; stroke: #1f77b4\"/>\n     <use xlink:href=\"#ma567e8d22f\" x=\"113.998712\" y=\"79.852888\" style=\"fill: #1f77b4; stroke: #1f77b4\"/>\n     <use xlink:href=\"#ma567e8d22f\" x=\"75.584144\" y=\"33.93405\" style=\"fill: #1f77b4; stroke: #1f77b4\"/>\n     <use xlink:href=\"#ma567e8d22f\" x=\"151.626181\" y=\"102.642286\" style=\"fill: #1f77b4; stroke: #1f77b4\"/>\n     <use xlink:href=\"#ma567e8d22f\" x=\"163.749932\" y=\"92.77629\" style=\"fill: #1f77b4; stroke: #1f77b4\"/>\n     <use xlink:href=\"#ma567e8d22f\" x=\"80.792883\" y=\"58.497294\" style=\"fill: #1f77b4; stroke: #1f77b4\"/>\n     <use xlink:href=\"#ma567e8d22f\" x=\"172.830651\" y=\"91.898233\" style=\"fill: #1f77b4; stroke: #1f77b4\"/>\n     <use xlink:href=\"#ma567e8d22f\" x=\"157.178051\" y=\"92.400014\" style=\"fill: #1f77b4; stroke: #1f77b4\"/>\n     <use xlink:href=\"#ma567e8d22f\" x=\"130.321163\" y=\"71.221405\" style=\"fill: #1f77b4; stroke: #1f77b4\"/>\n     <use xlink:href=\"#ma567e8d22f\" x=\"137.753849\" y=\"71.859234\" style=\"fill: #1f77b4; stroke: #1f77b4\"/>\n     <use xlink:href=\"#ma567e8d22f\" x=\"104.24453\" y=\"54.534898\" style=\"fill: #1f77b4; stroke: #1f77b4\"/>\n     <use xlink:href=\"#ma567e8d22f\" x=\"124.720758\" y=\"49.314787\" style=\"fill: #1f77b4; stroke: #1f77b4\"/>\n     <use xlink:href=\"#ma567e8d22f\" x=\"174.519589\" y=\"123.186278\" style=\"fill: #1f77b4; stroke: #1f77b4\"/>\n     <use xlink:href=\"#ma567e8d22f\" x=\"120.220728\" y=\"57.546209\" style=\"fill: #1f77b4; stroke: #1f77b4\"/>\n     <use xlink:href=\"#ma567e8d22f\" x=\"121.549005\" y=\"72.098878\" style=\"fill: #1f77b4; stroke: #1f77b4\"/>\n     <use xlink:href=\"#ma567e8d22f\" x=\"179.957858\" y=\"87.607089\" style=\"fill: #1f77b4; stroke: #1f77b4\"/>\n     <use xlink:href=\"#ma567e8d22f\" x=\"132.650254\" y=\"88.594922\" style=\"fill: #1f77b4; stroke: #1f77b4\"/>\n     <use xlink:href=\"#ma567e8d22f\" x=\"121.850736\" y=\"39.046357\" style=\"fill: #1f77b4; stroke: #1f77b4\"/>\n     <use xlink:href=\"#ma567e8d22f\" x=\"154.414632\" y=\"103.342214\" style=\"fill: #1f77b4; stroke: #1f77b4\"/>\n     <use xlink:href=\"#ma567e8d22f\" x=\"91.065347\" y=\"60.802763\" style=\"fill: #1f77b4; stroke: #1f77b4\"/>\n     <use xlink:href=\"#ma567e8d22f\" x=\"140.032685\" y=\"88.527668\" style=\"fill: #1f77b4; stroke: #1f77b4\"/>\n     <use xlink:href=\"#ma567e8d22f\" x=\"117.849839\" y=\"67.597503\" style=\"fill: #1f77b4; stroke: #1f77b4\"/>\n     <use xlink:href=\"#ma567e8d22f\" x=\"149.711775\" y=\"71.246611\" style=\"fill: #1f77b4; stroke: #1f77b4\"/>\n     <use xlink:href=\"#ma567e8d22f\" x=\"55.503511\" y=\"29.927279\" style=\"fill: #1f77b4; stroke: #1f77b4\"/>\n     <use xlink:href=\"#ma567e8d22f\" x=\"133.832044\" y=\"67.593995\" style=\"fill: #1f77b4; stroke: #1f77b4\"/>\n     <use xlink:href=\"#ma567e8d22f\" x=\"146.665687\" y=\"82.066696\" style=\"fill: #1f77b4; stroke: #1f77b4\"/>\n     <use xlink:href=\"#ma567e8d22f\" x=\"163.517822\" y=\"114.900561\" style=\"fill: #1f77b4; stroke: #1f77b4\"/>\n     <use xlink:href=\"#ma567e8d22f\" x=\"151.552553\" y=\"86.162858\" style=\"fill: #1f77b4; stroke: #1f77b4\"/>\n     <use xlink:href=\"#ma567e8d22f\" x=\"138.133811\" y=\"72.291083\" style=\"fill: #1f77b4; stroke: #1f77b4\"/>\n     <use xlink:href=\"#ma567e8d22f\" x=\"124.56844\" y=\"69.244708\" style=\"fill: #1f77b4; stroke: #1f77b4\"/>\n     <use xlink:href=\"#ma567e8d22f\" x=\"98.961074\" y=\"60.947381\" style=\"fill: #1f77b4; stroke: #1f77b4\"/>\n     <use xlink:href=\"#ma567e8d22f\" x=\"166.177562\" y=\"90.283077\" style=\"fill: #1f77b4; stroke: #1f77b4\"/>\n     <use xlink:href=\"#ma567e8d22f\" x=\"134.967117\" y=\"80.937409\" style=\"fill: #1f77b4; stroke: #1f77b4\"/>\n     <use xlink:href=\"#ma567e8d22f\" x=\"155.429351\" y=\"106.204035\" style=\"fill: #1f77b4; stroke: #1f77b4\"/>\n     <use xlink:href=\"#ma567e8d22f\" x=\"129.506732\" y=\"65.557921\" style=\"fill: #1f77b4; stroke: #1f77b4\"/>\n     <use xlink:href=\"#ma567e8d22f\" x=\"190.999324\" y=\"124.32166\" style=\"fill: #1f77b4; stroke: #1f77b4\"/>\n     <use xlink:href=\"#ma567e8d22f\" x=\"153.619636\" y=\"83.517647\" style=\"fill: #1f77b4; stroke: #1f77b4\"/>\n     <use xlink:href=\"#ma567e8d22f\" x=\"136.895089\" y=\"87.927862\" style=\"fill: #1f77b4; stroke: #1f77b4\"/>\n     <use xlink:href=\"#ma567e8d22f\" x=\"152.069318\" y=\"82.872078\" style=\"fill: #1f77b4; stroke: #1f77b4\"/>\n     <use xlink:href=\"#ma567e8d22f\" x=\"132.311495\" y=\"77.156859\" style=\"fill: #1f77b4; stroke: #1f77b4\"/>\n     <use xlink:href=\"#ma567e8d22f\" x=\"162.843577\" y=\"92.842975\" style=\"fill: #1f77b4; stroke: #1f77b4\"/>\n     <use xlink:href=\"#ma567e8d22f\" x=\"118.262645\" y=\"86.876709\" style=\"fill: #1f77b4; stroke: #1f77b4\"/>\n     <use xlink:href=\"#ma567e8d22f\" x=\"157.565998\" y=\"87.275976\" style=\"fill: #1f77b4; stroke: #1f77b4\"/>\n     <use xlink:href=\"#ma567e8d22f\" x=\"101.385216\" y=\"55.592381\" style=\"fill: #1f77b4; stroke: #1f77b4\"/>\n     <use xlink:href=\"#ma567e8d22f\" x=\"179.23794\" y=\"110.945506\" style=\"fill: #1f77b4; stroke: #1f77b4\"/>\n     <use xlink:href=\"#ma567e8d22f\" x=\"160.242934\" y=\"89.400639\" style=\"fill: #1f77b4; stroke: #1f77b4\"/>\n     <use xlink:href=\"#ma567e8d22f\" x=\"149.616878\" y=\"84.990469\" style=\"fill: #1f77b4; stroke: #1f77b4\"/>\n     <use xlink:href=\"#ma567e8d22f\" x=\"99.673506\" y=\"60.341909\" style=\"fill: #1f77b4; stroke: #1f77b4\"/>\n     <use xlink:href=\"#ma567e8d22f\" x=\"155.666206\" y=\"93.661912\" style=\"fill: #1f77b4; stroke: #1f77b4\"/>\n     <use xlink:href=\"#ma567e8d22f\" x=\"174.459263\" y=\"105.663712\" style=\"fill: #1f77b4; stroke: #1f77b4\"/>\n     <use xlink:href=\"#ma567e8d22f\" x=\"172.669613\" y=\"102.39673\" style=\"fill: #1f77b4; stroke: #1f77b4\"/>\n     <use xlink:href=\"#ma567e8d22f\" x=\"166.882164\" y=\"89.382126\" style=\"fill: #1f77b4; stroke: #1f77b4\"/>\n     <use xlink:href=\"#ma567e8d22f\" x=\"140.487518\" y=\"68.635222\" style=\"fill: #1f77b4; stroke: #1f77b4\"/>\n     <use xlink:href=\"#ma567e8d22f\" x=\"104.852582\" y=\"48.507511\" style=\"fill: #1f77b4; stroke: #1f77b4\"/>\n     <use xlink:href=\"#ma567e8d22f\" x=\"117.718779\" y=\"62.381702\" style=\"fill: #1f77b4; stroke: #1f77b4\"/>\n     <use xlink:href=\"#ma567e8d22f\" x=\"135.218931\" y=\"87.095175\" style=\"fill: #1f77b4; stroke: #1f77b4\"/>\n     <use xlink:href=\"#ma567e8d22f\" x=\"106.888826\" y=\"58.013054\" style=\"fill: #1f77b4; stroke: #1f77b4\"/>\n     <use xlink:href=\"#ma567e8d22f\" x=\"108.634907\" y=\"72.274083\" style=\"fill: #1f77b4; stroke: #1f77b4\"/>\n     <use xlink:href=\"#ma567e8d22f\" x=\"202.509399\" y=\"113.821463\" style=\"fill: #1f77b4; stroke: #1f77b4\"/>\n     <use xlink:href=\"#ma567e8d22f\" x=\"90.280076\" y=\"30.440364\" style=\"fill: #1f77b4; stroke: #1f77b4\"/>\n     <use xlink:href=\"#ma567e8d22f\" x=\"168.781949\" y=\"90.08342\" style=\"fill: #1f77b4; stroke: #1f77b4\"/>\n     <use xlink:href=\"#ma567e8d22f\" x=\"108.317236\" y=\"52.522397\" style=\"fill: #1f77b4; stroke: #1f77b4\"/>\n     <use xlink:href=\"#ma567e8d22f\" x=\"135.765231\" y=\"78.988049\" style=\"fill: #1f77b4; stroke: #1f77b4\"/>\n     <use xlink:href=\"#ma567e8d22f\" x=\"124.557761\" y=\"77.22028\" style=\"fill: #1f77b4; stroke: #1f77b4\"/>\n     <use xlink:href=\"#ma567e8d22f\" x=\"166.337015\" y=\"102.192402\" style=\"fill: #1f77b4; stroke: #1f77b4\"/>\n     <use xlink:href=\"#ma567e8d22f\" x=\"175.46821\" y=\"114.428267\" style=\"fill: #1f77b4; stroke: #1f77b4\"/>\n     <use xlink:href=\"#ma567e8d22f\" x=\"147.46072\" y=\"81.088851\" style=\"fill: #1f77b4; stroke: #1f77b4\"/>\n     <use xlink:href=\"#ma567e8d22f\" x=\"85.412482\" y=\"40.827317\" style=\"fill: #1f77b4; stroke: #1f77b4\"/>\n     <use xlink:href=\"#ma567e8d22f\" x=\"154.854329\" y=\"81.188148\" style=\"fill: #1f77b4; stroke: #1f77b4\"/>\n     <use xlink:href=\"#ma567e8d22f\" x=\"161.21578\" y=\"93.858531\" style=\"fill: #1f77b4; stroke: #1f77b4\"/>\n     <use xlink:href=\"#ma567e8d22f\" x=\"178.748503\" y=\"102.184209\" style=\"fill: #1f77b4; stroke: #1f77b4\"/>\n     <use xlink:href=\"#ma567e8d22f\" x=\"103.296931\" y=\"61.547138\" style=\"fill: #1f77b4; stroke: #1f77b4\"/>\n     <use xlink:href=\"#ma567e8d22f\" x=\"155.390676\" y=\"96.649567\" style=\"fill: #1f77b4; stroke: #1f77b4\"/>\n     <use xlink:href=\"#ma567e8d22f\" x=\"134.447054\" y=\"63.299889\" style=\"fill: #1f77b4; stroke: #1f77b4\"/>\n     <use xlink:href=\"#ma567e8d22f\" x=\"173.794879\" y=\"112.556213\" style=\"fill: #1f77b4; stroke: #1f77b4\"/>\n     <use xlink:href=\"#ma567e8d22f\" x=\"110.285015\" y=\"40.701852\" style=\"fill: #1f77b4; stroke: #1f77b4\"/>\n     <use xlink:href=\"#ma567e8d22f\" x=\"88.45584\" y=\"53.521808\" style=\"fill: #1f77b4; stroke: #1f77b4\"/>\n     <use xlink:href=\"#ma567e8d22f\" x=\"182.759286\" y=\"99.851388\" style=\"fill: #1f77b4; stroke: #1f77b4\"/>\n     <use xlink:href=\"#ma567e8d22f\" x=\"113.209988\" y=\"51.977571\" style=\"fill: #1f77b4; stroke: #1f77b4\"/>\n     <use xlink:href=\"#ma567e8d22f\" x=\"154.127113\" y=\"91.455017\" style=\"fill: #1f77b4; stroke: #1f77b4\"/>\n     <use xlink:href=\"#ma567e8d22f\" x=\"188.269826\" y=\"103.671842\" style=\"fill: #1f77b4; stroke: #1f77b4\"/>\n     <use xlink:href=\"#ma567e8d22f\" x=\"202.235989\" y=\"112.582767\" style=\"fill: #1f77b4; stroke: #1f77b4\"/>\n     <use xlink:href=\"#ma567e8d22f\" x=\"154.443404\" y=\"105.371558\" style=\"fill: #1f77b4; stroke: #1f77b4\"/>\n     <use xlink:href=\"#ma567e8d22f\" x=\"162.260259\" y=\"100.19475\" style=\"fill: #1f77b4; stroke: #1f77b4\"/>\n     <use xlink:href=\"#ma567e8d22f\" x=\"126.078149\" y=\"62.585173\" style=\"fill: #1f77b4; stroke: #1f77b4\"/>\n     <use xlink:href=\"#ma567e8d22f\" x=\"112.508072\" y=\"63.590486\" style=\"fill: #1f77b4; stroke: #1f77b4\"/>\n     <use xlink:href=\"#ma567e8d22f\" x=\"113.802721\" y=\"76.933835\" style=\"fill: #1f77b4; stroke: #1f77b4\"/>\n     <use xlink:href=\"#ma567e8d22f\" x=\"150.19797\" y=\"96.292658\" style=\"fill: #1f77b4; stroke: #1f77b4\"/>\n     <use xlink:href=\"#ma567e8d22f\" x=\"157.449025\" y=\"81.841413\" style=\"fill: #1f77b4; stroke: #1f77b4\"/>\n     <use xlink:href=\"#ma567e8d22f\" x=\"143.189051\" y=\"93.005787\" style=\"fill: #1f77b4; stroke: #1f77b4\"/>\n     <use xlink:href=\"#ma567e8d22f\" x=\"144.502329\" y=\"101.08189\" style=\"fill: #1f77b4; stroke: #1f77b4\"/>\n     <use xlink:href=\"#ma567e8d22f\" x=\"118.887812\" y=\"64.647333\" style=\"fill: #1f77b4; stroke: #1f77b4\"/>\n     <use xlink:href=\"#ma567e8d22f\" x=\"149.617585\" y=\"89.765842\" style=\"fill: #1f77b4; stroke: #1f77b4\"/>\n     <use xlink:href=\"#ma567e8d22f\" x=\"135.084091\" y=\"87.232293\" style=\"fill: #1f77b4; stroke: #1f77b4\"/>\n     <use xlink:href=\"#ma567e8d22f\" x=\"153.722747\" y=\"91.728928\" style=\"fill: #1f77b4; stroke: #1f77b4\"/>\n     <use xlink:href=\"#ma567e8d22f\" x=\"92.492719\" y=\"66.633968\" style=\"fill: #1f77b4; stroke: #1f77b4\"/>\n     <use xlink:href=\"#ma567e8d22f\" x=\"113.431143\" y=\"49.99994\" style=\"fill: #1f77b4; stroke: #1f77b4\"/>\n     <use xlink:href=\"#ma567e8d22f\" x=\"142.425021\" y=\"102.185262\" style=\"fill: #1f77b4; stroke: #1f77b4\"/>\n     <use xlink:href=\"#ma567e8d22f\" x=\"161.492804\" y=\"100.875263\" style=\"fill: #1f77b4; stroke: #1f77b4\"/>\n     <use xlink:href=\"#ma567e8d22f\" x=\"121.269389\" y=\"71.613125\" style=\"fill: #1f77b4; stroke: #1f77b4\"/>\n     <use xlink:href=\"#ma567e8d22f\" x=\"132.576326\" y=\"66.936618\" style=\"fill: #1f77b4; stroke: #1f77b4\"/>\n     <use xlink:href=\"#ma567e8d22f\" x=\"82.668626\" y=\"46.71981\" style=\"fill: #1f77b4; stroke: #1f77b4\"/>\n     <use xlink:href=\"#ma567e8d22f\" x=\"114.058111\" y=\"68.322448\" style=\"fill: #1f77b4; stroke: #1f77b4\"/>\n     <use xlink:href=\"#ma567e8d22f\" x=\"91.243162\" y=\"56.708269\" style=\"fill: #1f77b4; stroke: #1f77b4\"/>\n     <use xlink:href=\"#ma567e8d22f\" x=\"171.340866\" y=\"106.95594\" style=\"fill: #1f77b4; stroke: #1f77b4\"/>\n     <use xlink:href=\"#ma567e8d22f\" x=\"155.780982\" y=\"96.620275\" style=\"fill: #1f77b4; stroke: #1f77b4\"/>\n     <use xlink:href=\"#ma567e8d22f\" x=\"163.039191\" y=\"88.514299\" style=\"fill: #1f77b4; stroke: #1f77b4\"/>\n     <use xlink:href=\"#ma567e8d22f\" x=\"125.618369\" y=\"71.214633\" style=\"fill: #1f77b4; stroke: #1f77b4\"/>\n     <use xlink:href=\"#ma567e8d22f\" x=\"149.793837\" y=\"94.33823\" style=\"fill: #1f77b4; stroke: #1f77b4\"/>\n     <use xlink:href=\"#ma567e8d22f\" x=\"99.412048\" y=\"82.161531\" style=\"fill: #1f77b4; stroke: #1f77b4\"/>\n     <use xlink:href=\"#ma567e8d22f\" x=\"106.170352\" y=\"65.420174\" style=\"fill: #1f77b4; stroke: #1f77b4\"/>\n     <use xlink:href=\"#ma567e8d22f\" x=\"149.171404\" y=\"86.453604\" style=\"fill: #1f77b4; stroke: #1f77b4\"/>\n     <use xlink:href=\"#ma567e8d22f\" x=\"137.764354\" y=\"76.058196\" style=\"fill: #1f77b4; stroke: #1f77b4\"/>\n     <use xlink:href=\"#ma567e8d22f\" x=\"160.232165\" y=\"97.147914\" style=\"fill: #1f77b4; stroke: #1f77b4\"/>\n     <use xlink:href=\"#ma567e8d22f\" x=\"93.000497\" y=\"52.381289\" style=\"fill: #1f77b4; stroke: #1f77b4\"/>\n     <use xlink:href=\"#ma567e8d22f\" x=\"113.30099\" y=\"82.845651\" style=\"fill: #1f77b4; stroke: #1f77b4\"/>\n     <use xlink:href=\"#ma567e8d22f\" x=\"85.453237\" y=\"60.566867\" style=\"fill: #1f77b4; stroke: #1f77b4\"/>\n     <use xlink:href=\"#ma567e8d22f\" x=\"103.64906\" y=\"63.645686\" style=\"fill: #1f77b4; stroke: #1f77b4\"/>\n     <use xlink:href=\"#ma567e8d22f\" x=\"95.811384\" y=\"46.26367\" style=\"fill: #1f77b4; stroke: #1f77b4\"/>\n     <use xlink:href=\"#ma567e8d22f\" x=\"135.269818\" y=\"87.547523\" style=\"fill: #1f77b4; stroke: #1f77b4\"/>\n     <use xlink:href=\"#ma567e8d22f\" x=\"154.021373\" y=\"89.272082\" style=\"fill: #1f77b4; stroke: #1f77b4\"/>\n     <use xlink:href=\"#ma567e8d22f\" x=\"142.875541\" y=\"71.981374\" style=\"fill: #1f77b4; stroke: #1f77b4\"/>\n     <use xlink:href=\"#ma567e8d22f\" x=\"183.835377\" y=\"117.832893\" style=\"fill: #1f77b4; stroke: #1f77b4\"/>\n     <use xlink:href=\"#ma567e8d22f\" x=\"118.34648\" y=\"64.824731\" style=\"fill: #1f77b4; stroke: #1f77b4\"/>\n     <use xlink:href=\"#ma567e8d22f\" x=\"133.702465\" y=\"69.556711\" style=\"fill: #1f77b4; stroke: #1f77b4\"/>\n     <use xlink:href=\"#ma567e8d22f\" x=\"140.244832\" y=\"80.164884\" style=\"fill: #1f77b4; stroke: #1f77b4\"/>\n     <use xlink:href=\"#ma567e8d22f\" x=\"105.069174\" y=\"67.746262\" style=\"fill: #1f77b4; stroke: #1f77b4\"/>\n     <use xlink:href=\"#ma567e8d22f\" x=\"111.817224\" y=\"87.678845\" style=\"fill: #1f77b4; stroke: #1f77b4\"/>\n     <use xlink:href=\"#ma567e8d22f\" x=\"125.146957\" y=\"65.796194\" style=\"fill: #1f77b4; stroke: #1f77b4\"/>\n     <use xlink:href=\"#ma567e8d22f\" x=\"106.234538\" y=\"56.908423\" style=\"fill: #1f77b4; stroke: #1f77b4\"/>\n     <use xlink:href=\"#ma567e8d22f\" x=\"143.973411\" y=\"60.886637\" style=\"fill: #1f77b4; stroke: #1f77b4\"/>\n     <use xlink:href=\"#ma567e8d22f\" x=\"128.426153\" y=\"98.562612\" style=\"fill: #1f77b4; stroke: #1f77b4\"/>\n     <use xlink:href=\"#ma567e8d22f\" x=\"200.618283\" y=\"110.866031\" style=\"fill: #1f77b4; stroke: #1f77b4\"/>\n     <use xlink:href=\"#ma567e8d22f\" x=\"112.372858\" y=\"85.549869\" style=\"fill: #1f77b4; stroke: #1f77b4\"/>\n     <use xlink:href=\"#ma567e8d22f\" x=\"141.349873\" y=\"57.798075\" style=\"fill: #1f77b4; stroke: #1f77b4\"/>\n     <use xlink:href=\"#ma567e8d22f\" x=\"160.922067\" y=\"85.942664\" style=\"fill: #1f77b4; stroke: #1f77b4\"/>\n     <use xlink:href=\"#ma567e8d22f\" x=\"149.560985\" y=\"86.20397\" style=\"fill: #1f77b4; stroke: #1f77b4\"/>\n     <use xlink:href=\"#ma567e8d22f\" x=\"65.105549\" y=\"38.079715\" style=\"fill: #1f77b4; stroke: #1f77b4\"/>\n     <use xlink:href=\"#ma567e8d22f\" x=\"179.271614\" y=\"100.802459\" style=\"fill: #1f77b4; stroke: #1f77b4\"/>\n     <use xlink:href=\"#ma567e8d22f\" x=\"138.729045\" y=\"70.049374\" style=\"fill: #1f77b4; stroke: #1f77b4\"/>\n     <use xlink:href=\"#ma567e8d22f\" x=\"163.711322\" y=\"79.238118\" style=\"fill: #1f77b4; stroke: #1f77b4\"/>\n     <use xlink:href=\"#ma567e8d22f\" x=\"144.990285\" y=\"86.948443\" style=\"fill: #1f77b4; stroke: #1f77b4\"/>\n     <use xlink:href=\"#ma567e8d22f\" x=\"117.475318\" y=\"80.213811\" style=\"fill: #1f77b4; stroke: #1f77b4\"/>\n     <use xlink:href=\"#ma567e8d22f\" x=\"154.493611\" y=\"106.485089\" style=\"fill: #1f77b4; stroke: #1f77b4\"/>\n     <use xlink:href=\"#ma567e8d22f\" x=\"123.349019\" y=\"68.939078\" style=\"fill: #1f77b4; stroke: #1f77b4\"/>\n     <use xlink:href=\"#ma567e8d22f\" x=\"146.138715\" y=\"84.373285\" style=\"fill: #1f77b4; stroke: #1f77b4\"/>\n     <use xlink:href=\"#ma567e8d22f\" x=\"126.811128\" y=\"63.890917\" style=\"fill: #1f77b4; stroke: #1f77b4\"/>\n     <use xlink:href=\"#ma567e8d22f\" x=\"191.657891\" y=\"92.21072\" style=\"fill: #1f77b4; stroke: #1f77b4\"/>\n     <use xlink:href=\"#ma567e8d22f\" x=\"181.385076\" y=\"102.42496\" style=\"fill: #1f77b4; stroke: #1f77b4\"/>\n     <use xlink:href=\"#ma567e8d22f\" x=\"134.596375\" y=\"77.780141\" style=\"fill: #1f77b4; stroke: #1f77b4\"/>\n     <use xlink:href=\"#ma567e8d22f\" x=\"178.651714\" y=\"84.72834\" style=\"fill: #1f77b4; stroke: #1f77b4\"/>\n     <use xlink:href=\"#ma567e8d22f\" x=\"167.385775\" y=\"106.827367\" style=\"fill: #1f77b4; stroke: #1f77b4\"/>\n     <use xlink:href=\"#ma567e8d22f\" x=\"180.697113\" y=\"107.582991\" style=\"fill: #1f77b4; stroke: #1f77b4\"/>\n     <use xlink:href=\"#ma567e8d22f\" x=\"112.373757\" y=\"76.456074\" style=\"fill: #1f77b4; stroke: #1f77b4\"/>\n     <use xlink:href=\"#ma567e8d22f\" x=\"117.260593\" y=\"61.759469\" style=\"fill: #1f77b4; stroke: #1f77b4\"/>\n     <use xlink:href=\"#ma567e8d22f\" x=\"133.064481\" y=\"68.413701\" style=\"fill: #1f77b4; stroke: #1f77b4\"/>\n     <use xlink:href=\"#ma567e8d22f\" x=\"82.265131\" y=\"30.384169\" style=\"fill: #1f77b4; stroke: #1f77b4\"/>\n     <use xlink:href=\"#ma567e8d22f\" x=\"158.810455\" y=\"107.749996\" style=\"fill: #1f77b4; stroke: #1f77b4\"/>\n     <use xlink:href=\"#ma567e8d22f\" x=\"100.220934\" y=\"53.557518\" style=\"fill: #1f77b4; stroke: #1f77b4\"/>\n     <use xlink:href=\"#ma567e8d22f\" x=\"154.946772\" y=\"90.208413\" style=\"fill: #1f77b4; stroke: #1f77b4\"/>\n     <use xlink:href=\"#ma567e8d22f\" x=\"118.543533\" y=\"79.274232\" style=\"fill: #1f77b4; stroke: #1f77b4\"/>\n     <use xlink:href=\"#ma567e8d22f\" x=\"143.203005\" y=\"66.335729\" style=\"fill: #1f77b4; stroke: #1f77b4\"/>\n     <use xlink:href=\"#ma567e8d22f\" x=\"111.401101\" y=\"63.793875\" style=\"fill: #1f77b4; stroke: #1f77b4\"/>\n     <use xlink:href=\"#ma567e8d22f\" x=\"119.188134\" y=\"54.312227\" style=\"fill: #1f77b4; stroke: #1f77b4\"/>\n     <use xlink:href=\"#ma567e8d22f\" x=\"83.23917\" y=\"53.862443\" style=\"fill: #1f77b4; stroke: #1f77b4\"/>\n     <use xlink:href=\"#ma567e8d22f\" x=\"137.769085\" y=\"72.36447\" style=\"fill: #1f77b4; stroke: #1f77b4\"/>\n     <use xlink:href=\"#ma567e8d22f\" x=\"97.54814\" y=\"66.356023\" style=\"fill: #1f77b4; stroke: #1f77b4\"/>\n     <use xlink:href=\"#ma567e8d22f\" x=\"140.769252\" y=\"74.585853\" style=\"fill: #1f77b4; stroke: #1f77b4\"/>\n     <use xlink:href=\"#ma567e8d22f\" x=\"146.396976\" y=\"74.740757\" style=\"fill: #1f77b4; stroke: #1f77b4\"/>\n     <use xlink:href=\"#ma567e8d22f\" x=\"122.975778\" y=\"53.938596\" style=\"fill: #1f77b4; stroke: #1f77b4\"/>\n     <use xlink:href=\"#ma567e8d22f\" x=\"129.194976\" y=\"66.960337\" style=\"fill: #1f77b4; stroke: #1f77b4\"/>\n     <use xlink:href=\"#ma567e8d22f\" x=\"164.976319\" y=\"87.847221\" style=\"fill: #1f77b4; stroke: #1f77b4\"/>\n     <use xlink:href=\"#ma567e8d22f\" x=\"102.258861\" y=\"76.069266\" style=\"fill: #1f77b4; stroke: #1f77b4\"/>\n     <use xlink:href=\"#ma567e8d22f\" x=\"129.202076\" y=\"78.914949\" style=\"fill: #1f77b4; stroke: #1f77b4\"/>\n     <use xlink:href=\"#ma567e8d22f\" x=\"110.119037\" y=\"45.302152\" style=\"fill: #1f77b4; stroke: #1f77b4\"/>\n     <use xlink:href=\"#ma567e8d22f\" x=\"124.27733\" y=\"75.6473\" style=\"fill: #1f77b4; stroke: #1f77b4\"/>\n     <use xlink:href=\"#ma567e8d22f\" x=\"141.456513\" y=\"66.698756\" style=\"fill: #1f77b4; stroke: #1f77b4\"/>\n     <use xlink:href=\"#ma567e8d22f\" x=\"140.521873\" y=\"91.354783\" style=\"fill: #1f77b4; stroke: #1f77b4\"/>\n     <use xlink:href=\"#ma567e8d22f\" x=\"37.81946\" y=\"13.377273\" style=\"fill: #1f77b4; stroke: #1f77b4\"/>\n     <use xlink:href=\"#ma567e8d22f\" x=\"125.837071\" y=\"62.244194\" style=\"fill: #1f77b4; stroke: #1f77b4\"/>\n     <use xlink:href=\"#ma567e8d22f\" x=\"154.276345\" y=\"79.813694\" style=\"fill: #1f77b4; stroke: #1f77b4\"/>\n     <use xlink:href=\"#ma567e8d22f\" x=\"116.249411\" y=\"60.332371\" style=\"fill: #1f77b4; stroke: #1f77b4\"/>\n     <use xlink:href=\"#ma567e8d22f\" x=\"99.076961\" y=\"64.257318\" style=\"fill: #1f77b4; stroke: #1f77b4\"/>\n     <use xlink:href=\"#ma567e8d22f\" x=\"131.34107\" y=\"70.672751\" style=\"fill: #1f77b4; stroke: #1f77b4\"/>\n     <use xlink:href=\"#ma567e8d22f\" x=\"104.617708\" y=\"72.595328\" style=\"fill: #1f77b4; stroke: #1f77b4\"/>\n     <use xlink:href=\"#ma567e8d22f\" x=\"128.833495\" y=\"72.801554\" style=\"fill: #1f77b4; stroke: #1f77b4\"/>\n     <use xlink:href=\"#ma567e8d22f\" x=\"168.293658\" y=\"95.828726\" style=\"fill: #1f77b4; stroke: #1f77b4\"/>\n     <use xlink:href=\"#ma567e8d22f\" x=\"142.044694\" y=\"97.129453\" style=\"fill: #1f77b4; stroke: #1f77b4\"/>\n     <use xlink:href=\"#ma567e8d22f\" x=\"62.404187\" y=\"38.38194\" style=\"fill: #1f77b4; stroke: #1f77b4\"/>\n     <use xlink:href=\"#ma567e8d22f\" x=\"113.493786\" y=\"54.316205\" style=\"fill: #1f77b4; stroke: #1f77b4\"/>\n     <use xlink:href=\"#ma567e8d22f\" x=\"165.794188\" y=\"85.713422\" style=\"fill: #1f77b4; stroke: #1f77b4\"/>\n     <use xlink:href=\"#ma567e8d22f\" x=\"120.395447\" y=\"74.37317\" style=\"fill: #1f77b4; stroke: #1f77b4\"/>\n     <use xlink:href=\"#ma567e8d22f\" x=\"176.82063\" y=\"103.289077\" style=\"fill: #1f77b4; stroke: #1f77b4\"/>\n     <use xlink:href=\"#ma567e8d22f\" x=\"96.286815\" y=\"44.047115\" style=\"fill: #1f77b4; stroke: #1f77b4\"/>\n     <use xlink:href=\"#ma567e8d22f\" x=\"175.181527\" y=\"110.807898\" style=\"fill: #1f77b4; stroke: #1f77b4\"/>\n     <use xlink:href=\"#ma567e8d22f\" x=\"163.583419\" y=\"99.464227\" style=\"fill: #1f77b4; stroke: #1f77b4\"/>\n     <use xlink:href=\"#ma567e8d22f\" x=\"144.090131\" y=\"62.541777\" style=\"fill: #1f77b4; stroke: #1f77b4\"/>\n     <use xlink:href=\"#ma567e8d22f\" x=\"199.058431\" y=\"111.98518\" style=\"fill: #1f77b4; stroke: #1f77b4\"/>\n     <use xlink:href=\"#ma567e8d22f\" x=\"148.874388\" y=\"64.98459\" style=\"fill: #1f77b4; stroke: #1f77b4\"/>\n     <use xlink:href=\"#ma567e8d22f\" x=\"134.798686\" y=\"78.316702\" style=\"fill: #1f77b4; stroke: #1f77b4\"/>\n     <use xlink:href=\"#ma567e8d22f\" x=\"178.930972\" y=\"103.15388\" style=\"fill: #1f77b4; stroke: #1f77b4\"/>\n     <use xlink:href=\"#ma567e8d22f\" x=\"117.461353\" y=\"61.466632\" style=\"fill: #1f77b4; stroke: #1f77b4\"/>\n     <use xlink:href=\"#ma567e8d22f\" x=\"148.11797\" y=\"82.305182\" style=\"fill: #1f77b4; stroke: #1f77b4\"/>\n     <use xlink:href=\"#ma567e8d22f\" x=\"136.243069\" y=\"63.780159\" style=\"fill: #1f77b4; stroke: #1f77b4\"/>\n     <use xlink:href=\"#ma567e8d22f\" x=\"131.257836\" y=\"75.153489\" style=\"fill: #1f77b4; stroke: #1f77b4\"/>\n     <use xlink:href=\"#ma567e8d22f\" x=\"134.981456\" y=\"75.337202\" style=\"fill: #1f77b4; stroke: #1f77b4\"/>\n     <use xlink:href=\"#ma567e8d22f\" x=\"125.753893\" y=\"76.86359\" style=\"fill: #1f77b4; stroke: #1f77b4\"/>\n     <use xlink:href=\"#ma567e8d22f\" x=\"128.720582\" y=\"81.360392\" style=\"fill: #1f77b4; stroke: #1f77b4\"/>\n     <use xlink:href=\"#ma567e8d22f\" x=\"188.427848\" y=\"99.851548\" style=\"fill: #1f77b4; stroke: #1f77b4\"/>\n     <use xlink:href=\"#ma567e8d22f\" x=\"157.472783\" y=\"86.088825\" style=\"fill: #1f77b4; stroke: #1f77b4\"/>\n     <use xlink:href=\"#ma567e8d22f\" x=\"117.416421\" y=\"80.016397\" style=\"fill: #1f77b4; stroke: #1f77b4\"/>\n     <use xlink:href=\"#ma567e8d22f\" x=\"129.106414\" y=\"73.530861\" style=\"fill: #1f77b4; stroke: #1f77b4\"/>\n     <use xlink:href=\"#ma567e8d22f\" x=\"142.472673\" y=\"79.485404\" style=\"fill: #1f77b4; stroke: #1f77b4\"/>\n     <use xlink:href=\"#ma567e8d22f\" x=\"112.462035\" y=\"68.934557\" style=\"fill: #1f77b4; stroke: #1f77b4\"/>\n     <use xlink:href=\"#ma567e8d22f\" x=\"108.444842\" y=\"64.578143\" style=\"fill: #1f77b4; stroke: #1f77b4\"/>\n     <use xlink:href=\"#ma567e8d22f\" x=\"112.244492\" y=\"53.972674\" style=\"fill: #1f77b4; stroke: #1f77b4\"/>\n     <use xlink:href=\"#ma567e8d22f\" x=\"122.660257\" y=\"96.748873\" style=\"fill: #1f77b4; stroke: #1f77b4\"/>\n     <use xlink:href=\"#ma567e8d22f\" x=\"127.143124\" y=\"74.872725\" style=\"fill: #1f77b4; stroke: #1f77b4\"/>\n     <use xlink:href=\"#ma567e8d22f\" x=\"104.102108\" y=\"63.53175\" style=\"fill: #1f77b4; stroke: #1f77b4\"/>\n     <use xlink:href=\"#ma567e8d22f\" x=\"93.156496\" y=\"64.769073\" style=\"fill: #1f77b4; stroke: #1f77b4\"/>\n     <use xlink:href=\"#ma567e8d22f\" x=\"124.76867\" y=\"81.5504\" style=\"fill: #1f77b4; stroke: #1f77b4\"/>\n     <use xlink:href=\"#ma567e8d22f\" x=\"76.908489\" y=\"36.954576\" style=\"fill: #1f77b4; stroke: #1f77b4\"/>\n     <use xlink:href=\"#ma567e8d22f\" x=\"163.023252\" y=\"104.940353\" style=\"fill: #1f77b4; stroke: #1f77b4\"/>\n     <use xlink:href=\"#ma567e8d22f\" x=\"129.132042\" y=\"70.82334\" style=\"fill: #1f77b4; stroke: #1f77b4\"/>\n     <use xlink:href=\"#ma567e8d22f\" x=\"99.534127\" y=\"65.665006\" style=\"fill: #1f77b4; stroke: #1f77b4\"/>\n     <use xlink:href=\"#ma567e8d22f\" x=\"97.870745\" y=\"58.499703\" style=\"fill: #1f77b4; stroke: #1f77b4\"/>\n     <use xlink:href=\"#ma567e8d22f\" x=\"93.844382\" y=\"45.21156\" style=\"fill: #1f77b4; stroke: #1f77b4\"/>\n     <use xlink:href=\"#ma567e8d22f\" x=\"143.028049\" y=\"103.520432\" style=\"fill: #1f77b4; stroke: #1f77b4\"/>\n     <use xlink:href=\"#ma567e8d22f\" x=\"168.930904\" y=\"88.466889\" style=\"fill: #1f77b4; stroke: #1f77b4\"/>\n     <use xlink:href=\"#ma567e8d22f\" x=\"134.907911\" y=\"72.387732\" style=\"fill: #1f77b4; stroke: #1f77b4\"/>\n     <use xlink:href=\"#ma567e8d22f\" x=\"165.996876\" y=\"91.431483\" style=\"fill: #1f77b4; stroke: #1f77b4\"/>\n     <use xlink:href=\"#ma567e8d22f\" x=\"133.299079\" y=\"61.898879\" style=\"fill: #1f77b4; stroke: #1f77b4\"/>\n     <use xlink:href=\"#ma567e8d22f\" x=\"165.526226\" y=\"71.020524\" style=\"fill: #1f77b4; stroke: #1f77b4\"/>\n     <use xlink:href=\"#ma567e8d22f\" x=\"101.054729\" y=\"46.568359\" style=\"fill: #1f77b4; stroke: #1f77b4\"/>\n     <use xlink:href=\"#ma567e8d22f\" x=\"129.417734\" y=\"78.136364\" style=\"fill: #1f77b4; stroke: #1f77b4\"/>\n     <use xlink:href=\"#ma567e8d22f\" x=\"147.964259\" y=\"91.685413\" style=\"fill: #1f77b4; stroke: #1f77b4\"/>\n     <use xlink:href=\"#ma567e8d22f\" x=\"108.628908\" y=\"50.014315\" style=\"fill: #1f77b4; stroke: #1f77b4\"/>\n     <use xlink:href=\"#ma567e8d22f\" x=\"130.003867\" y=\"73.746635\" style=\"fill: #1f77b4; stroke: #1f77b4\"/>\n     <use xlink:href=\"#ma567e8d22f\" x=\"100.615265\" y=\"68.086509\" style=\"fill: #1f77b4; stroke: #1f77b4\"/>\n     <use xlink:href=\"#ma567e8d22f\" x=\"130.971596\" y=\"81.725649\" style=\"fill: #1f77b4; stroke: #1f77b4\"/>\n     <use xlink:href=\"#ma567e8d22f\" x=\"153.955398\" y=\"91.413341\" style=\"fill: #1f77b4; stroke: #1f77b4\"/>\n     <use xlink:href=\"#ma567e8d22f\" x=\"115.626508\" y=\"78.543633\" style=\"fill: #1f77b4; stroke: #1f77b4\"/>\n     <use xlink:href=\"#ma567e8d22f\" x=\"117.617699\" y=\"53.712624\" style=\"fill: #1f77b4; stroke: #1f77b4\"/>\n     <use xlink:href=\"#ma567e8d22f\" x=\"103.351501\" y=\"53.133706\" style=\"fill: #1f77b4; stroke: #1f77b4\"/>\n     <use xlink:href=\"#ma567e8d22f\" x=\"168.104346\" y=\"92.641275\" style=\"fill: #1f77b4; stroke: #1f77b4\"/>\n     <use xlink:href=\"#ma567e8d22f\" x=\"151.74493\" y=\"85.20366\" style=\"fill: #1f77b4; stroke: #1f77b4\"/>\n     <use xlink:href=\"#ma567e8d22f\" x=\"130.495918\" y=\"75.783551\" style=\"fill: #1f77b4; stroke: #1f77b4\"/>\n     <use xlink:href=\"#ma567e8d22f\" x=\"167.135762\" y=\"84.324621\" style=\"fill: #1f77b4; stroke: #1f77b4\"/>\n     <use xlink:href=\"#ma567e8d22f\" x=\"105.807857\" y=\"49.764794\" style=\"fill: #1f77b4; stroke: #1f77b4\"/>\n     <use xlink:href=\"#ma567e8d22f\" x=\"116.500644\" y=\"66.016426\" style=\"fill: #1f77b4; stroke: #1f77b4\"/>\n     <use xlink:href=\"#ma567e8d22f\" x=\"145.413404\" y=\"71.700625\" style=\"fill: #1f77b4; stroke: #1f77b4\"/>\n     <use xlink:href=\"#ma567e8d22f\" x=\"124.020451\" y=\"54.907351\" style=\"fill: #1f77b4; stroke: #1f77b4\"/>\n     <use xlink:href=\"#ma567e8d22f\" x=\"119.876874\" y=\"57.612487\" style=\"fill: #1f77b4; stroke: #1f77b4\"/>\n     <use xlink:href=\"#ma567e8d22f\" x=\"139.426436\" y=\"81.062576\" style=\"fill: #1f77b4; stroke: #1f77b4\"/>\n     <use xlink:href=\"#ma567e8d22f\" x=\"184.800895\" y=\"106.383293\" style=\"fill: #1f77b4; stroke: #1f77b4\"/>\n     <use xlink:href=\"#ma567e8d22f\" x=\"136.236659\" y=\"69.655067\" style=\"fill: #1f77b4; stroke: #1f77b4\"/>\n     <use xlink:href=\"#ma567e8d22f\" x=\"143.287994\" y=\"90.056603\" style=\"fill: #1f77b4; stroke: #1f77b4\"/>\n     <use xlink:href=\"#ma567e8d22f\" x=\"145.80077\" y=\"76.539762\" style=\"fill: #1f77b4; stroke: #1f77b4\"/>\n     <use xlink:href=\"#ma567e8d22f\" x=\"166.14763\" y=\"80.58222\" style=\"fill: #1f77b4; stroke: #1f77b4\"/>\n     <use xlink:href=\"#ma567e8d22f\" x=\"109.690405\" y=\"57.827021\" style=\"fill: #1f77b4; stroke: #1f77b4\"/>\n     <use xlink:href=\"#ma567e8d22f\" x=\"186.536649\" y=\"118.096891\" style=\"fill: #1f77b4; stroke: #1f77b4\"/>\n     <use xlink:href=\"#ma567e8d22f\" x=\"119.219663\" y=\"66.477232\" style=\"fill: #1f77b4; stroke: #1f77b4\"/>\n     <use xlink:href=\"#ma567e8d22f\" x=\"160.569049\" y=\"80.485562\" style=\"fill: #1f77b4; stroke: #1f77b4\"/>\n     <use xlink:href=\"#ma567e8d22f\" x=\"108.676205\" y=\"63.816797\" style=\"fill: #1f77b4; stroke: #1f77b4\"/>\n     <use xlink:href=\"#ma567e8d22f\" x=\"123.942386\" y=\"71.628443\" style=\"fill: #1f77b4; stroke: #1f77b4\"/>\n     <use xlink:href=\"#ma567e8d22f\" x=\"150.355833\" y=\"80.917679\" style=\"fill: #1f77b4; stroke: #1f77b4\"/>\n     <use xlink:href=\"#ma567e8d22f\" x=\"167.933199\" y=\"101.659389\" style=\"fill: #1f77b4; stroke: #1f77b4\"/>\n     <use xlink:href=\"#ma567e8d22f\" x=\"89.998698\" y=\"36.943552\" style=\"fill: #1f77b4; stroke: #1f77b4\"/>\n     <use xlink:href=\"#ma567e8d22f\" x=\"184.614073\" y=\"98.992599\" style=\"fill: #1f77b4; stroke: #1f77b4\"/>\n     <use xlink:href=\"#ma567e8d22f\" x=\"111.55729\" y=\"54.512962\" style=\"fill: #1f77b4; stroke: #1f77b4\"/>\n     <use xlink:href=\"#ma567e8d22f\" x=\"182.107075\" y=\"101.733003\" style=\"fill: #1f77b4; stroke: #1f77b4\"/>\n     <use xlink:href=\"#ma567e8d22f\" x=\"137.037459\" y=\"67.019467\" style=\"fill: #1f77b4; stroke: #1f77b4\"/>\n     <use xlink:href=\"#ma567e8d22f\" x=\"159.27504\" y=\"50.077675\" style=\"fill: #1f77b4; stroke: #1f77b4\"/>\n     <use xlink:href=\"#ma567e8d22f\" x=\"177.230142\" y=\"103.689503\" style=\"fill: #1f77b4; stroke: #1f77b4\"/>\n     <use xlink:href=\"#ma567e8d22f\" x=\"171.652049\" y=\"99.233461\" style=\"fill: #1f77b4; stroke: #1f77b4\"/>\n     <use xlink:href=\"#ma567e8d22f\" x=\"142.653704\" y=\"94.498262\" style=\"fill: #1f77b4; stroke: #1f77b4\"/>\n     <use xlink:href=\"#ma567e8d22f\" x=\"66.411606\" y=\"37.24463\" style=\"fill: #1f77b4; stroke: #1f77b4\"/>\n     <use xlink:href=\"#ma567e8d22f\" x=\"157.104612\" y=\"108.534108\" style=\"fill: #1f77b4; stroke: #1f77b4\"/>\n     <use xlink:href=\"#ma567e8d22f\" x=\"115.926672\" y=\"54.96597\" style=\"fill: #1f77b4; stroke: #1f77b4\"/>\n     <use xlink:href=\"#ma567e8d22f\" x=\"175.357496\" y=\"112.139693\" style=\"fill: #1f77b4; stroke: #1f77b4\"/>\n     <use xlink:href=\"#ma567e8d22f\" x=\"111.937372\" y=\"65.509827\" style=\"fill: #1f77b4; stroke: #1f77b4\"/>\n     <use xlink:href=\"#ma567e8d22f\" x=\"113.025995\" y=\"56.531723\" style=\"fill: #1f77b4; stroke: #1f77b4\"/>\n     <use xlink:href=\"#ma567e8d22f\" x=\"158.040025\" y=\"92.87821\" style=\"fill: #1f77b4; stroke: #1f77b4\"/>\n     <use xlink:href=\"#ma567e8d22f\" x=\"127.432305\" y=\"68.524777\" style=\"fill: #1f77b4; stroke: #1f77b4\"/>\n     <use xlink:href=\"#ma567e8d22f\" x=\"128.385356\" y=\"65.153483\" style=\"fill: #1f77b4; stroke: #1f77b4\"/>\n     <use xlink:href=\"#ma567e8d22f\" x=\"156.543865\" y=\"98.175625\" style=\"fill: #1f77b4; stroke: #1f77b4\"/>\n     <use xlink:href=\"#ma567e8d22f\" x=\"133.421806\" y=\"99.095888\" style=\"fill: #1f77b4; stroke: #1f77b4\"/>\n     <use xlink:href=\"#ma567e8d22f\" x=\"175.316466\" y=\"90.230802\" style=\"fill: #1f77b4; stroke: #1f77b4\"/>\n     <use xlink:href=\"#ma567e8d22f\" x=\"166.250293\" y=\"79.877405\" style=\"fill: #1f77b4; stroke: #1f77b4\"/>\n     <use xlink:href=\"#ma567e8d22f\" x=\"125.135963\" y=\"69.608178\" style=\"fill: #1f77b4; stroke: #1f77b4\"/>\n     <use xlink:href=\"#ma567e8d22f\" x=\"123.75067\" y=\"76.56002\" style=\"fill: #1f77b4; stroke: #1f77b4\"/>\n     <use xlink:href=\"#ma567e8d22f\" x=\"137.642239\" y=\"87.823836\" style=\"fill: #1f77b4; stroke: #1f77b4\"/>\n     <use xlink:href=\"#ma567e8d22f\" x=\"146.993247\" y=\"83.324374\" style=\"fill: #1f77b4; stroke: #1f77b4\"/>\n     <use xlink:href=\"#ma567e8d22f\" x=\"160.414436\" y=\"99.682885\" style=\"fill: #1f77b4; stroke: #1f77b4\"/>\n     <use xlink:href=\"#ma567e8d22f\" x=\"122.060306\" y=\"71.433361\" style=\"fill: #1f77b4; stroke: #1f77b4\"/>\n     <use xlink:href=\"#ma567e8d22f\" x=\"128.444774\" y=\"73.718586\" style=\"fill: #1f77b4; stroke: #1f77b4\"/>\n     <use xlink:href=\"#ma567e8d22f\" x=\"142.65231\" y=\"77.426705\" style=\"fill: #1f77b4; stroke: #1f77b4\"/>\n     <use xlink:href=\"#ma567e8d22f\" x=\"177.052378\" y=\"99.085888\" style=\"fill: #1f77b4; stroke: #1f77b4\"/>\n     <use xlink:href=\"#ma567e8d22f\" x=\"119.318331\" y=\"67.97999\" style=\"fill: #1f77b4; stroke: #1f77b4\"/>\n     <use xlink:href=\"#ma567e8d22f\" x=\"139.820547\" y=\"55.348848\" style=\"fill: #1f77b4; stroke: #1f77b4\"/>\n     <use xlink:href=\"#ma567e8d22f\" x=\"113.185522\" y=\"55.290884\" style=\"fill: #1f77b4; stroke: #1f77b4\"/>\n     <use xlink:href=\"#ma567e8d22f\" x=\"157.649792\" y=\"93.677217\" style=\"fill: #1f77b4; stroke: #1f77b4\"/>\n     <use xlink:href=\"#ma567e8d22f\" x=\"139.582913\" y=\"78.40207\" style=\"fill: #1f77b4; stroke: #1f77b4\"/>\n     <use xlink:href=\"#ma567e8d22f\" x=\"150.77191\" y=\"76.955302\" style=\"fill: #1f77b4; stroke: #1f77b4\"/>\n     <use xlink:href=\"#ma567e8d22f\" x=\"141.09495\" y=\"85.778277\" style=\"fill: #1f77b4; stroke: #1f77b4\"/>\n     <use xlink:href=\"#ma567e8d22f\" x=\"115.507779\" y=\"59.102706\" style=\"fill: #1f77b4; stroke: #1f77b4\"/>\n     <use xlink:href=\"#ma567e8d22f\" x=\"157.593538\" y=\"112.507308\" style=\"fill: #1f77b4; stroke: #1f77b4\"/>\n     <use xlink:href=\"#ma567e8d22f\" x=\"106.671815\" y=\"61.579627\" style=\"fill: #1f77b4; stroke: #1f77b4\"/>\n     <use xlink:href=\"#ma567e8d22f\" x=\"172.704628\" y=\"110.808261\" style=\"fill: #1f77b4; stroke: #1f77b4\"/>\n     <use xlink:href=\"#ma567e8d22f\" x=\"130.953689\" y=\"95.193498\" style=\"fill: #1f77b4; stroke: #1f77b4\"/>\n     <use xlink:href=\"#ma567e8d22f\" x=\"100.177351\" y=\"44.390496\" style=\"fill: #1f77b4; stroke: #1f77b4\"/>\n     <use xlink:href=\"#ma567e8d22f\" x=\"151.158686\" y=\"83.058141\" style=\"fill: #1f77b4; stroke: #1f77b4\"/>\n     <use xlink:href=\"#ma567e8d22f\" x=\"126.861549\" y=\"69.691332\" style=\"fill: #1f77b4; stroke: #1f77b4\"/>\n     <use xlink:href=\"#ma567e8d22f\" x=\"176.189602\" y=\"93.485128\" style=\"fill: #1f77b4; stroke: #1f77b4\"/>\n     <use xlink:href=\"#ma567e8d22f\" x=\"105.490783\" y=\"54.110013\" style=\"fill: #1f77b4; stroke: #1f77b4\"/>\n     <use xlink:href=\"#ma567e8d22f\" x=\"129.112336\" y=\"76.276544\" style=\"fill: #1f77b4; stroke: #1f77b4\"/>\n     <use xlink:href=\"#ma567e8d22f\" x=\"129.402286\" y=\"74.150801\" style=\"fill: #1f77b4; stroke: #1f77b4\"/>\n     <use xlink:href=\"#ma567e8d22f\" x=\"120.31104\" y=\"56.710101\" style=\"fill: #1f77b4; stroke: #1f77b4\"/>\n     <use xlink:href=\"#ma567e8d22f\" x=\"132.364271\" y=\"84.74413\" style=\"fill: #1f77b4; stroke: #1f77b4\"/>\n     <use xlink:href=\"#ma567e8d22f\" x=\"163.536248\" y=\"101.923922\" style=\"fill: #1f77b4; stroke: #1f77b4\"/>\n     <use xlink:href=\"#ma567e8d22f\" x=\"143.809265\" y=\"69.490366\" style=\"fill: #1f77b4; stroke: #1f77b4\"/>\n     <use xlink:href=\"#ma567e8d22f\" x=\"143.490948\" y=\"85.546012\" style=\"fill: #1f77b4; stroke: #1f77b4\"/>\n     <use xlink:href=\"#ma567e8d22f\" x=\"129.522441\" y=\"66.121563\" style=\"fill: #1f77b4; stroke: #1f77b4\"/>\n     <use xlink:href=\"#ma567e8d22f\" x=\"83.558901\" y=\"36.180655\" style=\"fill: #1f77b4; stroke: #1f77b4\"/>\n     <use xlink:href=\"#ma567e8d22f\" x=\"157.876965\" y=\"97.145998\" style=\"fill: #1f77b4; stroke: #1f77b4\"/>\n     <use xlink:href=\"#ma567e8d22f\" x=\"161.705914\" y=\"92.657109\" style=\"fill: #1f77b4; stroke: #1f77b4\"/>\n     <use xlink:href=\"#ma567e8d22f\" x=\"184.328392\" y=\"107.082022\" style=\"fill: #1f77b4; stroke: #1f77b4\"/>\n     <use xlink:href=\"#ma567e8d22f\" x=\"73.795593\" y=\"41.061972\" style=\"fill: #1f77b4; stroke: #1f77b4\"/>\n     <use xlink:href=\"#ma567e8d22f\" x=\"107.19046\" y=\"55.566595\" style=\"fill: #1f77b4; stroke: #1f77b4\"/>\n     <use xlink:href=\"#ma567e8d22f\" x=\"127.828174\" y=\"88.314076\" style=\"fill: #1f77b4; stroke: #1f77b4\"/>\n     <use xlink:href=\"#ma567e8d22f\" x=\"123.872563\" y=\"54.54885\" style=\"fill: #1f77b4; stroke: #1f77b4\"/>\n     <use xlink:href=\"#ma567e8d22f\" x=\"119.35357\" y=\"69.737828\" style=\"fill: #1f77b4; stroke: #1f77b4\"/>\n     <use xlink:href=\"#ma567e8d22f\" x=\"121.872256\" y=\"83.396992\" style=\"fill: #1f77b4; stroke: #1f77b4\"/>\n     <use xlink:href=\"#ma567e8d22f\" x=\"97.498342\" y=\"63.660329\" style=\"fill: #1f77b4; stroke: #1f77b4\"/>\n     <use xlink:href=\"#ma567e8d22f\" x=\"114.401925\" y=\"68.907585\" style=\"fill: #1f77b4; stroke: #1f77b4\"/>\n     <use xlink:href=\"#ma567e8d22f\" x=\"108.623883\" y=\"65.682404\" style=\"fill: #1f77b4; stroke: #1f77b4\"/>\n     <use xlink:href=\"#ma567e8d22f\" x=\"68.215248\" y=\"28.76578\" style=\"fill: #1f77b4; stroke: #1f77b4\"/>\n     <use xlink:href=\"#ma567e8d22f\" x=\"176.313143\" y=\"105.310757\" style=\"fill: #1f77b4; stroke: #1f77b4\"/>\n     <use xlink:href=\"#ma567e8d22f\" x=\"117.728145\" y=\"62.551479\" style=\"fill: #1f77b4; stroke: #1f77b4\"/>\n     <use xlink:href=\"#ma567e8d22f\" x=\"108.814009\" y=\"77.559001\" style=\"fill: #1f77b4; stroke: #1f77b4\"/>\n     <use xlink:href=\"#ma567e8d22f\" x=\"160.535706\" y=\"77.673416\" style=\"fill: #1f77b4; stroke: #1f77b4\"/>\n     <use xlink:href=\"#ma567e8d22f\" x=\"135.386384\" y=\"64.276125\" style=\"fill: #1f77b4; stroke: #1f77b4\"/>\n     <use xlink:href=\"#ma567e8d22f\" x=\"150.019545\" y=\"74.63712\" style=\"fill: #1f77b4; stroke: #1f77b4\"/>\n     <use xlink:href=\"#ma567e8d22f\" x=\"154.424821\" y=\"92.301498\" style=\"fill: #1f77b4; stroke: #1f77b4\"/>\n     <use xlink:href=\"#ma567e8d22f\" x=\"145.192105\" y=\"65.378616\" style=\"fill: #1f77b4; stroke: #1f77b4\"/>\n     <use xlink:href=\"#ma567e8d22f\" x=\"126.465607\" y=\"81.374514\" style=\"fill: #1f77b4; stroke: #1f77b4\"/>\n     <use xlink:href=\"#ma567e8d22f\" x=\"115.163975\" y=\"58.23102\" style=\"fill: #1f77b4; stroke: #1f77b4\"/>\n     <use xlink:href=\"#ma567e8d22f\" x=\"132.206679\" y=\"89.280506\" style=\"fill: #1f77b4; stroke: #1f77b4\"/>\n     <use xlink:href=\"#ma567e8d22f\" x=\"145.120194\" y=\"89.654357\" style=\"fill: #1f77b4; stroke: #1f77b4\"/>\n     <use xlink:href=\"#ma567e8d22f\" x=\"133.718557\" y=\"62.220957\" style=\"fill: #1f77b4; stroke: #1f77b4\"/>\n     <use xlink:href=\"#ma567e8d22f\" x=\"125.929128\" y=\"75.788047\" style=\"fill: #1f77b4; stroke: #1f77b4\"/>\n     <use xlink:href=\"#ma567e8d22f\" x=\"133.013707\" y=\"65.956137\" style=\"fill: #1f77b4; stroke: #1f77b4\"/>\n     <use xlink:href=\"#ma567e8d22f\" x=\"100.400448\" y=\"64.706029\" style=\"fill: #1f77b4; stroke: #1f77b4\"/>\n     <use xlink:href=\"#ma567e8d22f\" x=\"99.744943\" y=\"60.260823\" style=\"fill: #1f77b4; stroke: #1f77b4\"/>\n     <use xlink:href=\"#ma567e8d22f\" x=\"129.586268\" y=\"62.970203\" style=\"fill: #1f77b4; stroke: #1f77b4\"/>\n     <use xlink:href=\"#ma567e8d22f\" x=\"130.410438\" y=\"69.065877\" style=\"fill: #1f77b4; stroke: #1f77b4\"/>\n     <use xlink:href=\"#ma567e8d22f\" x=\"103.496134\" y=\"51.32626\" style=\"fill: #1f77b4; stroke: #1f77b4\"/>\n     <use xlink:href=\"#ma567e8d22f\" x=\"92.080988\" y=\"43.909275\" style=\"fill: #1f77b4; stroke: #1f77b4\"/>\n     <use xlink:href=\"#ma567e8d22f\" x=\"98.263699\" y=\"51.513231\" style=\"fill: #1f77b4; stroke: #1f77b4\"/>\n     <use xlink:href=\"#ma567e8d22f\" x=\"108.280812\" y=\"67.873573\" style=\"fill: #1f77b4; stroke: #1f77b4\"/>\n     <use xlink:href=\"#ma567e8d22f\" x=\"103.335341\" y=\"61.619331\" style=\"fill: #1f77b4; stroke: #1f77b4\"/>\n     <use xlink:href=\"#ma567e8d22f\" x=\"170.521733\" y=\"91.564542\" style=\"fill: #1f77b4; stroke: #1f77b4\"/>\n     <use xlink:href=\"#ma567e8d22f\" x=\"121.431849\" y=\"83.59964\" style=\"fill: #1f77b4; stroke: #1f77b4\"/>\n     <use xlink:href=\"#ma567e8d22f\" x=\"164.867287\" y=\"71.442617\" style=\"fill: #1f77b4; stroke: #1f77b4\"/>\n     <use xlink:href=\"#ma567e8d22f\" x=\"134.232601\" y=\"72.456475\" style=\"fill: #1f77b4; stroke: #1f77b4\"/>\n     <use xlink:href=\"#ma567e8d22f\" x=\"150.12441\" y=\"91.500772\" style=\"fill: #1f77b4; stroke: #1f77b4\"/>\n     <use xlink:href=\"#ma567e8d22f\" x=\"149.114738\" y=\"85.800158\" style=\"fill: #1f77b4; stroke: #1f77b4\"/>\n     <use xlink:href=\"#ma567e8d22f\" x=\"156.375589\" y=\"72.011881\" style=\"fill: #1f77b4; stroke: #1f77b4\"/>\n     <use xlink:href=\"#ma567e8d22f\" x=\"129.77827\" y=\"71.298406\" style=\"fill: #1f77b4; stroke: #1f77b4\"/>\n     <use xlink:href=\"#ma567e8d22f\" x=\"113.646863\" y=\"68.579279\" style=\"fill: #1f77b4; stroke: #1f77b4\"/>\n     <use xlink:href=\"#ma567e8d22f\" x=\"144.660632\" y=\"76.174858\" style=\"fill: #1f77b4; stroke: #1f77b4\"/>\n     <use xlink:href=\"#ma567e8d22f\" x=\"99.578424\" y=\"49.305481\" style=\"fill: #1f77b4; stroke: #1f77b4\"/>\n     <use xlink:href=\"#ma567e8d22f\" x=\"179.023327\" y=\"98.885265\" style=\"fill: #1f77b4; stroke: #1f77b4\"/>\n     <use xlink:href=\"#ma567e8d22f\" x=\"162.557498\" y=\"101.863147\" style=\"fill: #1f77b4; stroke: #1f77b4\"/>\n     <use xlink:href=\"#ma567e8d22f\" x=\"154.599828\" y=\"90.264116\" style=\"fill: #1f77b4; stroke: #1f77b4\"/>\n     <use xlink:href=\"#ma567e8d22f\" x=\"81.12339\" y=\"43.007398\" style=\"fill: #1f77b4; stroke: #1f77b4\"/>\n     <use xlink:href=\"#ma567e8d22f\" x=\"174.542722\" y=\"100.759793\" style=\"fill: #1f77b4; stroke: #1f77b4\"/>\n     <use xlink:href=\"#ma567e8d22f\" x=\"77.721268\" y=\"60.588634\" style=\"fill: #1f77b4; stroke: #1f77b4\"/>\n     <use xlink:href=\"#ma567e8d22f\" x=\"116.787105\" y=\"87.592242\" style=\"fill: #1f77b4; stroke: #1f77b4\"/>\n     <use xlink:href=\"#ma567e8d22f\" x=\"83.843097\" y=\"59.390213\" style=\"fill: #1f77b4; stroke: #1f77b4\"/>\n     <use xlink:href=\"#ma567e8d22f\" x=\"155.74331\" y=\"84.328761\" style=\"fill: #1f77b4; stroke: #1f77b4\"/>\n     <use xlink:href=\"#ma567e8d22f\" x=\"140.448197\" y=\"70.456049\" style=\"fill: #1f77b4; stroke: #1f77b4\"/>\n     <use xlink:href=\"#ma567e8d22f\" x=\"177.642426\" y=\"82.705402\" style=\"fill: #1f77b4; stroke: #1f77b4\"/>\n     <use xlink:href=\"#ma567e8d22f\" x=\"152.835012\" y=\"93.223111\" style=\"fill: #1f77b4; stroke: #1f77b4\"/>\n     <use xlink:href=\"#ma567e8d22f\" x=\"151.8455\" y=\"89.151069\" style=\"fill: #1f77b4; stroke: #1f77b4\"/>\n     <use xlink:href=\"#ma567e8d22f\" x=\"165.984421\" y=\"101.975476\" style=\"fill: #1f77b4; stroke: #1f77b4\"/>\n     <use xlink:href=\"#ma567e8d22f\" x=\"120.552406\" y=\"71.042034\" style=\"fill: #1f77b4; stroke: #1f77b4\"/>\n     <use xlink:href=\"#ma567e8d22f\" x=\"166.490541\" y=\"96.890303\" style=\"fill: #1f77b4; stroke: #1f77b4\"/>\n     <use xlink:href=\"#ma567e8d22f\" x=\"139.521208\" y=\"75.244297\" style=\"fill: #1f77b4; stroke: #1f77b4\"/>\n     <use xlink:href=\"#ma567e8d22f\" x=\"131.173928\" y=\"62.028436\" style=\"fill: #1f77b4; stroke: #1f77b4\"/>\n     <use xlink:href=\"#ma567e8d22f\" x=\"154.388819\" y=\"75.616518\" style=\"fill: #1f77b4; stroke: #1f77b4\"/>\n     <use xlink:href=\"#ma567e8d22f\" x=\"162.238761\" y=\"96.606985\" style=\"fill: #1f77b4; stroke: #1f77b4\"/>\n     <use xlink:href=\"#ma567e8d22f\" x=\"132.192079\" y=\"97.497364\" style=\"fill: #1f77b4; stroke: #1f77b4\"/>\n     <use xlink:href=\"#ma567e8d22f\" x=\"113.794905\" y=\"63.030038\" style=\"fill: #1f77b4; stroke: #1f77b4\"/>\n     <use xlink:href=\"#ma567e8d22f\" x=\"157.993633\" y=\"97.086781\" style=\"fill: #1f77b4; stroke: #1f77b4\"/>\n     <use xlink:href=\"#ma567e8d22f\" x=\"207.360806\" y=\"115.063769\" style=\"fill: #1f77b4; stroke: #1f77b4\"/>\n     <use xlink:href=\"#ma567e8d22f\" x=\"93.338359\" y=\"56.494381\" style=\"fill: #1f77b4; stroke: #1f77b4\"/>\n     <use xlink:href=\"#ma567e8d22f\" x=\"169.746575\" y=\"95.711663\" style=\"fill: #1f77b4; stroke: #1f77b4\"/>\n     <use xlink:href=\"#ma567e8d22f\" x=\"104.810276\" y=\"64.355999\" style=\"fill: #1f77b4; stroke: #1f77b4\"/>\n     <use xlink:href=\"#ma567e8d22f\" x=\"129.674548\" y=\"83.425213\" style=\"fill: #1f77b4; stroke: #1f77b4\"/>\n     <use xlink:href=\"#ma567e8d22f\" x=\"76.535522\" y=\"55.797431\" style=\"fill: #1f77b4; stroke: #1f77b4\"/>\n     <use xlink:href=\"#ma567e8d22f\" x=\"174.979034\" y=\"110.843319\" style=\"fill: #1f77b4; stroke: #1f77b4\"/>\n     <use xlink:href=\"#ma567e8d22f\" x=\"153.319743\" y=\"93.698423\" style=\"fill: #1f77b4; stroke: #1f77b4\"/>\n     <use xlink:href=\"#ma567e8d22f\" x=\"150.063662\" y=\"95.49883\" style=\"fill: #1f77b4; stroke: #1f77b4\"/>\n     <use xlink:href=\"#ma567e8d22f\" x=\"169.613673\" y=\"100.901199\" style=\"fill: #1f77b4; stroke: #1f77b4\"/>\n     <use xlink:href=\"#ma567e8d22f\" x=\"139.766996\" y=\"79.969174\" style=\"fill: #1f77b4; stroke: #1f77b4\"/>\n     <use xlink:href=\"#ma567e8d22f\" x=\"94.276032\" y=\"68.876259\" style=\"fill: #1f77b4; stroke: #1f77b4\"/>\n     <use xlink:href=\"#ma567e8d22f\" x=\"185.447172\" y=\"110.86543\" style=\"fill: #1f77b4; stroke: #1f77b4\"/>\n     <use xlink:href=\"#ma567e8d22f\" x=\"132.854376\" y=\"70.500333\" style=\"fill: #1f77b4; stroke: #1f77b4\"/>\n     <use xlink:href=\"#ma567e8d22f\" x=\"102.532764\" y=\"37.946508\" style=\"fill: #1f77b4; stroke: #1f77b4\"/>\n     <use xlink:href=\"#ma567e8d22f\" x=\"113.697157\" y=\"75.272608\" style=\"fill: #1f77b4; stroke: #1f77b4\"/>\n     <use xlink:href=\"#ma567e8d22f\" x=\"167.870313\" y=\"89.455889\" style=\"fill: #1f77b4; stroke: #1f77b4\"/>\n     <use xlink:href=\"#ma567e8d22f\" x=\"123.776551\" y=\"78.168485\" style=\"fill: #1f77b4; stroke: #1f77b4\"/>\n     <use xlink:href=\"#ma567e8d22f\" x=\"180.337151\" y=\"90.866464\" style=\"fill: #1f77b4; stroke: #1f77b4\"/>\n     <use xlink:href=\"#ma567e8d22f\" x=\"143.595308\" y=\"74.010433\" style=\"fill: #1f77b4; stroke: #1f77b4\"/>\n     <use xlink:href=\"#ma567e8d22f\" x=\"107.723888\" y=\"72.976736\" style=\"fill: #1f77b4; stroke: #1f77b4\"/>\n     <use xlink:href=\"#ma567e8d22f\" x=\"150.346418\" y=\"77.116632\" style=\"fill: #1f77b4; stroke: #1f77b4\"/>\n     <use xlink:href=\"#ma567e8d22f\" x=\"91.978215\" y=\"37.989056\" style=\"fill: #1f77b4; stroke: #1f77b4\"/>\n     <use xlink:href=\"#ma567e8d22f\" x=\"207.482282\" y=\"127.696532\" style=\"fill: #1f77b4; stroke: #1f77b4\"/>\n     <use xlink:href=\"#ma567e8d22f\" x=\"179.767123\" y=\"73.352622\" style=\"fill: #1f77b4; stroke: #1f77b4\"/>\n     <use xlink:href=\"#ma567e8d22f\" x=\"89.131921\" y=\"63.17779\" style=\"fill: #1f77b4; stroke: #1f77b4\"/>\n     <use xlink:href=\"#ma567e8d22f\" x=\"156.197679\" y=\"96.657024\" style=\"fill: #1f77b4; stroke: #1f77b4\"/>\n     <use xlink:href=\"#ma567e8d22f\" x=\"120.092885\" y=\"75.679299\" style=\"fill: #1f77b4; stroke: #1f77b4\"/>\n     <use xlink:href=\"#ma567e8d22f\" x=\"152.894147\" y=\"103.908517\" style=\"fill: #1f77b4; stroke: #1f77b4\"/>\n     <use xlink:href=\"#ma567e8d22f\" x=\"196.626666\" y=\"95.300091\" style=\"fill: #1f77b4; stroke: #1f77b4\"/>\n     <use xlink:href=\"#ma567e8d22f\" x=\"141.979129\" y=\"89.214966\" style=\"fill: #1f77b4; stroke: #1f77b4\"/>\n     <use xlink:href=\"#ma567e8d22f\" x=\"161.868433\" y=\"99.401871\" style=\"fill: #1f77b4; stroke: #1f77b4\"/>\n     <use xlink:href=\"#ma567e8d22f\" x=\"175.654358\" y=\"86.556347\" style=\"fill: #1f77b4; stroke: #1f77b4\"/>\n     <use xlink:href=\"#ma567e8d22f\" x=\"141.32419\" y=\"70.899866\" style=\"fill: #1f77b4; stroke: #1f77b4\"/>\n     <use xlink:href=\"#ma567e8d22f\" x=\"131.658825\" y=\"78.388135\" style=\"fill: #1f77b4; stroke: #1f77b4\"/>\n     <use xlink:href=\"#ma567e8d22f\" x=\"117.053243\" y=\"58.386103\" style=\"fill: #1f77b4; stroke: #1f77b4\"/>\n     <use xlink:href=\"#ma567e8d22f\" x=\"127.189087\" y=\"85.369348\" style=\"fill: #1f77b4; stroke: #1f77b4\"/>\n     <use xlink:href=\"#ma567e8d22f\" x=\"178.935656\" y=\"101.303706\" style=\"fill: #1f77b4; stroke: #1f77b4\"/>\n     <use xlink:href=\"#ma567e8d22f\" x=\"147.916875\" y=\"101.036423\" style=\"fill: #1f77b4; stroke: #1f77b4\"/>\n     <use xlink:href=\"#ma567e8d22f\" x=\"192.432841\" y=\"91.514646\" style=\"fill: #1f77b4; stroke: #1f77b4\"/>\n     <use xlink:href=\"#ma567e8d22f\" x=\"140.32114\" y=\"78.845505\" style=\"fill: #1f77b4; stroke: #1f77b4\"/>\n     <use xlink:href=\"#ma567e8d22f\" x=\"129.839127\" y=\"68.699491\" style=\"fill: #1f77b4; stroke: #1f77b4\"/>\n     <use xlink:href=\"#ma567e8d22f\" x=\"118.616937\" y=\"69.163911\" style=\"fill: #1f77b4; stroke: #1f77b4\"/>\n     <use xlink:href=\"#ma567e8d22f\" x=\"160.438013\" y=\"75.989074\" style=\"fill: #1f77b4; stroke: #1f77b4\"/>\n     <use xlink:href=\"#ma567e8d22f\" x=\"156.839028\" y=\"99.135587\" style=\"fill: #1f77b4; stroke: #1f77b4\"/>\n     <use xlink:href=\"#ma567e8d22f\" x=\"138.515771\" y=\"69.362594\" style=\"fill: #1f77b4; stroke: #1f77b4\"/>\n     <use xlink:href=\"#ma567e8d22f\" x=\"135.363849\" y=\"76.845094\" style=\"fill: #1f77b4; stroke: #1f77b4\"/>\n     <use xlink:href=\"#ma567e8d22f\" x=\"117.956507\" y=\"76.209274\" style=\"fill: #1f77b4; stroke: #1f77b4\"/>\n     <use xlink:href=\"#ma567e8d22f\" x=\"132.432072\" y=\"56.44496\" style=\"fill: #1f77b4; stroke: #1f77b4\"/>\n     <use xlink:href=\"#ma567e8d22f\" x=\"143.086504\" y=\"70.312743\" style=\"fill: #1f77b4; stroke: #1f77b4\"/>\n     <use xlink:href=\"#ma567e8d22f\" x=\"164.199318\" y=\"86.634731\" style=\"fill: #1f77b4; stroke: #1f77b4\"/>\n     <use xlink:href=\"#ma567e8d22f\" x=\"171.568593\" y=\"95.780909\" style=\"fill: #1f77b4; stroke: #1f77b4\"/>\n     <use xlink:href=\"#ma567e8d22f\" x=\"85.098585\" y=\"44.072119\" style=\"fill: #1f77b4; stroke: #1f77b4\"/>\n     <use xlink:href=\"#ma567e8d22f\" x=\"103.622774\" y=\"59.245585\" style=\"fill: #1f77b4; stroke: #1f77b4\"/>\n     <use xlink:href=\"#ma567e8d22f\" x=\"147.023818\" y=\"99.562271\" style=\"fill: #1f77b4; stroke: #1f77b4\"/>\n     <use xlink:href=\"#ma567e8d22f\" x=\"149.860886\" y=\"86.075767\" style=\"fill: #1f77b4; stroke: #1f77b4\"/>\n     <use xlink:href=\"#ma567e8d22f\" x=\"81.530631\" y=\"47.818076\" style=\"fill: #1f77b4; stroke: #1f77b4\"/>\n     <use xlink:href=\"#ma567e8d22f\" x=\"141.453907\" y=\"81.298347\" style=\"fill: #1f77b4; stroke: #1f77b4\"/>\n     <use xlink:href=\"#ma567e8d22f\" x=\"161.711945\" y=\"77.207194\" style=\"fill: #1f77b4; stroke: #1f77b4\"/>\n     <use xlink:href=\"#ma567e8d22f\" x=\"170.191994\" y=\"108.25478\" style=\"fill: #1f77b4; stroke: #1f77b4\"/>\n     <use xlink:href=\"#ma567e8d22f\" x=\"118.186623\" y=\"48.379732\" style=\"fill: #1f77b4; stroke: #1f77b4\"/>\n     <use xlink:href=\"#ma567e8d22f\" x=\"166.534747\" y=\"96.355275\" style=\"fill: #1f77b4; stroke: #1f77b4\"/>\n     <use xlink:href=\"#ma567e8d22f\" x=\"171.821444\" y=\"89.011663\" style=\"fill: #1f77b4; stroke: #1f77b4\"/>\n     <use xlink:href=\"#ma567e8d22f\" x=\"137.201358\" y=\"93.94125\" style=\"fill: #1f77b4; stroke: #1f77b4\"/>\n     <use xlink:href=\"#ma567e8d22f\" x=\"115.718151\" y=\"78.481481\" style=\"fill: #1f77b4; stroke: #1f77b4\"/>\n     <use xlink:href=\"#ma567e8d22f\" x=\"116.407692\" y=\"77.056564\" style=\"fill: #1f77b4; stroke: #1f77b4\"/>\n     <use xlink:href=\"#ma567e8d22f\" x=\"190.220775\" y=\"116.915215\" style=\"fill: #1f77b4; stroke: #1f77b4\"/>\n     <use xlink:href=\"#ma567e8d22f\" x=\"116.345706\" y=\"63.994004\" style=\"fill: #1f77b4; stroke: #1f77b4\"/>\n     <use xlink:href=\"#ma567e8d22f\" x=\"182.38326\" y=\"132.113281\" style=\"fill: #1f77b4; stroke: #1f77b4\"/>\n     <use xlink:href=\"#ma567e8d22f\" x=\"139.508639\" y=\"64.884091\" style=\"fill: #1f77b4; stroke: #1f77b4\"/>\n     <use xlink:href=\"#ma567e8d22f\" x=\"100.449586\" y=\"58.395291\" style=\"fill: #1f77b4; stroke: #1f77b4\"/>\n     <use xlink:href=\"#ma567e8d22f\" x=\"96.876368\" y=\"43.906448\" style=\"fill: #1f77b4; stroke: #1f77b4\"/>\n     <use xlink:href=\"#ma567e8d22f\" x=\"126.56178\" y=\"76.22998\" style=\"fill: #1f77b4; stroke: #1f77b4\"/>\n     <use xlink:href=\"#ma567e8d22f\" x=\"97.092923\" y=\"35.487102\" style=\"fill: #1f77b4; stroke: #1f77b4\"/>\n     <use xlink:href=\"#ma567e8d22f\" x=\"112.023137\" y=\"64.823113\" style=\"fill: #1f77b4; stroke: #1f77b4\"/>\n     <use xlink:href=\"#ma567e8d22f\" x=\"113.24219\" y=\"67.471119\" style=\"fill: #1f77b4; stroke: #1f77b4\"/>\n     <use xlink:href=\"#ma567e8d22f\" x=\"171.325905\" y=\"90.229477\" style=\"fill: #1f77b4; stroke: #1f77b4\"/>\n     <use xlink:href=\"#ma567e8d22f\" x=\"138.657591\" y=\"84.659622\" style=\"fill: #1f77b4; stroke: #1f77b4\"/>\n     <use xlink:href=\"#ma567e8d22f\" x=\"125.004128\" y=\"73.024691\" style=\"fill: #1f77b4; stroke: #1f77b4\"/>\n     <use xlink:href=\"#ma567e8d22f\" x=\"97.717742\" y=\"66.37972\" style=\"fill: #1f77b4; stroke: #1f77b4\"/>\n     <use xlink:href=\"#ma567e8d22f\" x=\"129.952823\" y=\"78.125905\" style=\"fill: #1f77b4; stroke: #1f77b4\"/>\n     <use xlink:href=\"#ma567e8d22f\" x=\"138.014984\" y=\"104.678726\" style=\"fill: #1f77b4; stroke: #1f77b4\"/>\n     <use xlink:href=\"#ma567e8d22f\" x=\"93.908702\" y=\"41.19492\" style=\"fill: #1f77b4; stroke: #1f77b4\"/>\n     <use xlink:href=\"#ma567e8d22f\" x=\"89.278518\" y=\"55.178953\" style=\"fill: #1f77b4; stroke: #1f77b4\"/>\n     <use xlink:href=\"#ma567e8d22f\" x=\"162.375977\" y=\"97.306155\" style=\"fill: #1f77b4; stroke: #1f77b4\"/>\n     <use xlink:href=\"#ma567e8d22f\" x=\"98.438317\" y=\"54.228323\" style=\"fill: #1f77b4; stroke: #1f77b4\"/>\n     <use xlink:href=\"#ma567e8d22f\" x=\"141.049648\" y=\"85.511882\" style=\"fill: #1f77b4; stroke: #1f77b4\"/>\n     <use xlink:href=\"#ma567e8d22f\" x=\"183.774196\" y=\"119.491508\" style=\"fill: #1f77b4; stroke: #1f77b4\"/>\n     <use xlink:href=\"#ma567e8d22f\" x=\"100.398933\" y=\"64.214059\" style=\"fill: #1f77b4; stroke: #1f77b4\"/>\n     <use xlink:href=\"#ma567e8d22f\" x=\"162.183151\" y=\"89.019923\" style=\"fill: #1f77b4; stroke: #1f77b4\"/>\n     <use xlink:href=\"#ma567e8d22f\" x=\"117.359824\" y=\"64.794468\" style=\"fill: #1f77b4; stroke: #1f77b4\"/>\n     <use xlink:href=\"#ma567e8d22f\" x=\"152.429766\" y=\"67.586687\" style=\"fill: #1f77b4; stroke: #1f77b4\"/>\n     <use xlink:href=\"#ma567e8d22f\" x=\"167.301391\" y=\"93.978468\" style=\"fill: #1f77b4; stroke: #1f77b4\"/>\n     <use xlink:href=\"#ma567e8d22f\" x=\"143.408696\" y=\"71.054106\" style=\"fill: #1f77b4; stroke: #1f77b4\"/>\n     <use xlink:href=\"#ma567e8d22f\" x=\"129.407069\" y=\"70.321776\" style=\"fill: #1f77b4; stroke: #1f77b4\"/>\n     <use xlink:href=\"#ma567e8d22f\" x=\"111.829712\" y=\"69.585679\" style=\"fill: #1f77b4; stroke: #1f77b4\"/>\n     <use xlink:href=\"#ma567e8d22f\" x=\"151.500121\" y=\"97.621382\" style=\"fill: #1f77b4; stroke: #1f77b4\"/>\n     <use xlink:href=\"#ma567e8d22f\" x=\"147.709101\" y=\"57.651416\" style=\"fill: #1f77b4; stroke: #1f77b4\"/>\n     <use xlink:href=\"#ma567e8d22f\" x=\"132.570757\" y=\"84.42766\" style=\"fill: #1f77b4; stroke: #1f77b4\"/>\n     <use xlink:href=\"#ma567e8d22f\" x=\"123.485621\" y=\"77.478852\" style=\"fill: #1f77b4; stroke: #1f77b4\"/>\n     <use xlink:href=\"#ma567e8d22f\" x=\"136.057957\" y=\"73.321933\" style=\"fill: #1f77b4; stroke: #1f77b4\"/>\n     <use xlink:href=\"#ma567e8d22f\" x=\"87.216677\" y=\"54.106576\" style=\"fill: #1f77b4; stroke: #1f77b4\"/>\n     <use xlink:href=\"#ma567e8d22f\" x=\"156.420021\" y=\"64.708747\" style=\"fill: #1f77b4; stroke: #1f77b4\"/>\n     <use xlink:href=\"#ma567e8d22f\" x=\"128.000713\" y=\"79.802198\" style=\"fill: #1f77b4; stroke: #1f77b4\"/>\n     <use xlink:href=\"#ma567e8d22f\" x=\"115.528433\" y=\"83.729805\" style=\"fill: #1f77b4; stroke: #1f77b4\"/>\n     <use xlink:href=\"#ma567e8d22f\" x=\"110.373125\" y=\"63.939695\" style=\"fill: #1f77b4; stroke: #1f77b4\"/>\n     <use xlink:href=\"#ma567e8d22f\" x=\"161.957989\" y=\"105.880708\" style=\"fill: #1f77b4; stroke: #1f77b4\"/>\n     <use xlink:href=\"#ma567e8d22f\" x=\"169.820237\" y=\"92.918924\" style=\"fill: #1f77b4; stroke: #1f77b4\"/>\n     <use xlink:href=\"#ma567e8d22f\" x=\"144.087602\" y=\"73.111241\" style=\"fill: #1f77b4; stroke: #1f77b4\"/>\n     <use xlink:href=\"#ma567e8d22f\" x=\"112.18128\" y=\"75.431939\" style=\"fill: #1f77b4; stroke: #1f77b4\"/>\n     <use xlink:href=\"#ma567e8d22f\" x=\"179.745283\" y=\"77.254228\" style=\"fill: #1f77b4; stroke: #1f77b4\"/>\n     <use xlink:href=\"#ma567e8d22f\" x=\"145.888911\" y=\"81.58541\" style=\"fill: #1f77b4; stroke: #1f77b4\"/>\n     <use xlink:href=\"#ma567e8d22f\" x=\"98.675239\" y=\"59.914997\" style=\"fill: #1f77b4; stroke: #1f77b4\"/>\n     <use xlink:href=\"#ma567e8d22f\" x=\"179.534417\" y=\"105.217718\" style=\"fill: #1f77b4; stroke: #1f77b4\"/>\n     <use xlink:href=\"#ma567e8d22f\" x=\"139.165311\" y=\"85.108469\" style=\"fill: #1f77b4; stroke: #1f77b4\"/>\n     <use xlink:href=\"#ma567e8d22f\" x=\"173.444674\" y=\"99.096193\" style=\"fill: #1f77b4; stroke: #1f77b4\"/>\n     <use xlink:href=\"#ma567e8d22f\" x=\"142.421787\" y=\"79.230715\" style=\"fill: #1f77b4; stroke: #1f77b4\"/>\n     <use xlink:href=\"#ma567e8d22f\" x=\"131.314436\" y=\"85.012787\" style=\"fill: #1f77b4; stroke: #1f77b4\"/>\n     <use xlink:href=\"#ma567e8d22f\" x=\"158.095699\" y=\"84.205389\" style=\"fill: #1f77b4; stroke: #1f77b4\"/>\n     <use xlink:href=\"#ma567e8d22f\" x=\"100.94944\" y=\"55.926979\" style=\"fill: #1f77b4; stroke: #1f77b4\"/>\n     <use xlink:href=\"#ma567e8d22f\" x=\"180.59224\" y=\"115.875496\" style=\"fill: #1f77b4; stroke: #1f77b4\"/>\n     <use xlink:href=\"#ma567e8d22f\" x=\"132.335732\" y=\"85.174696\" style=\"fill: #1f77b4; stroke: #1f77b4\"/>\n     <use xlink:href=\"#ma567e8d22f\" x=\"158.606662\" y=\"89.490808\" style=\"fill: #1f77b4; stroke: #1f77b4\"/>\n     <use xlink:href=\"#ma567e8d22f\" x=\"155.611006\" y=\"101.847026\" style=\"fill: #1f77b4; stroke: #1f77b4\"/>\n     <use xlink:href=\"#ma567e8d22f\" x=\"144.589536\" y=\"72.24221\" style=\"fill: #1f77b4; stroke: #1f77b4\"/>\n     <use xlink:href=\"#ma567e8d22f\" x=\"168.571689\" y=\"103.911178\" style=\"fill: #1f77b4; stroke: #1f77b4\"/>\n     <use xlink:href=\"#ma567e8d22f\" x=\"91.533373\" y=\"65.059236\" style=\"fill: #1f77b4; stroke: #1f77b4\"/>\n     <use xlink:href=\"#ma567e8d22f\" x=\"138.451829\" y=\"81.908693\" style=\"fill: #1f77b4; stroke: #1f77b4\"/>\n     <use xlink:href=\"#ma567e8d22f\" x=\"170.98929\" y=\"85.853322\" style=\"fill: #1f77b4; stroke: #1f77b4\"/>\n     <use xlink:href=\"#ma567e8d22f\" x=\"111.694438\" y=\"64.07288\" style=\"fill: #1f77b4; stroke: #1f77b4\"/>\n     <use xlink:href=\"#ma567e8d22f\" x=\"102.158383\" y=\"57.802462\" style=\"fill: #1f77b4; stroke: #1f77b4\"/>\n     <use xlink:href=\"#ma567e8d22f\" x=\"86.101339\" y=\"47.000071\" style=\"fill: #1f77b4; stroke: #1f77b4\"/>\n     <use xlink:href=\"#ma567e8d22f\" x=\"143.696975\" y=\"100.891328\" style=\"fill: #1f77b4; stroke: #1f77b4\"/>\n     <use xlink:href=\"#ma567e8d22f\" x=\"164.229153\" y=\"89.765434\" style=\"fill: #1f77b4; stroke: #1f77b4\"/>\n     <use xlink:href=\"#ma567e8d22f\" x=\"176.179557\" y=\"81.869594\" style=\"fill: #1f77b4; stroke: #1f77b4\"/>\n     <use xlink:href=\"#ma567e8d22f\" x=\"148.655342\" y=\"96.450301\" style=\"fill: #1f77b4; stroke: #1f77b4\"/>\n     <use xlink:href=\"#ma567e8d22f\" x=\"131.333837\" y=\"90.148041\" style=\"fill: #1f77b4; stroke: #1f77b4\"/>\n     <use xlink:href=\"#ma567e8d22f\" x=\"143.710656\" y=\"81.405454\" style=\"fill: #1f77b4; stroke: #1f77b4\"/>\n     <use xlink:href=\"#ma567e8d22f\" x=\"111.520045\" y=\"75.968714\" style=\"fill: #1f77b4; stroke: #1f77b4\"/>\n     <use xlink:href=\"#ma567e8d22f\" x=\"164.905167\" y=\"84.884789\" style=\"fill: #1f77b4; stroke: #1f77b4\"/>\n     <use xlink:href=\"#ma567e8d22f\" x=\"115.285173\" y=\"62.890327\" style=\"fill: #1f77b4; stroke: #1f77b4\"/>\n     <use xlink:href=\"#ma567e8d22f\" x=\"173.790812\" y=\"93.103267\" style=\"fill: #1f77b4; stroke: #1f77b4\"/>\n     <use xlink:href=\"#ma567e8d22f\" x=\"97.953183\" y=\"67.343165\" style=\"fill: #1f77b4; stroke: #1f77b4\"/>\n     <use xlink:href=\"#ma567e8d22f\" x=\"153.487139\" y=\"92.263729\" style=\"fill: #1f77b4; stroke: #1f77b4\"/>\n     <use xlink:href=\"#ma567e8d22f\" x=\"140.168708\" y=\"87.558514\" style=\"fill: #1f77b4; stroke: #1f77b4\"/>\n     <use xlink:href=\"#ma567e8d22f\" x=\"132.006689\" y=\"87.444248\" style=\"fill: #1f77b4; stroke: #1f77b4\"/>\n     <use xlink:href=\"#ma567e8d22f\" x=\"157.46467\" y=\"96.75211\" style=\"fill: #1f77b4; stroke: #1f77b4\"/>\n     <use xlink:href=\"#ma567e8d22f\" x=\"94.591953\" y=\"57.601317\" style=\"fill: #1f77b4; stroke: #1f77b4\"/>\n     <use xlink:href=\"#ma567e8d22f\" x=\"140.064393\" y=\"72.456552\" style=\"fill: #1f77b4; stroke: #1f77b4\"/>\n     <use xlink:href=\"#ma567e8d22f\" x=\"89.259912\" y=\"64.180026\" style=\"fill: #1f77b4; stroke: #1f77b4\"/>\n     <use xlink:href=\"#ma567e8d22f\" x=\"160.081643\" y=\"82.693555\" style=\"fill: #1f77b4; stroke: #1f77b4\"/>\n     <use xlink:href=\"#ma567e8d22f\" x=\"165.3528\" y=\"92.203566\" style=\"fill: #1f77b4; stroke: #1f77b4\"/>\n     <use xlink:href=\"#ma567e8d22f\" x=\"67.265177\" y=\"25.817024\" style=\"fill: #1f77b4; stroke: #1f77b4\"/>\n     <use xlink:href=\"#ma567e8d22f\" x=\"145.993147\" y=\"84.004588\" style=\"fill: #1f77b4; stroke: #1f77b4\"/>\n     <use xlink:href=\"#ma567e8d22f\" x=\"136.354859\" y=\"75.513818\" style=\"fill: #1f77b4; stroke: #1f77b4\"/>\n     <use xlink:href=\"#ma567e8d22f\" x=\"148.382836\" y=\"96.028925\" style=\"fill: #1f77b4; stroke: #1f77b4\"/>\n     <use xlink:href=\"#ma567e8d22f\" x=\"95.557609\" y=\"56.476078\" style=\"fill: #1f77b4; stroke: #1f77b4\"/>\n     <use xlink:href=\"#ma567e8d22f\" x=\"81.914732\" y=\"40.962347\" style=\"fill: #1f77b4; stroke: #1f77b4\"/>\n     <use xlink:href=\"#ma567e8d22f\" x=\"76.235273\" y=\"51.111077\" style=\"fill: #1f77b4; stroke: #1f77b4\"/>\n     <use xlink:href=\"#ma567e8d22f\" x=\"107.065733\" y=\"51.682043\" style=\"fill: #1f77b4; stroke: #1f77b4\"/>\n     <use xlink:href=\"#ma567e8d22f\" x=\"137.210547\" y=\"74.269653\" style=\"fill: #1f77b4; stroke: #1f77b4\"/>\n     <use xlink:href=\"#ma567e8d22f\" x=\"142.813531\" y=\"86.878911\" style=\"fill: #1f77b4; stroke: #1f77b4\"/>\n     <use xlink:href=\"#ma567e8d22f\" x=\"206.979255\" y=\"96.274126\" style=\"fill: #1f77b4; stroke: #1f77b4\"/>\n     <use xlink:href=\"#ma567e8d22f\" x=\"143.917065\" y=\"98.321362\" style=\"fill: #1f77b4; stroke: #1f77b4\"/>\n     <use xlink:href=\"#ma567e8d22f\" x=\"124.663883\" y=\"63.323408\" style=\"fill: #1f77b4; stroke: #1f77b4\"/>\n     <use xlink:href=\"#ma567e8d22f\" x=\"166.2029\" y=\"113.339848\" style=\"fill: #1f77b4; stroke: #1f77b4\"/>\n     <use xlink:href=\"#ma567e8d22f\" x=\"126.321497\" y=\"53.432607\" style=\"fill: #1f77b4; stroke: #1f77b4\"/>\n     <use xlink:href=\"#ma567e8d22f\" x=\"56.401579\" y=\"38.511724\" style=\"fill: #1f77b4; stroke: #1f77b4\"/>\n     <use xlink:href=\"#ma567e8d22f\" x=\"191.795618\" y=\"118.842337\" style=\"fill: #1f77b4; stroke: #1f77b4\"/>\n     <use xlink:href=\"#ma567e8d22f\" x=\"124.836153\" y=\"87.187714\" style=\"fill: #1f77b4; stroke: #1f77b4\"/>\n     <use xlink:href=\"#ma567e8d22f\" x=\"180.779172\" y=\"104.39602\" style=\"fill: #1f77b4; stroke: #1f77b4\"/>\n     <use xlink:href=\"#ma567e8d22f\" x=\"102.939804\" y=\"62.684659\" style=\"fill: #1f77b4; stroke: #1f77b4\"/>\n     <use xlink:href=\"#ma567e8d22f\" x=\"86.520378\" y=\"39.9315\" style=\"fill: #1f77b4; stroke: #1f77b4\"/>\n     <use xlink:href=\"#ma567e8d22f\" x=\"110.065015\" y=\"61.373361\" style=\"fill: #1f77b4; stroke: #1f77b4\"/>\n     <use xlink:href=\"#ma567e8d22f\" x=\"146.784731\" y=\"86.879262\" style=\"fill: #1f77b4; stroke: #1f77b4\"/>\n     <use xlink:href=\"#ma567e8d22f\" x=\"133.918923\" y=\"91.254687\" style=\"fill: #1f77b4; stroke: #1f77b4\"/>\n     <use xlink:href=\"#ma567e8d22f\" x=\"116.398476\" y=\"71.426826\" style=\"fill: #1f77b4; stroke: #1f77b4\"/>\n     <use xlink:href=\"#ma567e8d22f\" x=\"132.106738\" y=\"72.679558\" style=\"fill: #1f77b4; stroke: #1f77b4\"/>\n     <use xlink:href=\"#ma567e8d22f\" x=\"154.992142\" y=\"82.817817\" style=\"fill: #1f77b4; stroke: #1f77b4\"/>\n     <use xlink:href=\"#ma567e8d22f\" x=\"115.279105\" y=\"45.507961\" style=\"fill: #1f77b4; stroke: #1f77b4\"/>\n     <use xlink:href=\"#ma567e8d22f\" x=\"103.614199\" y=\"55.769777\" style=\"fill: #1f77b4; stroke: #1f77b4\"/>\n     <use xlink:href=\"#ma567e8d22f\" x=\"135.437125\" y=\"80.240293\" style=\"fill: #1f77b4; stroke: #1f77b4\"/>\n     <use xlink:href=\"#ma567e8d22f\" x=\"142.351853\" y=\"81.648222\" style=\"fill: #1f77b4; stroke: #1f77b4\"/>\n     <use xlink:href=\"#ma567e8d22f\" x=\"101.099247\" y=\"33.965364\" style=\"fill: #1f77b4; stroke: #1f77b4\"/>\n     <use xlink:href=\"#ma567e8d22f\" x=\"93.656692\" y=\"39.871777\" style=\"fill: #1f77b4; stroke: #1f77b4\"/>\n     <use xlink:href=\"#ma567e8d22f\" x=\"119.848902\" y=\"59.452956\" style=\"fill: #1f77b4; stroke: #1f77b4\"/>\n     <use xlink:href=\"#ma567e8d22f\" x=\"116.435858\" y=\"62.79724\" style=\"fill: #1f77b4; stroke: #1f77b4\"/>\n     <use xlink:href=\"#ma567e8d22f\" x=\"92.07628\" y=\"47.843894\" style=\"fill: #1f77b4; stroke: #1f77b4\"/>\n     <use xlink:href=\"#ma567e8d22f\" x=\"145.526034\" y=\"85.254662\" style=\"fill: #1f77b4; stroke: #1f77b4\"/>\n     <use xlink:href=\"#ma567e8d22f\" x=\"136.888932\" y=\"77.221726\" style=\"fill: #1f77b4; stroke: #1f77b4\"/>\n     <use xlink:href=\"#ma567e8d22f\" x=\"126.725877\" y=\"72.697413\" style=\"fill: #1f77b4; stroke: #1f77b4\"/>\n     <use xlink:href=\"#ma567e8d22f\" x=\"156.963634\" y=\"88.836355\" style=\"fill: #1f77b4; stroke: #1f77b4\"/>\n     <use xlink:href=\"#ma567e8d22f\" x=\"115.054471\" y=\"72.962493\" style=\"fill: #1f77b4; stroke: #1f77b4\"/>\n     <use xlink:href=\"#ma567e8d22f\" x=\"199.036571\" y=\"117.269314\" style=\"fill: #1f77b4; stroke: #1f77b4\"/>\n     <use xlink:href=\"#ma567e8d22f\" x=\"162.551415\" y=\"81.490115\" style=\"fill: #1f77b4; stroke: #1f77b4\"/>\n     <use xlink:href=\"#ma567e8d22f\" x=\"159.497089\" y=\"97.029436\" style=\"fill: #1f77b4; stroke: #1f77b4\"/>\n     <use xlink:href=\"#ma567e8d22f\" x=\"114.036395\" y=\"81.574053\" style=\"fill: #1f77b4; stroke: #1f77b4\"/>\n     <use xlink:href=\"#ma567e8d22f\" x=\"167.234323\" y=\"98.223961\" style=\"fill: #1f77b4; stroke: #1f77b4\"/>\n     <use xlink:href=\"#ma567e8d22f\" x=\"115.656202\" y=\"82.424555\" style=\"fill: #1f77b4; stroke: #1f77b4\"/>\n     <use xlink:href=\"#ma567e8d22f\" x=\"148.367435\" y=\"102.362473\" style=\"fill: #1f77b4; stroke: #1f77b4\"/>\n     <use xlink:href=\"#ma567e8d22f\" x=\"196.298546\" y=\"115.40714\" style=\"fill: #1f77b4; stroke: #1f77b4\"/>\n     <use xlink:href=\"#ma567e8d22f\" x=\"102.555033\" y=\"54.655894\" style=\"fill: #1f77b4; stroke: #1f77b4\"/>\n     <use xlink:href=\"#ma567e8d22f\" x=\"139.566804\" y=\"78.302813\" style=\"fill: #1f77b4; stroke: #1f77b4\"/>\n     <use xlink:href=\"#ma567e8d22f\" x=\"108.685478\" y=\"55.051738\" style=\"fill: #1f77b4; stroke: #1f77b4\"/>\n     <use xlink:href=\"#ma567e8d22f\" x=\"100.465374\" y=\"55.131795\" style=\"fill: #1f77b4; stroke: #1f77b4\"/>\n     <use xlink:href=\"#ma567e8d22f\" x=\"151.764577\" y=\"77.621711\" style=\"fill: #1f77b4; stroke: #1f77b4\"/>\n     <use xlink:href=\"#ma567e8d22f\" x=\"185.232298\" y=\"91.724142\" style=\"fill: #1f77b4; stroke: #1f77b4\"/>\n     <use xlink:href=\"#ma567e8d22f\" x=\"88.916525\" y=\"45.893471\" style=\"fill: #1f77b4; stroke: #1f77b4\"/>\n     <use xlink:href=\"#ma567e8d22f\" x=\"111.177607\" y=\"69.994491\" style=\"fill: #1f77b4; stroke: #1f77b4\"/>\n     <use xlink:href=\"#ma567e8d22f\" x=\"143.178548\" y=\"80.513902\" style=\"fill: #1f77b4; stroke: #1f77b4\"/>\n     <use xlink:href=\"#ma567e8d22f\" x=\"121.611734\" y=\"76.346116\" style=\"fill: #1f77b4; stroke: #1f77b4\"/>\n     <use xlink:href=\"#ma567e8d22f\" x=\"143.688296\" y=\"80.951951\" style=\"fill: #1f77b4; stroke: #1f77b4\"/>\n     <use xlink:href=\"#ma567e8d22f\" x=\"119.192361\" y=\"61.73186\" style=\"fill: #1f77b4; stroke: #1f77b4\"/>\n     <use xlink:href=\"#ma567e8d22f\" x=\"123.801897\" y=\"68.438068\" style=\"fill: #1f77b4; stroke: #1f77b4\"/>\n     <use xlink:href=\"#ma567e8d22f\" x=\"131.084403\" y=\"81.481737\" style=\"fill: #1f77b4; stroke: #1f77b4\"/>\n     <use xlink:href=\"#ma567e8d22f\" x=\"135.363422\" y=\"65.951219\" style=\"fill: #1f77b4; stroke: #1f77b4\"/>\n     <use xlink:href=\"#ma567e8d22f\" x=\"143.095242\" y=\"94.045865\" style=\"fill: #1f77b4; stroke: #1f77b4\"/>\n     <use xlink:href=\"#ma567e8d22f\" x=\"159.518514\" y=\"81.21249\" style=\"fill: #1f77b4; stroke: #1f77b4\"/>\n     <use xlink:href=\"#ma567e8d22f\" x=\"122.270386\" y=\"82.623672\" style=\"fill: #1f77b4; stroke: #1f77b4\"/>\n     <use xlink:href=\"#ma567e8d22f\" x=\"161.218239\" y=\"64.42098\" style=\"fill: #1f77b4; stroke: #1f77b4\"/>\n     <use xlink:href=\"#ma567e8d22f\" x=\"105.272384\" y=\"61.796795\" style=\"fill: #1f77b4; stroke: #1f77b4\"/>\n     <use xlink:href=\"#ma567e8d22f\" x=\"136.812974\" y=\"71.139667\" style=\"fill: #1f77b4; stroke: #1f77b4\"/>\n     <use xlink:href=\"#ma567e8d22f\" x=\"122.163055\" y=\"70.47377\" style=\"fill: #1f77b4; stroke: #1f77b4\"/>\n     <use xlink:href=\"#ma567e8d22f\" x=\"118.765158\" y=\"58.633463\" style=\"fill: #1f77b4; stroke: #1f77b4\"/>\n     <use xlink:href=\"#ma567e8d22f\" x=\"135.17428\" y=\"73.587311\" style=\"fill: #1f77b4; stroke: #1f77b4\"/>\n     <use xlink:href=\"#ma567e8d22f\" x=\"130.017799\" y=\"72.209623\" style=\"fill: #1f77b4; stroke: #1f77b4\"/>\n     <use xlink:href=\"#ma567e8d22f\" x=\"127.992528\" y=\"77.105023\" style=\"fill: #1f77b4; stroke: #1f77b4\"/>\n     <use xlink:href=\"#ma567e8d22f\" x=\"102.445977\" y=\"49.362181\" style=\"fill: #1f77b4; stroke: #1f77b4\"/>\n     <use xlink:href=\"#ma567e8d22f\" x=\"150.387415\" y=\"67.797248\" style=\"fill: #1f77b4; stroke: #1f77b4\"/>\n     <use xlink:href=\"#ma567e8d22f\" x=\"95.206086\" y=\"55.788239\" style=\"fill: #1f77b4; stroke: #1f77b4\"/>\n     <use xlink:href=\"#ma567e8d22f\" x=\"159.988088\" y=\"108.647003\" style=\"fill: #1f77b4; stroke: #1f77b4\"/>\n     <use xlink:href=\"#ma567e8d22f\" x=\"188.274068\" y=\"110.92744\" style=\"fill: #1f77b4; stroke: #1f77b4\"/>\n     <use xlink:href=\"#ma567e8d22f\" x=\"142.412015\" y=\"88.700335\" style=\"fill: #1f77b4; stroke: #1f77b4\"/>\n     <use xlink:href=\"#ma567e8d22f\" x=\"110.423043\" y=\"48.355615\" style=\"fill: #1f77b4; stroke: #1f77b4\"/>\n     <use xlink:href=\"#ma567e8d22f\" x=\"143.938224\" y=\"79.89961\" style=\"fill: #1f77b4; stroke: #1f77b4\"/>\n     <use xlink:href=\"#ma567e8d22f\" x=\"101.526119\" y=\"61.979744\" style=\"fill: #1f77b4; stroke: #1f77b4\"/>\n     <use xlink:href=\"#ma567e8d22f\" x=\"114.716775\" y=\"61.055075\" style=\"fill: #1f77b4; stroke: #1f77b4\"/>\n     <use xlink:href=\"#ma567e8d22f\" x=\"130.090963\" y=\"70.967086\" style=\"fill: #1f77b4; stroke: #1f77b4\"/>\n     <use xlink:href=\"#ma567e8d22f\" x=\"167.838562\" y=\"97.954805\" style=\"fill: #1f77b4; stroke: #1f77b4\"/>\n     <use xlink:href=\"#ma567e8d22f\" x=\"86.708376\" y=\"54.880829\" style=\"fill: #1f77b4; stroke: #1f77b4\"/>\n     <use xlink:href=\"#ma567e8d22f\" x=\"215.364915\" y=\"136.922727\" style=\"fill: #1f77b4; stroke: #1f77b4\"/>\n     <use xlink:href=\"#ma567e8d22f\" x=\"129.716286\" y=\"70.792036\" style=\"fill: #1f77b4; stroke: #1f77b4\"/>\n     <use xlink:href=\"#ma567e8d22f\" x=\"124.159371\" y=\"74.256788\" style=\"fill: #1f77b4; stroke: #1f77b4\"/>\n     <use xlink:href=\"#ma567e8d22f\" x=\"126.678046\" y=\"58.693463\" style=\"fill: #1f77b4; stroke: #1f77b4\"/>\n     <use xlink:href=\"#ma567e8d22f\" x=\"116.904665\" y=\"78.552669\" style=\"fill: #1f77b4; stroke: #1f77b4\"/>\n     <use xlink:href=\"#ma567e8d22f\" x=\"126.828074\" y=\"63.973885\" style=\"fill: #1f77b4; stroke: #1f77b4\"/>\n     <use xlink:href=\"#ma567e8d22f\" x=\"167.49215\" y=\"91.362662\" style=\"fill: #1f77b4; stroke: #1f77b4\"/>\n     <use xlink:href=\"#ma567e8d22f\" x=\"111.222749\" y=\"61.442058\" style=\"fill: #1f77b4; stroke: #1f77b4\"/>\n     <use xlink:href=\"#ma567e8d22f\" x=\"143.231862\" y=\"89.961854\" style=\"fill: #1f77b4; stroke: #1f77b4\"/>\n     <use xlink:href=\"#ma567e8d22f\" x=\"145.731949\" y=\"87.383996\" style=\"fill: #1f77b4; stroke: #1f77b4\"/>\n     <use xlink:href=\"#ma567e8d22f\" x=\"129.016414\" y=\"63.350369\" style=\"fill: #1f77b4; stroke: #1f77b4\"/>\n     <use xlink:href=\"#ma567e8d22f\" x=\"189.590783\" y=\"109.322562\" style=\"fill: #1f77b4; stroke: #1f77b4\"/>\n     <use xlink:href=\"#ma567e8d22f\" x=\"111.801841\" y=\"76.408021\" style=\"fill: #1f77b4; stroke: #1f77b4\"/>\n     <use xlink:href=\"#ma567e8d22f\" x=\"121.810709\" y=\"75.804304\" style=\"fill: #1f77b4; stroke: #1f77b4\"/>\n     <use xlink:href=\"#ma567e8d22f\" x=\"160.190391\" y=\"99.502997\" style=\"fill: #1f77b4; stroke: #1f77b4\"/>\n     <use xlink:href=\"#ma567e8d22f\" x=\"142.671252\" y=\"85.406491\" style=\"fill: #1f77b4; stroke: #1f77b4\"/>\n     <use xlink:href=\"#ma567e8d22f\" x=\"144.266073\" y=\"72.452849\" style=\"fill: #1f77b4; stroke: #1f77b4\"/>\n     <use xlink:href=\"#ma567e8d22f\" x=\"139.880945\" y=\"84.751462\" style=\"fill: #1f77b4; stroke: #1f77b4\"/>\n    </g>\n   </g>\n   <g id=\"matplotlib.axis_1\">\n    <g id=\"xtick_1\">\n     <g id=\"line2d_1\">\n      <defs>\n       <path id=\"ma9fde2aa29\" d=\"M 0 0 \nL 0 3.5 \n\" style=\"stroke: #000000; stroke-width: 0.8\"/>\n      </defs>\n      <g>\n       <use xlink:href=\"#ma9fde2aa29\" x=\"79.006296\" y=\"143.1\" style=\"stroke: #000000; stroke-width: 0.8\"/>\n      </g>\n     </g>\n     <g id=\"text_1\">\n      <!-- −2 -->\n      <g transform=\"translate(71.635202 157.698438)scale(0.1 -0.1)\">\n       <defs>\n        <path id=\"DejaVuSans-2212\" d=\"M 678 2272 \nL 4684 2272 \nL 4684 1741 \nL 678 1741 \nL 678 2272 \nz\n\" transform=\"scale(0.015625)\"/>\n        <path id=\"DejaVuSans-32\" d=\"M 1228 531 \nL 3431 531 \nL 3431 0 \nL 469 0 \nL 469 531 \nQ 828 903 1448 1529 \nQ 2069 2156 2228 2338 \nQ 2531 2678 2651 2914 \nQ 2772 3150 2772 3378 \nQ 2772 3750 2511 3984 \nQ 2250 4219 1831 4219 \nQ 1534 4219 1204 4116 \nQ 875 4013 500 3803 \nL 500 4441 \nQ 881 4594 1212 4672 \nQ 1544 4750 1819 4750 \nQ 2544 4750 2975 4387 \nQ 3406 4025 3406 3419 \nQ 3406 3131 3298 2873 \nQ 3191 2616 2906 2266 \nQ 2828 2175 2409 1742 \nQ 1991 1309 1228 531 \nz\n\" transform=\"scale(0.015625)\"/>\n       </defs>\n       <use xlink:href=\"#DejaVuSans-2212\"/>\n       <use xlink:href=\"#DejaVuSans-32\" x=\"83.789062\"/>\n      </g>\n     </g>\n    </g>\n    <g id=\"xtick_2\">\n     <g id=\"line2d_2\">\n      <g>\n       <use xlink:href=\"#ma9fde2aa29\" x=\"135.221738\" y=\"143.1\" style=\"stroke: #000000; stroke-width: 0.8\"/>\n      </g>\n     </g>\n     <g id=\"text_2\">\n      <!-- 0 -->\n      <g transform=\"translate(132.040488 157.698438)scale(0.1 -0.1)\">\n       <defs>\n        <path id=\"DejaVuSans-30\" d=\"M 2034 4250 \nQ 1547 4250 1301 3770 \nQ 1056 3291 1056 2328 \nQ 1056 1369 1301 889 \nQ 1547 409 2034 409 \nQ 2525 409 2770 889 \nQ 3016 1369 3016 2328 \nQ 3016 3291 2770 3770 \nQ 2525 4250 2034 4250 \nz\nM 2034 4750 \nQ 2819 4750 3233 4129 \nQ 3647 3509 3647 2328 \nQ 3647 1150 3233 529 \nQ 2819 -91 2034 -91 \nQ 1250 -91 836 529 \nQ 422 1150 422 2328 \nQ 422 3509 836 4129 \nQ 1250 4750 2034 4750 \nz\n\" transform=\"scale(0.015625)\"/>\n       </defs>\n       <use xlink:href=\"#DejaVuSans-30\"/>\n      </g>\n     </g>\n    </g>\n    <g id=\"xtick_3\">\n     <g id=\"line2d_3\">\n      <g>\n       <use xlink:href=\"#ma9fde2aa29\" x=\"191.43718\" y=\"143.1\" style=\"stroke: #000000; stroke-width: 0.8\"/>\n      </g>\n     </g>\n     <g id=\"text_3\">\n      <!-- 2 -->\n      <g transform=\"translate(188.25593 157.698438)scale(0.1 -0.1)\">\n       <use xlink:href=\"#DejaVuSans-32\"/>\n      </g>\n     </g>\n    </g>\n   </g>\n   <g id=\"matplotlib.axis_2\">\n    <g id=\"ytick_1\">\n     <g id=\"line2d_4\">\n      <defs>\n       <path id=\"ma02d466730\" d=\"M 0 0 \nL -3.5 0 \n\" style=\"stroke: #000000; stroke-width: 0.8\"/>\n      </defs>\n      <g>\n       <use xlink:href=\"#ma02d466730\" x=\"28.942188\" y=\"120.53441\" style=\"stroke: #000000; stroke-width: 0.8\"/>\n      </g>\n     </g>\n     <g id=\"text_4\">\n      <!-- −5 -->\n      <g transform=\"translate(7.2 124.333629)scale(0.1 -0.1)\">\n       <defs>\n        <path id=\"DejaVuSans-35\" d=\"M 691 4666 \nL 3169 4666 \nL 3169 4134 \nL 1269 4134 \nL 1269 2991 \nQ 1406 3038 1543 3061 \nQ 1681 3084 1819 3084 \nQ 2600 3084 3056 2656 \nQ 3513 2228 3513 1497 \nQ 3513 744 3044 326 \nQ 2575 -91 1722 -91 \nQ 1428 -91 1123 -41 \nQ 819 9 494 109 \nL 494 744 \nQ 775 591 1075 516 \nQ 1375 441 1709 441 \nQ 2250 441 2565 725 \nQ 2881 1009 2881 1497 \nQ 2881 1984 2565 2268 \nQ 2250 2553 1709 2553 \nQ 1456 2553 1204 2497 \nQ 953 2441 691 2322 \nL 691 4666 \nz\n\" transform=\"scale(0.015625)\"/>\n       </defs>\n       <use xlink:href=\"#DejaVuSans-2212\"/>\n       <use xlink:href=\"#DejaVuSans-35\" x=\"83.789062\"/>\n      </g>\n     </g>\n    </g>\n    <g id=\"ytick_2\">\n     <g id=\"line2d_5\">\n      <g>\n       <use xlink:href=\"#ma02d466730\" x=\"28.942188\" y=\"96.699416\" style=\"stroke: #000000; stroke-width: 0.8\"/>\n      </g>\n     </g>\n     <g id=\"text_5\">\n      <!-- 0 -->\n      <g transform=\"translate(15.579688 100.498635)scale(0.1 -0.1)\">\n       <use xlink:href=\"#DejaVuSans-30\"/>\n      </g>\n     </g>\n    </g>\n    <g id=\"ytick_3\">\n     <g id=\"line2d_6\">\n      <g>\n       <use xlink:href=\"#ma02d466730\" x=\"28.942188\" y=\"72.864423\" style=\"stroke: #000000; stroke-width: 0.8\"/>\n      </g>\n     </g>\n     <g id=\"text_6\">\n      <!-- 5 -->\n      <g transform=\"translate(15.579688 76.663641)scale(0.1 -0.1)\">\n       <use xlink:href=\"#DejaVuSans-35\"/>\n      </g>\n     </g>\n    </g>\n    <g id=\"ytick_4\">\n     <g id=\"line2d_7\">\n      <g>\n       <use xlink:href=\"#ma02d466730\" x=\"28.942188\" y=\"49.029429\" style=\"stroke: #000000; stroke-width: 0.8\"/>\n      </g>\n     </g>\n     <g id=\"text_7\">\n      <!-- 10 -->\n      <g transform=\"translate(9.217188 52.828648)scale(0.1 -0.1)\">\n       <defs>\n        <path id=\"DejaVuSans-31\" d=\"M 794 531 \nL 1825 531 \nL 1825 4091 \nL 703 3866 \nL 703 4441 \nL 1819 4666 \nL 2450 4666 \nL 2450 531 \nL 3481 531 \nL 3481 0 \nL 794 0 \nL 794 531 \nz\n\" transform=\"scale(0.015625)\"/>\n       </defs>\n       <use xlink:href=\"#DejaVuSans-31\"/>\n       <use xlink:href=\"#DejaVuSans-30\" x=\"63.623047\"/>\n      </g>\n     </g>\n    </g>\n    <g id=\"ytick_5\">\n     <g id=\"line2d_8\">\n      <g>\n       <use xlink:href=\"#ma02d466730\" x=\"28.942188\" y=\"25.194436\" style=\"stroke: #000000; stroke-width: 0.8\"/>\n      </g>\n     </g>\n     <g id=\"text_8\">\n      <!-- 15 -->\n      <g transform=\"translate(9.217188 28.993654)scale(0.1 -0.1)\">\n       <use xlink:href=\"#DejaVuSans-31\"/>\n       <use xlink:href=\"#DejaVuSans-35\" x=\"63.623047\"/>\n      </g>\n     </g>\n    </g>\n   </g>\n   <g id=\"patch_3\">\n    <path d=\"M 28.942188 143.1 \nL 28.942188 7.2 \n\" style=\"fill: none; stroke: #000000; stroke-width: 0.8; stroke-linejoin: miter; stroke-linecap: square\"/>\n   </g>\n   <g id=\"patch_4\">\n    <path d=\"M 224.242188 143.1 \nL 224.242188 7.2 \n\" style=\"fill: none; stroke: #000000; stroke-width: 0.8; stroke-linejoin: miter; stroke-linecap: square\"/>\n   </g>\n   <g id=\"patch_5\">\n    <path d=\"M 28.942188 143.1 \nL 224.242188 143.1 \n\" style=\"fill: none; stroke: #000000; stroke-width: 0.8; stroke-linejoin: miter; stroke-linecap: square\"/>\n   </g>\n   <g id=\"patch_6\">\n    <path d=\"M 28.942188 7.2 \nL 224.242188 7.2 \n\" style=\"fill: none; stroke: #000000; stroke-width: 0.8; stroke-linejoin: miter; stroke-linecap: square\"/>\n   </g>\n  </g>\n </g>\n <defs>\n  <clipPath id=\"pc2bc70c9ef\">\n   <rect x=\"28.942188\" y=\"7.2\" width=\"195.3\" height=\"135.9\"/>\n  </clipPath>\n </defs>\n</svg>\n",
      "text/plain": [
       "<Figure size 252x180 with 1 Axes>"
      ]
     },
     "metadata": {
      "needs_background": "light"
     },
     "output_type": "display_data"
    }
   ],
   "source": [
    "d2l.set_figsize()\n",
    "d2l.plt.scatter(features[:, (1)].detach().numpy(), labels.detach().numpy(), 1);"
   ]
  },
  {
   "cell_type": "markdown",
   "id": "d5fe0935",
   "metadata": {
    "origin_pos": 12
   },
   "source": [
    "## 读取数据集\n",
    "\n",
    "回想一下，训练模型时要对数据集进行遍历，每次抽取一小批量样本，并使用它们来更新我们的模型。\n",
    "由于这个过程是训练机器学习算法的基础，所以有必要定义一个函数，\n",
    "该函数能打乱数据集中的样本并以小批量方式获取数据。\n",
    "\n",
    "在下面的代码中，我们[**定义一个`data_iter`函数，\n",
    "该函数接收批量大小、特征矩阵和标签向量作为输入，生成大小为`batch_size`的小批量**]。\n",
    "每个小批量包含一组特征和标签。\n"
   ]
  },
  {
   "cell_type": "code",
   "execution_count": 8,
   "id": "8dc7dd4d",
   "metadata": {
    "execution": {
     "iopub.execute_input": "2022-07-31T02:22:16.957413Z",
     "iopub.status.busy": "2022-07-31T02:22:16.956941Z",
     "iopub.status.idle": "2022-07-31T02:22:16.961711Z",
     "shell.execute_reply": "2022-07-31T02:22:16.961030Z"
    },
    "origin_pos": 13,
    "tab": [
     "pytorch"
    ]
   },
   "outputs": [],
   "source": [
    "def data_iter(batch_size, features, labels):\n",
    "    num_examples = len(features)\n",
    "    indices = list(range(num_examples))\n",
    "    # 这些样本是随机读取的，没有特定的顺序\n",
    "    \n",
    "    random.shuffle(indices)\n",
    "    for i in range(0, num_examples, batch_size): # 步长为batch_size\n",
    "        # 即返回batch， 包含多个indices\n",
    "        batch_indices = torch.tensor(\n",
    "            indices[i: min(i + batch_size, num_examples)])\n",
    "        yield features[batch_indices], labels[batch_indices] # generator"
   ]
  },
  {
   "cell_type": "markdown",
   "id": "ed9c71d4",
   "metadata": {
    "origin_pos": 15
   },
   "source": [
    "通常，我们利用GPU并行运算的优势，处理合理大小的“小批量”。\n",
    "每个样本都可以并行地进行模型计算，且每个样本损失函数的梯度也可以被并行计算。\n",
    "GPU可以在处理几百个样本时，所花费的时间不比处理一个样本时多太多。\n",
    "\n",
    "我们直观感受一下小批量运算：读取第一个小批量数据样本并打印。\n",
    "每个批量的特征维度显示批量大小和输入特征数。\n",
    "同样的，批量的标签形状与`batch_size`相等。\n"
   ]
  },
  {
   "cell_type": "code",
   "execution_count": 13,
   "id": "b9a97c6c",
   "metadata": {
    "execution": {
     "iopub.execute_input": "2022-07-31T02:22:16.964710Z",
     "iopub.status.busy": "2022-07-31T02:22:16.964288Z",
     "iopub.status.idle": "2022-07-31T02:22:16.970713Z",
     "shell.execute_reply": "2022-07-31T02:22:16.970081Z"
    },
    "origin_pos": 16,
    "tab": [
     "pytorch"
    ]
   },
   "outputs": [
    {
     "name": "stdout",
     "output_type": "stream",
     "text": [
      "tensor([[-0.7874,  1.0945],\n",
      "        [ 0.8580, -0.0941],\n",
      "        [-2.5729, -0.8327],\n",
      "        [ 0.2882, -0.1959],\n",
      "        [-1.1951, -1.2312],\n",
      "        [-1.9750,  1.1022],\n",
      "        [-0.5111, -1.4669],\n",
      "        [-0.2154,  1.7471],\n",
      "        [-0.8062,  0.4533],\n",
      "        [ 1.3427, -1.4788]]) \n",
      " tensor([[-1.1068],\n",
      "        [ 6.2435],\n",
      "        [ 1.8923],\n",
      "        [ 5.4347],\n",
      "        [ 6.0023],\n",
      "        [-3.4908],\n",
      "        [ 8.1719],\n",
      "        [-2.1780],\n",
      "        [ 1.0518],\n",
      "        [11.9211]])\n"
     ]
    }
   ],
   "source": [
    "batch_size = 10\n",
    "\n",
    "for X, y in data_iter(batch_size, features, labels):\n",
    "    print(X, '\\n', y)\n",
    "    break"
   ]
  },
  {
   "cell_type": "markdown",
   "id": "00a11a79",
   "metadata": {
    "origin_pos": 17
   },
   "source": [
    "当我们运行迭代时，我们会连续地获得不同的小批量，直至遍历完整个数据集。\n",
    "上面实现的迭代对于教学来说很好，但它的执行效率很低，可能会在实际问题上陷入麻烦。\n",
    "例如，它要求我们将所有数据加载到内存中，并执行大量的随机内存访问。\n",
    "在深度学习框架中实现的内置迭代器效率要高得多，\n",
    "它可以处理存储在文件中的数据和数据流提供的数据。\n",
    "\n",
    "## 初始化模型参数\n",
    "\n",
    "[**在我们开始用小批量随机梯度下降优化我们的模型参数之前**]，\n",
    "(**我们需要先有一些参数**)。\n",
    "在下面的代码中，我们通过从均值为0、标准差为0.01的正态分布中采样随机数来初始化权重，\n",
    "并将偏置初始化为0。\n"
   ]
  },
  {
   "cell_type": "code",
   "execution_count": 8,
   "id": "4c402aaa",
   "metadata": {
    "execution": {
     "iopub.execute_input": "2022-07-31T02:22:16.974692Z",
     "iopub.status.busy": "2022-07-31T02:22:16.974223Z",
     "iopub.status.idle": "2022-07-31T02:22:16.978612Z",
     "shell.execute_reply": "2022-07-31T02:22:16.977979Z"
    },
    "origin_pos": 19,
    "tab": [
     "pytorch"
    ]
   },
   "outputs": [],
   "source": [
    "w = torch.normal(0, 0.01, size=(2,1), requires_grad=True)\n",
    "b = torch.zeros(1, requires_grad=True)"
   ]
  },
  {
   "cell_type": "markdown",
   "id": "676dc3c0",
   "metadata": {
    "origin_pos": 21
   },
   "source": [
    "在初始化参数之后，我们的任务是更新这些参数，直到这些参数足够拟合我们的数据。\n",
    "每次更新都需要计算损失函数关于模型参数的梯度。\n",
    "有了这个梯度，我们就可以向减小损失的方向更新每个参数。\n",
    "因为手动计算梯度很枯燥而且容易出错，所以没有人会手动计算梯度。\n",
    "我们使用 :numref:`sec_autograd`中引入的自动微分来计算梯度。\n",
    "\n",
    "## 定义模型\n",
    "\n",
    "接下来，我们必须[**定义模型，将模型的输入和参数同模型的输出关联起来。**]\n",
    "回想一下，要计算线性模型的输出，\n",
    "我们只需计算输入特征$\\mathbf{X}$和模型权重$\\mathbf{w}$的矩阵-向量乘法后加上偏置$b$。\n",
    "注意，上面的$\\mathbf{Xw}$是一个向量，而$b$是一个标量。\n",
    "回想一下 :numref:`subsec_broadcasting`中描述的广播机制：\n",
    "当我们用一个向量加一个标量时，标量会被加到向量的每个分量上。\n"
   ]
  },
  {
   "cell_type": "code",
   "execution_count": 9,
   "id": "645b5bd3",
   "metadata": {
    "execution": {
     "iopub.execute_input": "2022-07-31T02:22:16.982895Z",
     "iopub.status.busy": "2022-07-31T02:22:16.982343Z",
     "iopub.status.idle": "2022-07-31T02:22:16.985872Z",
     "shell.execute_reply": "2022-07-31T02:22:16.985262Z"
    },
    "origin_pos": 22,
    "tab": [
     "pytorch"
    ]
   },
   "outputs": [],
   "source": [
    "def linreg(X, w, b):  #@save\n",
    "    \"\"\"线性回归模型\"\"\"\n",
    "    return torch.matmul(X, w) + b"
   ]
  },
  {
   "cell_type": "markdown",
   "id": "f4a12cb6",
   "metadata": {
    "origin_pos": 23
   },
   "source": [
    "## [**定义损失函数**]\n",
    "\n",
    "因为需要计算损失函数的梯度，所以我们应该先定义损失函数。\n",
    "这里我们使用 :numref:`sec_linear_regression`中描述的平方损失函数。\n",
    "在实现中，我们需要将真实值`y`的形状转换为和预测值`y_hat`的形状相同。\n"
   ]
  },
  {
   "cell_type": "code",
   "execution_count": 10,
   "id": "fb2b680e",
   "metadata": {
    "execution": {
     "iopub.execute_input": "2022-07-31T02:22:16.989920Z",
     "iopub.status.busy": "2022-07-31T02:22:16.989411Z",
     "iopub.status.idle": "2022-07-31T02:22:16.993061Z",
     "shell.execute_reply": "2022-07-31T02:22:16.992350Z"
    },
    "origin_pos": 24,
    "tab": [
     "pytorch"
    ]
   },
   "outputs": [],
   "source": [
    "def squared_loss(y_hat, y):  #@save\n",
    "    \"\"\"均方损失\"\"\"\n",
    "    return (y_hat - y.reshape(y_hat.shape)) ** 2 / 2"
   ]
  },
  {
   "cell_type": "markdown",
   "id": "fa046fd8",
   "metadata": {
    "origin_pos": 25
   },
   "source": [
    "## (**定义优化算法**)\n",
    "\n",
    "正如我们在 :numref:`sec_linear_regression`中讨论的，线性回归有解析解。\n",
    "尽管线性回归有解析解，但本书中的其他模型却没有。\n",
    "这里我们介绍小批量随机梯度下降。\n",
    "\n",
    "在每一步中，使用从数据集中随机抽取的一个小批量，然后根据参数计算损失的梯度。\n",
    "接下来，朝着减少损失的方向更新我们的参数。\n",
    "下面的函数实现小批量随机梯度下降更新。\n",
    "该函数接受模型参数集合、学习速率和批量大小作为输入。每\n",
    "一步更新的大小由学习速率`lr`决定。\n",
    "因为我们计算的损失是一个批量样本的总和，所以我们用批量大小（`batch_size`）\n",
    "来规范化步长，这样步长大小就不会取决于我们对批量大小的选择。\n"
   ]
  },
  {
   "cell_type": "code",
   "execution_count": 11,
   "id": "63f0cd85",
   "metadata": {
    "execution": {
     "iopub.execute_input": "2022-07-31T02:22:16.997231Z",
     "iopub.status.busy": "2022-07-31T02:22:16.996703Z",
     "iopub.status.idle": "2022-07-31T02:22:17.001042Z",
     "shell.execute_reply": "2022-07-31T02:22:17.000440Z"
    },
    "origin_pos": 27,
    "tab": [
     "pytorch"
    ]
   },
   "outputs": [],
   "source": [
    "def sgd(params, lr, batch_size):  #@save\n",
    "    \"\"\"【已经backward()之后】！小批量随机梯度下降\"\"\"\n",
    "    # 得到grad后，下降，更新参数，所以不要再更新梯度，且梯度要归零\n",
    "    with torch.no_grad(): # 被该语句wrap 起来的部分将不会track 梯度\n",
    "        for param in params:\n",
    "            param -= lr * param.grad / batch_size\n",
    "            param.grad.zero_()"
   ]
  },
  {
   "cell_type": "markdown",
   "id": "04f0aaa2",
   "metadata": {
    "origin_pos": 29
   },
   "source": [
    "## 训练\n",
    "\n",
    "现在我们已经准备好了模型训练所有需要的要素，可以实现主要的[**训练过程**]部分了。\n",
    "理解这段代码至关重要，因为从事深度学习后，\n",
    "你会一遍又一遍地看到几乎相同的训练过程。\n",
    "在每次迭代中，我们读取一小批量训练样本，并通过我们的模型来获得一组预测。\n",
    "计算完损失后，我们开始反向传播，存储每个参数的梯度。\n",
    "最后，我们调用优化算法`sgd`来更新模型参数。\n",
    "\n",
    "概括一下，我们将执行以下循环：\n",
    "\n",
    "* 初始化参数\n",
    "* 重复以下训练，直到完成\n",
    "    * 计算梯度$\\mathbf{g} \\leftarrow \\partial_{(\\mathbf{w},b)} \\frac{1}{|\\mathcal{B}|} \\sum_{i \\in \\mathcal{B}} l(\\mathbf{x}^{(i)}, y^{(i)}, \\mathbf{w}, b)$\n",
    "    * 更新参数$(\\mathbf{w}, b) \\leftarrow (\\mathbf{w}, b) - \\eta \\mathbf{g}$\n",
    "\n",
    "在每个*迭代周期*（epoch）中，我们使用`data_iter`函数遍历整个数据集，\n",
    "并将训练数据集中所有样本都使用一次（假设样本数能够被批量大小整除）。\n",
    "这里的迭代周期个数`num_epochs`和学习率`lr`都是超参数，分别设为3和0.03。\n",
    "设置超参数很棘手，需要通过反复试验进行调整。\n",
    "我们现在忽略这些细节，以后会在 :numref:`chap_optimization`中详细介绍。\n"
   ]
  },
  {
   "cell_type": "code",
   "execution_count": 12,
   "id": "56b68104",
   "metadata": {
    "execution": {
     "iopub.execute_input": "2022-07-31T02:22:17.004978Z",
     "iopub.status.busy": "2022-07-31T02:22:17.004496Z",
     "iopub.status.idle": "2022-07-31T02:22:17.008655Z",
     "shell.execute_reply": "2022-07-31T02:22:17.007950Z"
    },
    "origin_pos": 30,
    "tab": [
     "pytorch"
    ]
   },
   "outputs": [],
   "source": [
    "lr = 0.03\n",
    "num_epochs = 3\n",
    "net = linreg # 指定网络\n",
    "loss = squared_loss"
   ]
  },
  {
   "cell_type": "code",
   "execution_count": 13,
   "id": "3566115c",
   "metadata": {
    "execution": {
     "iopub.execute_input": "2022-07-31T02:22:17.011859Z",
     "iopub.status.busy": "2022-07-31T02:22:17.011351Z",
     "iopub.status.idle": "2022-07-31T02:22:17.128087Z",
     "shell.execute_reply": "2022-07-31T02:22:17.127385Z"
    },
    "origin_pos": 32,
    "tab": [
     "pytorch"
    ]
   },
   "outputs": [
    {
     "name": "stdout",
     "output_type": "stream",
     "text": [
      "epoch 1, loss 0.026352\n",
      "epoch 2, loss 0.000093\n",
      "epoch 3, loss 0.000054\n"
     ]
    }
   ],
   "source": [
    "for epoch in range(num_epochs):\n",
    "    for X, y in data_iter(batch_size, features, labels):\n",
    "        l = loss(net(X, w, b), y)  # X和y的小批量损失\n",
    "        # 因为l形状是(batch_size,1)，而不是一个标量。l中的所有元素被加到一起，\n",
    "        # 并以此计算关于[w,b]的梯度\n",
    "        l.sum().backward() # BP过程；loss默认是，所有求和的！\n",
    "        sgd([w, b], lr, batch_size)  # 得到grad后，下降，更新参数\n",
    "    \n",
    "    # 一个epoch后，算一次总的train loss\n",
    "    with torch.no_grad(): # 被该语句wrap 起来的部分将不会track 梯度\n",
    "        train_l = loss(net(features, w, b), labels)\n",
    "        print(f'epoch {epoch + 1}, loss {float(train_l.mean()):f}')"
   ]
  },
  {
   "cell_type": "markdown",
   "id": "c4354e4c",
   "metadata": {
    "origin_pos": 34
   },
   "source": [
    "因为我们使用的是自己合成的数据集，所以我们知道真正的参数是什么。\n",
    "因此，我们可以通过[**比较真实参数和通过训练学到的参数来评估训练的成功程度**]。\n",
    "事实上，真实参数和通过训练学到的参数确实非常接近。\n"
   ]
  },
  {
   "cell_type": "code",
   "execution_count": 14,
   "id": "fa346f5a",
   "metadata": {
    "execution": {
     "iopub.execute_input": "2022-07-31T02:22:17.132400Z",
     "iopub.status.busy": "2022-07-31T02:22:17.131912Z",
     "iopub.status.idle": "2022-07-31T02:22:17.137249Z",
     "shell.execute_reply": "2022-07-31T02:22:17.136497Z"
    },
    "origin_pos": 35,
    "tab": [
     "pytorch"
    ]
   },
   "outputs": [
    {
     "name": "stdout",
     "output_type": "stream",
     "text": [
      "w的估计误差: tensor([ 0.0002, -0.0001], grad_fn=<SubBackward0>)\n",
      "b的估计误差: tensor([0.0006], grad_fn=<RsubBackward1>)\n"
     ]
    }
   ],
   "source": [
    "print(f'w的估计误差: {true_w - w.reshape(true_w.shape)}')\n",
    "print(f'b的估计误差: {true_b - b}')"
   ]
  },
  {
   "cell_type": "markdown",
   "id": "455f19b0",
   "metadata": {
    "origin_pos": 36
   },
   "source": [
    "注意，我们不应该想当然地认为我们能够完美地求解参数。\n",
    "在机器学习中，我们通常不太关心恢复真正的参数，而更关心如何高度准确预测参数。\n",
    "幸运的是，即使是在复杂的优化问题上，随机梯度下降通常也能找到非常好的解。\n",
    "其中一个原因是，在深度网络中存在许多参数组合能够实现高度精确的预测。\n",
    "\n",
    "## 小结\n",
    "\n",
    "* 我们学习了深度网络是如何实现和优化的。在这一过程中只使用张量和自动微分，不需要定义层或复杂的优化器。\n",
    "* 这一节只触及到了表面知识。在下面的部分中，我们将基于刚刚介绍的概念描述其他模型，并学习如何更简洁地实现其他模型。\n",
    "\n",
    "## 练习\n",
    "\n",
    "1. 如果我们将权重初始化为零，会发生什么。算法仍然有效吗？\n",
    "1. 假设你是[乔治·西蒙·欧姆](https://en.wikipedia.org/wiki/Georg_Ohm)，试图为电压和电流的关系建立一个模型。你能使用自动微分来学习模型的参数吗?\n",
    "1. 您能基于[普朗克定律](https://en.wikipedia.org/wiki/Planck%27s_law)使用光谱能量密度来确定物体的温度吗？\n",
    "1. 如果你想计算二阶导数可能会遇到什么问题？你会如何解决这些问题？\n",
    "1. 为什么在`squared_loss`函数中需要使用`reshape`函数？\n",
    "1. 尝试使用不同的学习率，观察损失函数值下降的快慢。\n",
    "1. 如果样本个数不能被批量大小整除，`data_iter`函数的行为会有什么变化？\n"
   ]
  },
  {
   "cell_type": "markdown",
   "id": "9b6958d4",
   "metadata": {
    "origin_pos": 38,
    "tab": [
     "pytorch"
    ]
   },
   "source": [
    "[Discussions](https://discuss.d2l.ai/t/1778)\n"
   ]
  }
 ],
 "metadata": {
  "kernelspec": {
   "display_name": "Python 3.8.13 ('d2l')",
   "language": "python",
   "name": "python3"
  },
  "language_info": {
   "codemirror_mode": {
    "name": "ipython",
    "version": 3
   },
   "file_extension": ".py",
   "mimetype": "text/x-python",
   "name": "python",
   "nbconvert_exporter": "python",
   "pygments_lexer": "ipython3",
   "version": "3.8.13"
  },
  "vscode": {
   "interpreter": {
    "hash": "9a14068495a7f442070bfa310febced32f3fbaeba46f4878ed5681604454db8e"
   }
  }
 },
 "nbformat": 4,
 "nbformat_minor": 5
}
